{
 "cells": [
  {
   "cell_type": "code",
   "execution_count": 1,
   "metadata": {
    "ExecuteTime": {
     "end_time": "2020-09-18T16:15:28.454139Z",
     "start_time": "2020-09-18T16:15:28.448392Z"
    }
   },
   "outputs": [
    {
     "name": "stdout",
     "output_type": "stream",
     "text": [
      "/home/chris/DSR/plum_music\n"
     ]
    }
   ],
   "source": [
    "%cd .."
   ]
  },
  {
   "cell_type": "code",
   "execution_count": 2,
   "metadata": {
    "ExecuteTime": {
     "end_time": "2020-09-18T16:15:35.265791Z",
     "start_time": "2020-09-18T16:15:30.720054Z"
    },
    "hide_input": false
   },
   "outputs": [],
   "source": [
    "import pickle\n",
    "from collections import Counter\n",
    "from pathlib import Path\n",
    "\n",
    "from config.config import get_constants_dict\n",
    "from models.processing import get_encoding_for_genre\n",
    "from utils.magenta_models_utils import get_model\n",
    "from utils.magenta_note_seq_utils import get_sec_for_num_bars\n",
    "from utils.data_utils import get_all_songs_from_genres_of_size\n",
    "from utils.lakh_utils import get_midi_path, get_matched_midi_md5, get_msd_score_matches\n",
    "from utils.msd_utils import get_artist\n",
    "\n",
    "import numpy as np\n",
    "import pandas as pd\n",
    "import plotly.express as px\n",
    "from sklearn.manifold import TSNE\n",
    "from scipy.spatial import distance\n",
    "\n",
    "import note_seq as ns\n",
    "from mido import MidiFile\n",
    "from music21 import midi"
   ]
  },
  {
   "cell_type": "code",
   "execution_count": 3,
   "metadata": {
    "ExecuteTime": {
     "end_time": "2020-09-18T16:15:35.377787Z",
     "start_time": "2020-09-18T16:15:35.273485Z"
    }
   },
   "outputs": [],
   "source": [
    "constants = get_constants_dict()\n",
    "meta = pd.read_csv(constants[\"LMD_METADATA_CSV_FILE\"])"
   ]
  },
  {
   "cell_type": "code",
   "execution_count": 15,
   "metadata": {
    "ExecuteTime": {
     "end_time": "2020-09-18T16:21:29.210050Z",
     "start_time": "2020-09-18T16:21:29.192919Z"
    },
    "code_folding": [
     21,
     32,
     43,
     62
    ]
   },
   "outputs": [],
   "source": [
    "def load_encodings(genre=\"all\"):        \n",
    "    encodings_path = Path(constants[\"DATA_PATH\"], \"encodings\")\n",
    "    if genre == \"all\":\n",
    "        encodings_files = sorted(list(encodings_path.glob(\"*.pkl\")))\n",
    "    else:\n",
    "        encodings_files = sorted(list(encodings_path.glob(f\"*{genre}*.pkl\")))\n",
    "        \n",
    "    genre_labels, encodings, msd_ids = [], [], []\n",
    "    for file in encodings_files:\n",
    "        with file.open('rb') as f:\n",
    "            if \"genre\" in file.stem:\n",
    "                genre_labels.extend(pickle.load(f))\n",
    "            elif \"encoding\" in file.stem:\n",
    "                encodings.extend(pickle.load(f))\n",
    "            elif \"msd\" in file.stem:\n",
    "                msd_ids.extend(pickle.load(f))\n",
    "\n",
    "    assert len(genre_labels) == len(encodings) == len(msd_ids)\n",
    "    return genre_labels, encodings, msd_ids\n",
    "\n",
    "        \n",
    "def play_msd(msd_id):\n",
    "    return ns.play_sequence(\n",
    "        ns.midi_file_to_note_sequence(\n",
    "            get_midi_path(\n",
    "                msd_id,\n",
    "                get_matched_midi_md5(msd_id, get_msd_score_matches())\n",
    "            )\n",
    "        )\n",
    "    )\n",
    "\n",
    "\n",
    "def tsne_embedd(\n",
    "    encodings_arr,\n",
    "    n_components=2,\n",
    "    perplexity=30,\n",
    "    early_exaggeration=12.0,\n",
    "    learning_rate=200.0,\n",
    "    n_iter=1000,\n",
    "    n_iter_without_progress=300,\n",
    "    metric='euclidean',\n",
    "    init='random',\n",
    "    random_state=42\n",
    "):\n",
    "    if isinstance(encodings_arr, list):\n",
    "        enc = np.vstack(encodings_arr)\n",
    "    else:\n",
    "        enc = encodings_arrcodings_arr\n",
    "        \n",
    "    return TSNE(\n",
    "    n_components=n_components,\n",
    "    perplexity=perplexity,\n",
    "    early_exaggeration=early_exaggeration,\n",
    "    learning_rate=learning_rate,\n",
    "    n_iter=n_iter,\n",
    "    n_iter_without_progress=n_iter_without_progress,\n",
    "    metric=metric,\n",
    "    init=init,\n",
    "    random_state=random_state\n",
    ").fit_transform(enc)\n",
    "    \n",
    "    \n",
    "def plot_embedding(embedded, labels, ids, df=None):\n",
    "    if not df:\n",
    "        df = pd.read_csv(constants[\"LMD_METADATA_CSV_FILE\"])\n",
    "        df = df[df.msdID.isin(ids)]\n",
    "        \n",
    "    if embedded.shape[1] == 2:\n",
    "        return px.scatter(\n",
    "            data_frame=df,\n",
    "            x=embedded[:,0],\n",
    "            y=embedded[:,1],\n",
    "            color=labels,\n",
    "            hover_name=ids,\n",
    "            hover_data=[\"artist\", \"track\"],\n",
    "            labels={\"color\": \"genre\"}\n",
    "        )\n",
    "    elif embedded.shape[1] == 3:\n",
    "        return px.scatter_3d(\n",
    "            data_frame=df,\n",
    "            x=embedded[:,0],\n",
    "            y=embedded[:,1],\n",
    "            z=embedded[:,2],\n",
    "            color=labels,\n",
    "            hover_name=ids,\n",
    "            hover_data=[\"artist\", \"track\"],\n",
    "            labels={\"color\": \"genre\"}\n",
    "        )\n",
    "    else:\n",
    "        pass\n",
    "      "
   ]
  },
  {
   "cell_type": "markdown",
   "metadata": {},
   "source": [
    "## Load the encodings"
   ]
  },
  {
   "cell_type": "code",
   "execution_count": 16,
   "metadata": {
    "ExecuteTime": {
     "end_time": "2020-09-18T16:21:34.408205Z",
     "start_time": "2020-09-18T16:21:34.396952Z"
    }
   },
   "outputs": [],
   "source": [
    "genre_labels, encodings, msd_ids = load_encodings()"
   ]
  },
  {
   "cell_type": "code",
   "execution_count": 22,
   "metadata": {
    "ExecuteTime": {
     "end_time": "2020-09-18T16:23:29.973622Z",
     "start_time": "2020-09-18T16:23:29.969300Z"
    }
   },
   "outputs": [],
   "source": [
    "encodings_arr = np.vstack(encodings)"
   ]
  },
  {
   "cell_type": "code",
   "execution_count": 19,
   "metadata": {
    "ExecuteTime": {
     "end_time": "2020-09-18T16:21:39.746602Z",
     "start_time": "2020-09-18T16:21:39.741365Z"
    }
   },
   "outputs": [],
   "source": [
    "a = meta[meta.msdID.isin(msd_ids)].loc[:, [\"msdID\", \"mb_genre\"]]\n"
   ]
  },
  {
   "cell_type": "code",
   "execution_count": 20,
   "metadata": {
    "ExecuteTime": {
     "end_time": "2020-09-18T16:21:41.605442Z",
     "start_time": "2020-09-18T16:21:41.488477Z"
    }
   },
   "outputs": [
    {
     "name": "stdout",
     "output_type": "stream",
     "text": [
      "rock rock\n",
      "classic pop and rock classic pop and rock\n",
      "italian italian\n",
      "canadian canadian\n",
      "rock and indie rock and indie\n",
      "uk uk\n",
      "soul and reggae soul and reggae\n",
      "french french\n",
      "british british\n",
      "uk uk\n",
      "folk folk\n",
      "classic pop and rock classic pop and rock\n",
      "pop and chart pop and chart\n",
      "classic pop and rock classic pop and rock\n",
      "classic pop and rock classic pop and rock\n",
      "pop pop\n",
      "classic pop and rock classic pop and rock\n",
      "classic pop and rock classic pop and rock\n",
      "rock and indie rock and indie\n",
      "british british\n",
      "country country\n",
      "soul and reggae soul and reggae\n",
      "classic pop and rock classic pop and rock\n",
      "classic pop and rock classic pop and rock\n",
      "classic pop and rock classic pop and rock\n",
      "classic pop and rock classic pop and rock\n",
      "italian italian\n",
      "country country\n",
      "country country\n",
      "uk uk\n",
      "french french\n",
      "classical classical\n",
      "rock rock\n",
      "american american\n",
      "classic pop and rock classic pop and rock\n",
      "rock and indie rock and indie\n",
      "pop and chart pop and chart\n",
      "hard rock hard rock\n",
      "classic pop and rock classic pop and rock\n",
      "classic pop and rock classic pop and rock\n",
      "irish irish\n",
      "uk uk\n",
      "italian italian\n",
      "production music production music\n",
      "american american\n",
      "production music production music\n",
      "pop and chart pop and chart\n",
      "classic pop and rock classic pop and rock\n",
      "soul and reggae soul and reggae\n",
      "american american\n",
      "uk uk\n",
      "french french\n",
      "pop and chart pop and chart\n",
      "french french\n",
      "american american\n",
      "french french\n",
      "classic pop and rock classic pop and rock\n",
      "uk uk\n",
      "italian italian\n",
      "soul and reggae soul and reggae\n",
      "hip hop rnb and dance hall hip hop rnb and dance hall\n",
      "uk uk\n",
      "uk uk\n",
      "irish irish\n",
      "classic pop and rock classic pop and rock\n",
      "soul and reggae soul and reggae\n",
      "uk uk\n",
      "hip hop rnb and dance hall hip hop rnb and dance hall\n",
      "rock and indie rock and indie\n",
      "heavy metal heavy metal\n",
      "rock rock\n",
      "country country\n",
      "spanish spanish\n",
      "new wave new wave\n",
      "uk uk\n",
      "rock rock\n",
      "alternative rock alternative rock\n",
      "canadian canadian\n",
      "rock and indie rock and indie\n",
      "classic pop and rock classic pop and rock\n",
      "rock and indie rock and indie\n",
      "folk folk\n",
      "uk uk\n",
      "irish irish\n",
      "rock and indie rock and indie\n",
      "spanish spanish\n",
      "rock and indie rock and indie\n",
      "italian italian\n",
      "british british\n",
      "british british\n",
      "pop pop\n",
      "country country\n",
      "pop and chart pop and chart\n",
      "classic pop and rock classic pop and rock\n",
      "italian italian\n",
      "british british\n",
      "folk folk\n",
      "uk uk\n",
      "american american\n",
      "uk uk\n",
      "classic pop and rock classic pop and rock\n",
      "uk uk\n",
      "french french\n",
      "pop and chart pop and chart\n",
      "folk folk\n",
      "pop pop\n",
      "american american\n",
      "american american\n",
      "uk uk\n",
      "pop and chart pop and chart\n",
      "new wave new wave\n",
      "country country\n",
      "classic pop and rock classic pop and rock\n",
      "classic pop and rock classic pop and rock\n",
      "new wave new wave\n",
      "folk folk\n",
      "finnish finnish\n",
      "uk uk\n",
      "uk uk\n",
      "rock and indie rock and indie\n",
      "classic pop and rock classic pop and rock\n",
      "british british\n",
      "british british\n",
      "australian australian\n",
      "classic pop and rock classic pop and rock\n",
      "hip hop rnb and dance hall hip hop rnb and dance hall\n",
      "italian italian\n",
      "alternative rock alternative rock\n",
      "rock and indie rock and indie\n",
      "alternative rock alternative rock\n",
      "hip hop rnb and dance hall hip hop rnb and dance hall\n",
      "french french\n",
      "australian australian\n",
      "american american\n",
      "folk folk\n",
      "british british\n",
      "uk uk\n",
      "british british\n",
      "hard rock hard rock\n",
      "british british\n",
      "rock and indie rock and indie\n",
      "hip hop rnb and dance hall hip hop rnb and dance hall\n",
      "french french\n",
      "new wave new wave\n",
      "finnish finnish\n",
      "production music production music\n",
      "folk folk\n",
      "swedish swedish\n",
      "uk uk\n",
      "french french\n",
      "production music production music\n",
      "hip hop rnb and dance hall hip hop rnb and dance hall\n",
      "rock and indie rock and indie\n",
      "italian italian\n",
      "alternative rock alternative rock\n",
      "rock rock\n",
      "classic pop and rock classic pop and rock\n",
      "irish irish\n",
      "uk uk\n",
      "british british\n",
      "uk uk\n",
      "french french\n",
      "pop pop\n",
      "british british\n",
      "european european\n",
      "uk uk\n",
      "australian australian\n",
      "british british\n",
      "canadian canadian\n",
      "american american\n",
      "british british\n",
      "uk uk\n",
      "british british\n",
      "rock and indie rock and indie\n",
      "classic pop and rock classic pop and rock\n",
      "french french\n",
      "uk uk\n",
      "british british\n",
      "uk uk\n",
      "classic pop and rock classic pop and rock\n",
      "rock rock\n",
      "hard rock hard rock\n",
      "classic pop and rock classic pop and rock\n",
      "french french\n",
      "uk uk\n",
      "italian italian\n",
      "british british\n",
      "australian australian\n",
      "classic pop and rock classic pop and rock\n",
      "country country\n",
      "alternative rock alternative rock\n",
      "uk uk\n",
      "classic pop and rock classic pop and rock\n",
      "classic pop and rock classic pop and rock\n",
      "hip hop rnb and dance hall hip hop rnb and dance hall\n",
      "australian australian\n",
      "folk folk\n",
      "italian italian\n",
      "classic pop and rock classic pop and rock\n",
      "classic pop and rock classic pop and rock\n",
      "european european\n",
      "classic pop and rock classic pop and rock\n",
      "american american\n",
      "british british\n",
      "american american\n",
      "rock and indie rock and indie\n",
      "classic pop and rock classic pop and rock\n",
      "rock rock\n",
      "uk uk\n",
      "rock rock\n",
      "new wave new wave\n",
      "swedish swedish\n",
      "british british\n",
      "classic pop and rock classic pop and rock\n",
      "pop and chart pop and chart\n",
      "irish irish\n",
      "british british\n",
      "country country\n",
      "classic pop and rock classic pop and rock\n",
      "hip hop rnb and dance hall hip hop rnb and dance hall\n",
      "soul and reggae soul and reggae\n",
      "classic pop and rock classic pop and rock\n",
      "british british\n",
      "pop and chart pop and chart\n",
      "hip hop rnb and dance hall hip hop rnb and dance hall\n",
      "new wave new wave\n",
      "rock rock\n",
      "british british\n",
      "folk folk\n",
      "french french\n",
      "classic pop and rock classic pop and rock\n",
      "rock and indie rock and indie\n",
      "finnish finnish\n",
      "british british\n",
      "alternative rock alternative rock\n",
      "italian italian\n",
      "uk uk\n",
      "italian italian\n",
      "classic pop and rock classic pop and rock\n",
      "classic pop and rock classic pop and rock\n",
      "irish irish\n",
      "classic pop and rock classic pop and rock\n",
      "classic pop and rock classic pop and rock\n",
      "hip hop rnb and dance hall hip hop rnb and dance hall\n",
      "classic pop and rock classic pop and rock\n",
      "folk folk\n",
      "pop and chart pop and chart\n",
      "rock rock\n",
      "pop pop\n",
      "british british\n",
      "irish irish\n",
      "country country\n",
      "country country\n",
      "alternative rock alternative rock\n",
      "classic pop and rock classic pop and rock\n",
      "rock rock\n",
      "classic pop and rock classic pop and rock\n",
      "british british\n",
      "dance and electronica dance and electronica\n",
      "american american\n",
      "european european\n",
      "hip hop rnb and dance hall hip hop rnb and dance hall\n",
      "classic pop and rock classic pop and rock\n",
      "italian italian\n",
      "hip hop rnb and dance hall hip hop rnb and dance hall\n",
      "pop pop\n",
      "american american\n",
      "uk uk\n",
      "country country\n",
      "french french\n",
      "australian australian\n",
      "uk uk\n",
      "classic pop and rock classic pop and rock\n",
      "classic pop and rock classic pop and rock\n",
      "folk folk\n",
      "country country\n",
      "uk uk\n",
      "pop pop\n",
      "french french\n",
      "dance and electronica dance and electronica\n",
      "rock and indie rock and indie\n",
      "classic pop and rock classic pop and rock\n",
      "american american\n",
      "hip hop rnb and dance hall hip hop rnb and dance hall\n",
      "alternative rock alternative rock\n",
      "hip hop rnb and dance hall hip hop rnb and dance hall\n",
      "italian italian\n",
      "british british\n",
      "folk folk\n",
      "pop pop\n",
      "british british\n",
      "pop pop\n",
      "rock rock\n",
      "uk uk\n",
      "british british\n",
      "rock rock\n",
      "french french\n",
      "finnish finnish\n",
      "rock rock\n",
      "british british\n",
      "british british\n",
      "german german\n",
      "new wave new wave\n",
      "uk uk\n",
      "uk uk\n",
      "uk uk\n",
      "folk folk\n",
      "rock rock\n",
      "folk folk\n",
      "rock and indie rock and indie\n",
      "classic pop and rock classic pop and rock\n",
      "folk folk\n",
      "folk folk\n",
      "country country\n",
      "italian italian\n",
      "uk uk\n",
      "italian italian\n",
      "american american\n",
      "alternative rock alternative rock\n",
      "rock and indie rock and indie\n",
      "american american\n",
      "european european\n",
      "hip hop rnb and dance hall hip hop rnb and dance hall\n",
      "american american\n",
      "british british\n",
      "finnish finnish\n",
      "hip hop rnb and dance hall hip hop rnb and dance hall\n",
      "uk uk\n",
      "british british\n",
      "rock rock\n",
      "rock rock\n",
      "classic pop and rock classic pop and rock\n",
      "british british\n",
      "uk uk\n",
      "pop pop\n",
      "classic pop and rock classic pop and rock\n",
      "classic pop and rock classic pop and rock\n",
      "rnb rnb\n",
      "classic pop and rock classic pop and rock\n",
      "australian australian\n",
      "classic pop and rock classic pop and rock\n",
      "rnb rnb\n",
      "uk uk\n",
      "german german\n",
      "classic pop and rock classic pop and rock\n",
      "new wave new wave\n",
      "classic pop and rock classic pop and rock\n",
      "american american\n",
      "classic pop and rock classic pop and rock\n",
      "canadian canadian\n",
      "british british\n",
      "finnish finnish\n",
      "rock and indie rock and indie\n",
      "new wave new wave\n",
      "british british\n",
      "classic pop and rock classic pop and rock\n",
      "british british\n",
      "uk uk\n",
      "german german\n",
      "canadian canadian\n",
      "hip hop rnb and dance hall hip hop rnb and dance hall\n",
      "australian australian\n",
      "australian australian\n",
      "new wave new wave\n",
      "alternative rock alternative rock\n",
      "british british\n",
      "pop and chart pop and chart\n",
      "hip hop rnb and dance hall hip hop rnb and dance hall\n",
      "folk folk\n",
      "pop and chart pop and chart\n",
      "british british\n",
      "british british\n",
      "classic pop and rock classic pop and rock\n",
      "british british\n",
      "classic pop and rock classic pop and rock\n",
      "classic pop and rock classic pop and rock\n",
      "american american\n",
      "uk uk\n",
      "pop and chart pop and chart\n",
      "country country\n",
      "british british\n",
      "french french\n",
      "alternative rock alternative rock\n",
      "italian italian\n",
      "spanish spanish\n",
      "alternative rock alternative rock\n",
      "american american\n",
      "british british\n",
      "british british\n",
      "pop pop\n",
      "australian australian\n",
      "folk folk\n",
      "german german\n",
      "irish irish\n",
      "german german\n",
      "classic pop and rock classic pop and rock\n",
      "pop pop\n",
      "spanish spanish\n",
      "classic pop and rock classic pop and rock\n",
      "british british\n",
      "canadian canadian\n",
      "classic pop and rock classic pop and rock\n",
      "rock rock\n",
      "classic pop and rock classic pop and rock\n",
      "progressive rock progressive rock\n",
      "hard rock hard rock\n",
      "australian australian\n",
      "uk uk\n",
      "australian australian\n",
      "american american\n",
      "british british\n",
      "folk folk\n",
      "french french\n",
      "hip hop rnb and dance hall hip hop rnb and dance hall\n",
      "american american\n",
      "pop pop\n",
      "classic pop and rock classic pop and rock\n",
      "classic pop and rock classic pop and rock\n",
      "alternative rock alternative rock\n",
      "american american\n",
      "pop and chart pop and chart\n",
      "folk folk\n",
      "soul and reggae soul and reggae\n",
      "uk uk\n",
      "uk uk\n",
      "french french\n",
      "british british\n",
      "rock rock\n",
      "italian italian\n",
      "classic pop and rock classic pop and rock\n",
      "uk uk\n",
      "rock and indie rock and indie\n",
      "rock and indie rock and indie\n",
      "hip hop rnb and dance hall hip hop rnb and dance hall\n",
      "british british\n",
      "uk uk\n",
      "uk uk\n",
      "uk uk\n",
      "american american\n",
      "classic pop and rock classic pop and rock\n",
      "uk uk\n",
      "british british\n",
      "uk uk\n",
      "irish irish\n",
      "british british\n",
      "british british\n",
      "uk uk\n",
      "soul and reggae soul and reggae\n",
      "country country\n",
      "pop and chart pop and chart\n",
      "rock rock\n",
      "country country\n",
      "uk uk\n",
      "canadian canadian\n",
      "country country\n",
      "pop and chart pop and chart\n",
      "british british\n",
      "country country\n",
      "rnb rnb\n",
      "classic pop and rock classic pop and rock\n",
      "uk uk\n",
      "country country\n",
      "american american\n",
      "french french\n",
      "british british\n",
      "classic pop and rock classic pop and rock\n",
      "new wave new wave\n",
      "classic pop and rock classic pop and rock\n",
      "british british\n",
      "uk uk\n",
      "french french\n",
      "spanish spanish\n",
      "hip hop rnb and dance hall hip hop rnb and dance hall\n",
      "classic pop and rock classic pop and rock\n",
      "uk uk\n",
      "uk uk\n",
      "folk folk\n",
      "hard rock hard rock\n",
      "uk uk\n",
      "uk uk\n",
      "australian australian\n",
      "country country\n",
      "uk uk\n",
      "american american\n",
      "new wave new wave\n",
      "italian italian\n",
      "classic pop and rock classic pop and rock\n",
      "folk folk\n",
      "pop and chart pop and chart\n",
      "australian australian\n",
      "new wave new wave\n",
      "uk uk\n",
      "classic pop and rock classic pop and rock\n",
      "finnish finnish\n",
      "canadian canadian\n"
     ]
    }
   ],
   "source": [
    "for _, row in a.iterrows():\n",
    "    idx = msd_ids.index(row.msdID)\n",
    "    print(genre_labels[idx], row.mb_genre)"
   ]
  },
  {
   "cell_type": "code",
   "execution_count": 23,
   "metadata": {
    "ExecuteTime": {
     "end_time": "2020-09-18T16:23:33.435826Z",
     "start_time": "2020-09-18T16:23:33.430142Z"
    }
   },
   "outputs": [
    {
     "data": {
      "text/plain": [
       "[('classic pop and rock', 76),\n",
       " ('uk', 61),\n",
       " ('british', 53),\n",
       " ('american', 26),\n",
       " ('folk', 22),\n",
       " ('french', 21),\n",
       " ('hip hop rnb and dance hall', 21),\n",
       " ('rock and indie', 21),\n",
       " ('country', 20),\n",
       " ('rock', 20),\n",
       " ('italian', 19),\n",
       " ('pop and chart', 17),\n",
       " ('australian', 14),\n",
       " ('alternative rock', 13),\n",
       " ('new wave', 13),\n",
       " ('pop', 13),\n",
       " ('irish', 9),\n",
       " ('canadian', 8),\n",
       " ('soul and reggae', 8),\n",
       " ('finnish', 7),\n",
       " ('german', 5),\n",
       " ('hard rock', 5),\n",
       " ('spanish', 5),\n",
       " ('european', 4),\n",
       " ('production music', 4),\n",
       " ('rnb', 3),\n",
       " ('dance and electronica', 2),\n",
       " ('swedish', 2),\n",
       " ('classical', 1),\n",
       " ('heavy metal', 1),\n",
       " ('progressive rock', 1)]"
      ]
     },
     "execution_count": 23,
     "metadata": {},
     "output_type": "execute_result"
    }
   ],
   "source": [
    "files_per_genre = Counter(genre_labels)\n",
    "files_per_genre.most_common()"
   ]
  },
  {
   "cell_type": "markdown",
   "metadata": {},
   "source": [
    "## Transform in latent space"
   ]
  },
  {
   "cell_type": "code",
   "execution_count": 26,
   "metadata": {
    "ExecuteTime": {
     "end_time": "2020-09-18T16:24:19.162550Z",
     "start_time": "2020-09-18T16:24:12.707839Z"
    }
   },
   "outputs": [],
   "source": [
    "embedded = tsne_embedd(\n",
    "    encodings,\n",
    "    n_components=3,\n",
    "    metric='euclidean',\n",
    "    perplexity=50,\n",
    "    init='pca'\n",
    ")"
   ]
  },
  {
   "cell_type": "code",
   "execution_count": 27,
   "metadata": {
    "ExecuteTime": {
     "end_time": "2020-09-18T16:24:21.449332Z",
     "start_time": "2020-09-18T16:24:21.239557Z"
    }
   },
   "outputs": [
    {
     "data": {
      "application/vnd.plotly.v1+json": {
       "config": {
        "plotlyServerURL": "https://plot.ly"
       },
       "data": [
        {
         "customdata": [
          [
           "Bruce Springsteen",
           "Secret Garden"
          ],
          [
           "Billy Ray Cyrus",
           "I Will"
          ],
          [
           "Eros Ramazzotti",
           "Yo Amaré"
          ],
          [
           "Alanis Morissette",
           "Hand In My Pocket (Album Version)"
          ],
          [
           "Kool & The Gang",
           "Fresh"
          ],
          [
           "Frank Ifield",
           "I Remember You"
          ],
          [
           "Whitney Houston",
           "I'm Every Woman"
          ],
          [
           "Brigitte Bardot / Serge Gainsbourg",
           "Comic Strip"
          ],
          [
           "Limahl",
           "Never Ending Story"
          ],
          [
           "The Equals",
           "Viva Bobby Joe"
          ],
          [
           "Leonard Cohen",
           "Dance Me To The End Of Love"
          ],
          [
           "Irene Cara",
           "Flashdance...What A Feeling"
          ],
          [
           "Jessica Simpson",
           "Part Of Your World"
          ]
         ],
         "hovertemplate": "<b>%{hovertext}</b><br><br>genre=alternative rock<br>x=%{x}<br>y=%{y}<br>z=%{z}<br>artist=%{customdata[0]}<br>track=%{customdata[1]}<extra></extra>",
         "hovertext": [
          "TRRREUJ128F9332B39",
          "TRHTCXG12903CC2F60",
          "TRHRGRH128F9310D1E",
          "TRGEMWS128F145FB5F",
          "TREIADW128EF351919",
          "TRWHHJM128F427C0B7",
          "TRCMAED12903CE0094",
          "TRBRXCF128F4287F2C",
          "TRQAPRM128F9310CCE",
          "TRKXDDX128F92E308A",
          "TROGXGS128E078A493",
          "TROKAVZ128F425532C",
          "TRYIRLE128F145FB3F"
         ],
         "legendgroup": "alternative rock",
         "marker": {
          "color": "#636efa",
          "symbol": "circle"
         },
         "mode": "markers",
         "name": "alternative rock",
         "scene": "scene",
         "showlegend": true,
         "type": "scatter3d",
         "x": [
          108.26126098632812,
          138.9247283935547,
          -1.9447323083877563,
          85.8687744140625,
          -75.96105194091797,
          26.217111587524414,
          131.9589385986328,
          32.76968765258789,
          -6.273192882537842,
          9.636540412902832,
          96.11572265625,
          -22.950206756591797,
          118.1604232788086
         ],
         "y": [
          115.6365737915039,
          -48.89570999145508,
          87.53157806396484,
          107.40930938720703,
          42.09971237182617,
          137.63055419921875,
          -21.183090209960938,
          -35.749271392822266,
          36.05099868774414,
          82.74295806884766,
          -25.677709579467773,
          41.0904541015625,
          -104.60906219482422
         ],
         "z": [
          30.87588119506836,
          61.18776321411133,
          132.7908477783203,
          -4.6857829093933105,
          9.680296897888184,
          -5.62249755859375,
          -86.94478607177734,
          -77.57870483398438,
          -70.63529968261719,
          -121.85334777832031,
          48.776180267333984,
          0.1284227967262268,
          0.5976530909538269
         ]
        },
        {
         "customdata": [
          [
           "Bread",
           "Baby I'm-A Want You (LP Version)"
          ],
          [
           "Shirley & Company",
           "Shame_ Shame_ Shame (Vocal Version)"
          ],
          [
           "Michael Jackson",
           "Bad"
          ],
          [
           "Chic",
           "Le Freak (2006 Remastered LP Version)"
          ],
          [
           "Change",
           "The Glow Of Love  (LP Version)"
          ],
          [
           "Steve Miller Band",
           "Going To The Country"
          ],
          [
           "Coldplay",
           "Spies"
          ],
          [
           "Beth Nielsen Chapman",
           "All I Have (LP Version)"
          ],
          [
           "John Legend",
           "P.D.A. (We Just Don't Care)"
          ],
          [
           "Jennifer Warnes",
           "Right Time Of The Night"
          ],
          [
           "Carter USM",
           "Young Offender's Mum (BBC In Concert)"
          ],
          [
           "Suzi Quatro",
           "Stumblin'In"
          ],
          [
           "Peter Green",
           "Midnight"
          ],
          [
           "Gemelli Diversi",
           "Tu No"
          ],
          [
           "Kenny Rogers",
           "She Believes In Me"
          ],
          [
           "Patty Loveless",
           "There Stands The Glass (Album Version)"
          ],
          [
           "Sade",
           "Nothing Can Come Between Us"
          ],
          [
           "Serge Gainsbourg",
           "Comic Strip"
          ],
          [
           "Percy Grainger & Kristiansand Symfoniorkester",
           "Piano Concerto In A Minor_ Op. 16 - Ii: Adagio"
          ],
          [
           "Eagles",
           "Hotel California"
          ],
          [
           "Dr. Hook",
           "Better Love Next Time"
          ],
          [
           "New Radicals",
           "You Get What You Give"
          ],
          [
           "Kool & The Gang featuring Liberty X",
           "Fresh"
          ],
          [
           "Boogie Pimps Feat. Steve Brookstein",
           "Promised Land [Electric Allstars Club Mix]"
          ],
          [
           "ZZ Top",
           "Sleeping Bag (Remastered LP Version)"
          ],
          [
           "Chic",
           "Le Freak (LP Version)"
          ]
         ],
         "hovertemplate": "<b>%{hovertext}</b><br><br>genre=american<br>x=%{x}<br>y=%{y}<br>z=%{z}<br>artist=%{customdata[0]}<br>track=%{customdata[1]}<extra></extra>",
         "hovertext": [
          "TRXSKTT128F145BCD7",
          "TRTTGVF128F4263953",
          "TRTHKUB128F147BE8F",
          "TRTZIGF128E07921D7",
          "TRICPZT128F92DE371",
          "TRMXGDP12903CEAAAE",
          "TRMUDCR12903CA7ADF",
          "TRHHDYL128F92FC562",
          "TRVRSEF128F4256B0D",
          "TREDXSE128F42B6409",
          "TREDRNA128F932EF15",
          "TRCQXMT128E0786397",
          "TRCLVRT12903CC2FF7",
          "TRBNYZD128F92F3617",
          "TRQALMY128E07830E9",
          "TRQCANY128E0784B99",
          "TRQOAIC128F428A4DB",
          "TRZAVQJ128F92D328F",
          "TRONIFO128F4262360",
          "TROLRQD128F931E3B6",
          "TRLDIVE128E07923D8",
          "TRYTIHJ12903D07DD9",
          "TRYIVBL128F931EC14",
          "TRDUQLH128F933A07B",
          "TRFEIPA128F145BCD6",
          "TRPVIJR128F147EC5B"
         ],
         "legendgroup": "american",
         "marker": {
          "color": "#EF553B",
          "symbol": "circle"
         },
         "mode": "markers",
         "name": "american",
         "scene": "scene",
         "showlegend": true,
         "type": "scatter3d",
         "x": [
          38.95747375488281,
          -110.75403594970703,
          89.27326965332031,
          -30.247600555419922,
          40.42502975463867,
          105.5861587524414,
          -8.42965030670166,
          134.61407470703125,
          -26.085092544555664,
          8.937213897705078,
          143.7402801513672,
          49.020389556884766,
          -119.08382415771484,
          -53.11344909667969,
          20.109397888183594,
          111.26628112792969,
          62.79642868041992,
          52.76829147338867,
          -32.341800689697266,
          12.591106414794922,
          -41.30386734008789,
          -6.889479160308838,
          58.743648529052734,
          -71.52403259277344,
          38.3676872253418,
          53.211238861083984
         ],
         "y": [
          88.42527770996094,
          -12.213143348693848,
          -93.25555419921875,
          123.68397521972656,
          47.463706970214844,
          -46.85404586791992,
          -83.4296646118164,
          79.69794464111328,
          78.59175109863281,
          -17.940114974975586,
          -75.57737731933594,
          60.73736572265625,
          87.37358856201172,
          15.500887870788574,
          56.916255950927734,
          -65.32923126220703,
          -42.669944763183594,
          -38.5813102722168,
          -4.180933952331543,
          53.49900436401367,
          24.263784408569336,
          -51.61974334716797,
          -6.564822196960449,
          -19.487215042114258,
          107.06399536132812,
          36.118019104003906
         ],
         "z": [
          81.93443298339844,
          -62.83929443359375,
          5.272934913635254,
          -72.98091125488281,
          34.94157409667969,
          -2.8677327632904053,
          -89.41524505615234,
          -35.84353256225586,
          -63.09354782104492,
          -75.68189239501953,
          10.606990814208984,
          -120.9320297241211,
          44.9421272277832,
          86.01561737060547,
          152.4251708984375,
          -101.52320861816406,
          -156.33595275878906,
          7.221087455749512,
          104.82494354248047,
          2.712383270263672,
          -61.149269104003906,
          -24.58966827392578,
          8.637020111083984,
          106.3278579711914,
          -3.5416131019592285,
          88.36270904541016
         ]
        },
        {
         "customdata": [
          [
           "The Archies",
           "Sugar Sugar - Original"
          ],
          [
           "Ronan Keating",
           "I Love It When We Do"
          ],
          [
           "Gerry Rafferty",
           "The Royal Mile"
          ],
          [
           "Zucchero",
           "Solo Una Sana Consapevole Libidine Salve Il Giovane Dallo St"
          ],
          [
           "Jean-Jacques Milteau",
           "What A Wonderful World"
          ],
          [
           "New Kids On The Block",
           "Hangin' Tough"
          ],
          [
           "John Anderson",
           "If I Could have My Way"
          ],
          [
           "Atomic Kitten",
           "It's Ok!"
          ],
          [
           "Chic",
           "Le Freak  (Single Edit)"
          ],
          [
           "Whitney Houston",
           "My Love Is Your Love"
          ],
          [
           "Roky Erickson",
           "The Damn Thing (Album Version)"
          ],
          [
           "Craig David",
           "Rendezvous (Album Version)"
          ],
          [
           "Tina Arena & Johnny Bowles",
           "Da Doo Ron Ron"
          ],
          [
           "Just Jack",
           "No Time"
          ]
         ],
         "hovertemplate": "<b>%{hovertext}</b><br><br>genre=australian<br>x=%{x}<br>y=%{y}<br>z=%{z}<br>artist=%{customdata[0]}<br>track=%{customdata[1]}<extra></extra>",
         "hovertext": [
          "TRMPISD12903D05F90",
          "TRHHSYM128F426AA68",
          "TRVUXRF128F429761E",
          "TREUMIQ128F4273C90",
          "TRECZLX128F4269341",
          "TRSTQDQ128F14651A4",
          "TRZRJCI128F92F7C21",
          "TRZDQOU128F92E0F60",
          "TRZDPAF128F92F7C1F",
          "TRLTLJC128F9345529",
          "TRLYMOZ128F9319DA6",
          "TRLYYOV12903CC0590",
          "TRPROCD128F932A528",
          "TRPZUFD128F4273C81"
         ],
         "legendgroup": "australian",
         "marker": {
          "color": "#00cc96",
          "symbol": "circle"
         },
         "mode": "markers",
         "name": "australian",
         "scene": "scene",
         "showlegend": true,
         "type": "scatter3d",
         "x": [
          -2.695955991744995,
          63.093177795410156,
          -148.23251342773438,
          14.907700538635254,
          58.27729034423828,
          16.087474822998047,
          -103.47734832763672,
          36.571983337402344,
          21.991539001464844,
          48.0306282043457,
          131.90052795410156,
          -14.604798316955566,
          53.58192825317383,
          39.74189758300781
         ],
         "y": [
          120.85914611816406,
          -42.83580780029297,
          67.91071319580078,
          -109.63272857666016,
          32.55199432373047,
          -67.57644653320312,
          48.817474365234375,
          -22.817785263061523,
          -119.54767608642578,
          140.1721954345703,
          -0.8516762852668762,
          69.8161849975586,
          -51.313812255859375,
          -115.00386047363281
         ],
         "z": [
          -114.3809585571289,
          68.67375183105469,
          -33.966453552246094,
          40.14841079711914,
          -102.2107925415039,
          -33.08058547973633,
          108.46809387207031,
          66.8565673828125,
          -62.391563415527344,
          -75.59699249267578,
          100.28075408935547,
          7.175602436065674,
          -20.143882751464844,
          33.94599914550781
         ]
        },
        {
         "customdata": [
          [
           "Lara Fabian",
           "Leila"
          ],
          [
           "Counting Crows",
           "Hanginaround"
          ],
          [
           "Pascal Obispo",
           "Où Est L'Elue"
          ],
          [
           "Shirley & Company",
           "Shame_ Shame_ Shame (Instrumental Version)"
          ],
          [
           "Cliff Richard & The Shadows",
           "Lucky Lips"
          ],
          [
           "Zucchero",
           "Il Mare Impetuoso Al Tramonto Sali Sulla Luna E Dietro Una"
          ],
          [
           "Lionel Richie",
           "All Night Long"
          ],
          [
           "Chaka Khan",
           "Through The Fire (Album Version)"
          ],
          [
           "Mungo Jerry",
           "In The Summertime"
          ],
          [
           "Herman's Hermits",
           "Something Is Happening"
          ],
          [
           "Ronan Keating",
           "In This Life"
          ],
          [
           "Sinitta",
           "Toy Boy"
          ],
          [
           "Lionel Richie",
           "All Night Long (All Night)"
          ],
          [
           "Tina Charles",
           "I Love To Love"
          ],
          [
           "Galactic",
           "Liquor Pang (featuring Josh Cohen and Ryan Scully from the Morning 40 Federation)"
          ],
          [
           "Steve Miller Band",
           "Living In The U.S.A. (1991 Digital Remaster)"
          ],
          [
           "Steve Vai",
           "Warm Regards"
          ],
          [
           "Neil Diamond",
           "September Morn"
          ],
          [
           "Bryan White",
           "Bad Day To Let You Go (LP Version)"
          ],
          [
           "M-Clan",
           "Llamando A La Tierra (Serenade From The Stars) - Sin enchufe"
          ],
          [
           "Simple Minds",
           "Mandela Day (Live)"
          ],
          [
           "Five",
           "Slam Dunk (Da Funk)"
          ],
          [
           "Kenny Loggins",
           "Danger Zone"
          ],
          [
           "The Cranberries",
           "Free To Decide"
          ],
          [
           "Alanis Morissette",
           "Hand In My Pocket (Album Version)"
          ],
          [
           "Steve Miller Band",
           "Serenade"
          ],
          [
           "Imagination",
           "Just An Illusion"
          ],
          [
           "Booker T. & The M.G.'s",
           "The Letter"
          ],
          [
           "Joan Osborne",
           "One Of Us"
          ],
          [
           "Cameo",
           "Word Up!"
          ],
          [
           "Ronan Keating",
           "I Love It When We Do"
          ],
          [
           "The Concretes",
           "Lovin Kind"
          ],
          [
           "Enrique Iglesias",
           "Bailamos"
          ],
          [
           "Steve Miller Band",
           "Abracadabra"
          ],
          [
           "Zucchero",
           "Blue"
          ],
          [
           "George Harrison",
           "All Those Years Ago (2009 Digital Remaster)"
          ],
          [
           "Phil Collins",
           "One More Night"
          ],
          [
           "Roch Voisine",
           "Pourtant"
          ],
          [
           "Brooks & Dunn",
           "Whiskey Under The Bridge"
          ],
          [
           "Simple Plan",
           "Your Love Is A Lie (Amended Album Version)"
          ],
          [
           "Hugh Masekela",
           "Saduva"
          ],
          [
           "883",
           "Un Giorno Così"
          ],
          [
           "Bee Gees",
           "Stayin' Alive [Live - Las Vegas 1997] (Album Version)"
          ],
          [
           "Cat Power",
           "Empty Shell"
          ],
          [
           "The Human League",
           "Don't You Want Me (Special Extended Dance Mix)"
          ],
          [
           "Ron Trent",
           "Journeyn2u"
          ],
          [
           "S Club 7",
           "Bring It All Back"
          ],
          [
           "Boney M.",
           "Hooray! Hooray! It's A Holi-Holiday"
          ],
          [
           "Sade",
           "Cherish The Day"
          ],
          [
           "Lara Fabian",
           "Tout"
          ],
          [
           "The Rembrandts",
           "I'll Be There For You (Theme From Friends) (LP Version)"
          ],
          [
           "Tracy Chapman",
           "Baby Can I Hold You (LP Version)"
          ],
          [
           "Patrick Nuo",
           "Radio Sun"
          ]
         ],
         "hovertemplate": "<b>%{hovertext}</b><br><br>genre=british<br>x=%{x}<br>y=%{y}<br>z=%{z}<br>artist=%{customdata[0]}<br>track=%{customdata[1]}<extra></extra>",
         "hovertext": [
          "TRNRKLE128F930F8FB",
          "TRNOHRW128F147DF91",
          "TRIXYVW128F92EBE28",
          "TRIRJYZ128E0783D46",
          "TRIEWZN128F4243140",
          "TRMLJUR128EF3515BF",
          "TRMFSTP128F4249513",
          "TRHEOJO128F42597F9",
          "TRHSQAU128F146630D",
          "TRHKRDZ128F4289B18",
          "TRGQBHN128F428177C",
          "TRGDZGX128F4270E0D",
          "TRVUCEN128F93319AE",
          "TRVRDYC128F1492397",
          "TRVIKZB128E0794A2C",
          "TRVADGM12903CCC02A",
          "TRVFHPK12903CA720C",
          "TREDRYC128F4250127",
          "TRAGAPY128F92F5DDE",
          "TRAEYSW128F931B57D",
          "TRAKLSB128F428DFC8",
          "TRAFSAP128E0780ECF",
          "TRWMBUX12903C98348",
          "TRCNBSI128F92F2E3D",
          "TRCBHLT128F147FCB1",
          "TRBVTQQ128E0787D56",
          "TRBAPSE128F425EB8F",
          "TRBQVNJ128F1461E60",
          "TRBYBCO128F424E27B",
          "TRBDMIN128F147FCBB",
          "TRQYGNO128F1452485",
          "TRJWOLN128F42521A6",
          "TRJZHTR128F9333A29",
          "TRZCXFS128F42AFC91",
          "TRZJGAA12903D03D5C",
          "TRZYOQL12903CD9A0C",
          "TRKRZKC12903CE4EEC",
          "TRKBUDH128F146506E",
          "TRKBPMB12903CE51B2",
          "TRKLUNO12903C9832A",
          "TROHHBZ128EF3515BC",
          "TROLGFN12903CD6131",
          "TRODNCQ128EF342E37",
          "TRLCKUD128F4236C70",
          "TRLDHFZ12903D07387",
          "TRYENBU128E0780CDA",
          "TRYFYHB12903CC2298",
          "TRDVNMW12903C98345",
          "TRDCRYX128F4259DD7",
          "TRDQMYI128F4259DDC",
          "TRFIJVZ128F422F029",
          "TRFWGOJ128E0780C8B",
          "TRFZYYH128E07927A3"
         ],
         "legendgroup": "british",
         "marker": {
          "color": "#ab63fa",
          "symbol": "circle"
         },
         "mode": "markers",
         "name": "british",
         "scene": "scene",
         "showlegend": true,
         "type": "scatter3d",
         "x": [
          -65.13880157470703,
          72.888671875,
          -37.49563980102539,
          -5.281587600708008,
          10.49421215057373,
          67.21366119384766,
          -83.92788696289062,
          -28.75910758972168,
          -19.667369842529297,
          -45.932491302490234,
          -87.33940124511719,
          -86.05854034423828,
          -101.21366882324219,
          -8.005023956298828,
          27.155160903930664,
          -57.93589401245117,
          155.2520294189453,
          -45.913230895996094,
          -39.71812057495117,
          -27.997739791870117,
          71.78863525390625,
          -83.63436126708984,
          -47.044517517089844,
          31.58281707763672,
          44.233768463134766,
          -10.002154350280762,
          28.579965591430664,
          -52.134422302246094,
          -92.088134765625,
          -79.0381088256836,
          150.61448669433594,
          -5.657058238983154,
          -6.054848670959473,
          -114.2949447631836,
          90.27886962890625,
          -33.68553161621094,
          -9.004781723022461,
          107.36772918701172,
          2.248218297958374,
          1.0682486295700073,
          42.20363235473633,
          -38.42280197143555,
          5.205784797668457,
          48.36460876464844,
          79.2876968383789,
          41.92662811279297,
          -32.358848571777344,
          -16.275997161865234,
          12.174073219299316,
          7.8020758628845215,
          18.8731689453125,
          41.61001205444336,
          27.02168083190918
         ],
         "y": [
          12.407381057739258,
          -18.22951316833496,
          -6.9090576171875,
          23.88431739807129,
          -121.63809967041016,
          70.4393310546875,
          3.6042206287384033,
          34.007511138916016,
          -117.1799087524414,
          16.811664581298828,
          -12.671814918518066,
          123.8386001586914,
          -84.24607849121094,
          87.50739288330078,
          48.2957649230957,
          -34.07096481323242,
          -8.741381645202637,
          -134.1466522216797,
          115.76451873779297,
          76.4191665649414,
          32.73619842529297,
          -192.2666015625,
          129.88748168945312,
          -74.1084213256836,
          102.68697357177734,
          -29.387805938720703,
          39.971500396728516,
          80.38802337646484,
          -23.85862922668457,
          -38.6063232421875,
          0.003741227090358734,
          3.194059133529663,
          -6.107244968414307,
          55.787593841552734,
          7.159914016723633,
          -9.710707664489746,
          28.17928123474121,
          -57.00809097290039,
          52.460819244384766,
          -22.021549224853516,
          -76.13602447509766,
          -68.19157409667969,
          57.35519790649414,
          3.8060317039489746,
          26.01665687561035,
          -156.72683715820312,
          -99.33128356933594,
          3.1250624656677246,
          106.63338470458984,
          73.03929901123047,
          134.26956176757812,
          -104.03092956542969,
          -124.17060089111328
         ],
         "z": [
          26.916011810302734,
          89.37985229492188,
          35.43557357788086,
          -40.576683044433594,
          2.4954607486724854,
          38.63557052612305,
          -14.033231735229492,
          -123.04022979736328,
          36.53441619873047,
          6.307831287384033,
          -29.2248477935791,
          -67.67794036865234,
          92.14208984375,
          33.24844741821289,
          -55.65330505371094,
          -22.250165939331055,
          -40.88338088989258,
          62.53020095825195,
          106.22564697265625,
          68.66004943847656,
          28.03278160095215,
          591.60400390625,
          -107.5562515258789,
          -68.7903823852539,
          -112.2018814086914,
          82.51287841796875,
          -82.57945251464844,
          -43.675357818603516,
          0.6059466600418091,
          78.40780639648438,
          -22.759004592895508,
          43.019107818603516,
          -34.69572830200195,
          14.382413864135742,
          31.49810791015625,
          -74.73716735839844,
          -3.1291348934173584,
          24.884689331054688,
          96.71219635009766,
          -4.196345329284668,
          -21.872304916381836,
          31.98975372314453,
          33.430023193359375,
          -52.08591842651367,
          -134.4638214111328,
          27.700885772705078,
          112.8007583618164,
          -67.90740966796875,
          16.0020751953125,
          -160.0259552001953,
          -41.28697204589844,
          79.17142486572266,
          -188.12762451171875
         ]
        },
        {
         "customdata": [
          [
           "The Everly Brothers",
           "Problems (Digitally Remastered)"
          ],
          [
           "Frank Sinatra",
           "Strangers In The Night (Remastered Album Version) [The Frank Sinatra Collection]"
          ],
          [
           "Aled Jones",
           "Ave Maria For Soprano & Orchestra"
          ],
          [
           "Marion Raven",
           "At The End Of The Day (Explicit)"
          ],
          [
           "Heaven 17",
           "Play To Win (12'' Extended Version)"
          ],
          [
           "Tammy Wynette",
           "Stand By Your Man"
          ],
          [
           "George McCrae",
           "Rock Your Baby"
          ],
          [
           "Simply Red",
           "Thrill Me"
          ]
         ],
         "hovertemplate": "<b>%{hovertext}</b><br><br>genre=canadian<br>x=%{x}<br>y=%{y}<br>z=%{z}<br>artist=%{customdata[0]}<br>track=%{customdata[1]}<extra></extra>",
         "hovertext": [
          "TRNXDNV128F14531FC",
          "TRRVLYK128F1477E8B",
          "TRVRNWJ128E0791D9D",
          "TRZWQHU12903CC7A67",
          "TRZDMEJ128F9325B09",
          "TRLBDBO128F14531F2",
          "TRFUTQR128F92F7AEE",
          "TRPFZEP128F4282F7C"
         ],
         "legendgroup": "canadian",
         "marker": {
          "color": "#FFA15A",
          "symbol": "circle"
         },
         "mode": "markers",
         "name": "canadian",
         "scene": "scene",
         "showlegend": true,
         "type": "scatter3d",
         "x": [
          22.507680892944336,
          -106.96505737304688,
          10.498122215270996,
          90.09281921386719,
          103.84242248535156,
          -9.49059009552002,
          33.77326965332031,
          -51.921875
         ],
         "y": [
          -150.45962524414062,
          9.768178939819336,
          -83.2420425415039,
          0.6558828353881836,
          54.73637390136719,
          101.59342193603516,
          47.56413269042969,
          -60.63058853149414
         ],
         "z": [
          -125.72157287597656,
          116.90555572509766,
          67.07682800292969,
          113.26666259765625,
          -112.36946105957031,
          -7.7373762130737305,
          115.66329956054688,
          131.06378173828125
         ]
        },
        {
         "customdata": [
          [
           "Simple Minds",
           "Alive and Kicking"
          ],
          [
           "Doc Watson",
           "Love Is A Lonely Street"
          ],
          [
           "Kristian Meurman",
           "The Entertainer"
          ],
          [
           "Sade",
           "By Your Side"
          ],
          [
           "Barbara Dickson",
           "Caravan Song"
          ],
          [
           "Spiritualized",
           "Harmony 1 (mellotron)"
          ],
          [
           "Aztec Camera",
           "Sunset"
          ],
          [
           "The Beautiful South",
           "Everybody's Talkin'"
          ],
          [
           "Warren Clarke feat. Kathy Brown",
           "Over You [ATFC Club Mix]"
          ],
          [
           "Jason Donovan",
           "Too Many Broken Hearts"
          ],
          [
           "Gloria Gaynor",
           "Set Me Free (Radio Edit)"
          ],
          [
           "Lenny Fontana Feat. Octah'via",
           "The Way (Mucho Beats)"
          ],
          [
           "Umberto Tozzi",
           "Gli Altri Siamo Noi"
          ],
          [
           "3 Doors Down",
           "Kryptonite"
          ],
          [
           "Steve Miller Band",
           "Abracadabra"
          ],
          [
           "The Cranberries",
           "I Just Shot John Lennon"
          ],
          [
           "DJ Jazzy Jeff & The Fresh Prince",
           "Summertime"
          ],
          [
           "Vanessa Paradis",
           "Coupe Coupe"
          ],
          [
           "Savage Garden",
           "To The Moon & Back"
          ],
          [
           "The Drifters",
           "Under the boardwalk"
          ],
          [
           "John Denver",
           "Sunshine On My Shoulders"
          ],
          [
           "George Michael",
           "Careless Whisper"
          ],
          [
           "KT Tunstall",
           "Suddenly I See (Radio Version)"
          ],
          [
           "Limahl",
           "Never Ending Story"
          ],
          [
           "ZZ Top",
           "Legs (LP Version)"
          ],
          [
           "Roger Whittaker",
           "The Last Farewell"
          ],
          [
           "Grandmaster Flash & The Furious Five feat. Melle Mel & Duke Bootee",
           "The Message (12\" Single Version)"
          ],
          [
           "Toni Braxton",
           "Un-Break My Heart"
          ],
          [
           "Jean-Louis Aubert",
           "Voila C'est Fini"
          ],
          [
           "DJ Technic",
           "Chant Of The Kariboo (MF Beats)"
          ],
          [
           "Kari Tapio",
           "Jos - Tu -"
          ],
          [
           "James Taylor",
           "Something In The Way She Moves"
          ],
          [
           "Emmylou Harris",
           "C'est La Vie (Remastered LP Version)"
          ],
          [
           "Abba",
           "Dancing Queen"
          ],
          [
           "Sade",
           "Cherish The Day"
          ],
          [
           "Vanessa Paradis",
           "Walk On The Wild Side"
          ],
          [
           "Michael Franks",
           "Antonio's Song (The Rainbow) (Album Version)"
          ],
          [
           "Dennis Ferrer",
           "Hit It Off (Original Mix)"
          ],
          [
           "The Special AKA",
           "Nelson Mandela (2002 Digital Remaster)"
          ],
          [
           "Eros Ramazzotti",
           "Fuego En El Fuego"
          ],
          [
           "The Cranberries",
           "Free To Decide"
          ],
          [
           "Ryan Adams",
           "New York_ New York"
          ],
          [
           "Teddy Pendergrass & Friends",
           "Rock Your Baby"
          ],
          [
           "Ronan Keating",
           "Life Is A Rollercoaster"
          ],
          [
           "Frank Ifield",
           "I Remember You"
          ],
          [
           "X-Press 2",
           "X-Press Wah-2-Funk"
          ],
          [
           "Mungo Jerry",
           "In The Summertime"
          ],
          [
           "Pascal Obispo",
           "Les Mains Qui Se Cherchent"
          ],
          [
           "Michael Jackson",
           "Wanna Be Startin' Somethin'"
          ],
          [
           "Seal",
           "Sparkle (Extended Version)"
          ],
          [
           "Pussycat",
           "Stranger In Town"
          ],
          [
           "Herman's Hermits",
           "Something Is Happening"
          ],
          [
           "Natalie Imbruglia",
           "That Day"
          ],
          [
           "V V Brown",
           "Travelling Like The Light"
          ],
          [
           "Bryan Adams",
           "Somebody"
          ],
          [
           "Cracker",
           "Lullabye"
          ],
          [
           "The Police",
           "Every Little Thing She Does Is Magic"
          ],
          [
           "Sade",
           "Nothing Can Come Between Us"
          ],
          [
           "Duran Duran",
           "Save A Prayer (2001 Digital Remaster)"
          ],
          [
           "Steve Miller Band",
           "Living In The U.S.A. (1991 Digital Remaster)"
          ],
          [
           "Cutting Crew",
           "The Last Thing"
          ],
          [
           "Richard Clayderman",
           "Flashdance (What a Feeling)"
          ],
          [
           "KT Tunstall",
           "Suddenly I See"
          ],
          [
           "Limahl",
           "Never Ending Story (2009 Digital Remaster)"
          ],
          [
           "Sade",
           "By Your Side"
          ],
          [
           "Train",
           "Hey_ Soul Sister"
          ],
          [
           "Chris Rea",
           "Let's Dance"
          ],
          [
           "Lenny Kravitz",
           "If You Can't Say No (BT's SuperSymmetry Mix)"
          ],
          [
           "Bachman-Turner Overdrive",
           "Let It Ride"
          ],
          [
           "Pascal Obispo;Florent Pagny",
           "Et Un Jour_  Une Femme"
          ],
          [
           "Ultravox",
           "Hymn"
          ],
          [
           "Eros Ramazzotti",
           "Ma Che Bello Questo Amore"
          ],
          [
           "The Smiths",
           "Bigmouth Strikes Again"
          ],
          [
           "Savage Garden",
           "Crash And Burn"
          ],
          [
           "Sinitta",
           "Toy Boy"
          ],
          [
           "Kenny Rogers",
           "She Believes In Me"
          ]
         ],
         "hovertemplate": "<b>%{hovertext}</b><br><br>genre=classic pop and rock<br>x=%{x}<br>y=%{y}<br>z=%{z}<br>artist=%{customdata[0]}<br>track=%{customdata[1]}<extra></extra>",
         "hovertext": [
          "TRNNJMJ128F4278CA1",
          "TRNHARF128F92FCA35",
          "TRNHOTA128E078B309",
          "TRNVMFY128F423499E",
          "TRNCETS128F4234B51",
          "TRNBWFN128F14A25FA",
          "TRNFYVA12903CFADBA",
          "TRXNUOE128F9333926",
          "TRXXJOB128F1466075",
          "TRXTGHD128F425FF61",
          "TRXSLNF128F423971B",
          "TRXYJHW128F931BF13",
          "TRXDECL128F93139E5",
          "TRTRVIY128F4238836",
          "TRTYTGY128F423499F",
          "TRUEWFR128F92FCB7E",
          "TRRBTOI128F9325899",
          "TRIHKSB128F427A327",
          "TRISFGY128F428DA42",
          "TRMGSBG128F429F025",
          "TRMESDG12903CDE089",
          "TRMZLZX128F146E04D",
          "TRMPJED128F425BF6C",
          "TRGWRRO128F424855D",
          "TRVVSAN12903CC556B",
          "TRVCUSW128F92F20C6",
          "TRVBEFW128F42729C8",
          "TREROCY12903CA9CC2",
          "TREVXQN12903CA99E1",
          "TREVHAQ128F42723B4",
          "TREQUMR12903CA23D3",
          "TREZVDN128F42862C2",
          "TRELEIT128F9310C16",
          "TRANTJK128F92E5935",
          "TRAGACS128E078E74D",
          "TRABNZK128F42AB221",
          "TRAKOJE128F92F5989",
          "TRWTTOH128F14961B1",
          "TRWOTIK128F424C654",
          "TRWYVTA128F146E171",
          "TRWYAOO12903CA2F65",
          "TRWYKOO128F92FC83B",
          "TRWDCTU128F934577C",
          "TRCHXXE128F428547C",
          "TRCEWXF12903D137FE",
          "TRCZHQJ128F42AE2BF",
          "TRSUDGY128F92E1728",
          "TRSIVFN12903CCB281",
          "TRSDMER12903C9C9F5",
          "TRQRNNU128F92D3CE4",
          "TRJQHTU128F42BC8D6",
          "TRJDSBZ128F92F0731",
          "TRJFSKV12903CFB7F1",
          "TRZTBMZ128F932DEC5",
          "TRZICBN128F4254E0F",
          "TRZVNEM128EF351A49",
          "TRZATLL12903CCB2B9",
          "TRZWAYS128F92D3F49",
          "TRZJDUP12903CB5084",
          "TRKOGKP12903CBB3FC",
          "TRKYQPS128F4238846",
          "TRKDCXK12903CC27D8",
          "TRLHJXQ128E0781AE6",
          "TRLCWEQ128F4271831",
          "TRLQOXG128F428DA48",
          "TRLZYYR128F42671E1",
          "TRYROSM12903CB23CE",
          "TRYRLPF12903C9AB74",
          "TRYZGYT128F92C1C66",
          "TRDIYHW128F4234B6F",
          "TRFGNVV12903CD75F4",
          "TRFCHMQ128F428A111",
          "TRFQTXH128F934B72D",
          "TRFFIDX128F424B8C5",
          "TRPWZSO128F9310B67",
          "TRPDDJQ128F425A098"
         ],
         "legendgroup": "classic pop and rock",
         "marker": {
          "color": "#19d3f3",
          "symbol": "circle"
         },
         "mode": "markers",
         "name": "classic pop and rock",
         "scene": "scene",
         "showlegend": true,
         "type": "scatter3d",
         "x": [
          87.41700744628906,
          4.0971760749816895,
          139.927978515625,
          -27.70371437072754,
          128.40921020507812,
          72.49708557128906,
          23.253202438354492,
          -23.29267120361328,
          66.86664581298828,
          -104.5615234375,
          -119.45397186279297,
          -49.079742431640625,
          -30.305112838745117,
          -108.37525939941406,
          -3.2003486156463623,
          -78.90924072265625,
          -94.02899169921875,
          -135.21095275878906,
          -159.93881225585938,
          41.30906677246094,
          117.4826889038086,
          -40.71284103393555,
          -47.962074279785156,
          186.052734375,
          -56.34593200683594,
          -16.931564331054688,
          51.96809768676758,
          -95.51554870605469,
          -104.25511169433594,
          65.68280029296875,
          -74.77473449707031,
          -53.772769927978516,
          -2.200706958770752,
          29.4698543548584,
          -4.363234043121338,
          -51.69139099121094,
          102.7348403930664,
          46.50666809082031,
          -9.510538101196289,
          33.11155319213867,
          -155.6861114501953,
          50.07490158081055,
          18.238740921020508,
          -84.66130828857422,
          -47.89958190917969,
          60.541595458984375,
          109.9338150024414,
          -99.28924560546875,
          -62.956844329833984,
          30.941373825073242,
          142.00914001464844,
          -37.20048904418945,
          19.148942947387695,
          -69.2426528930664,
          -6.209803581237793,
          -83.5849609375,
          -80.54254150390625,
          30.80348014831543,
          -82.34510803222656,
          -22.36530876159668,
          21.35378646850586,
          -28.23600959777832,
          -34.741634368896484,
          -145.6416015625,
          115.39778900146484,
          -45.27601623535156,
          -96.10004425048828,
          107.64082336425781,
          20.22747039794922,
          -132.6397705078125,
          39.42494583129883,
          -107.22943878173828,
          -128.7771759033203,
          66.25074005126953,
          19.649938583374023,
          5.165807723999023
         ],
         "y": [
          37.71261215209961,
          -11.692655563354492,
          12.664301872253418,
          80.50431060791016,
          -30.229572296142578,
          105.29786682128906,
          -11.734042167663574,
          -83.56954193115234,
          -13.196174621582031,
          -47.2432975769043,
          -9.779558181762695,
          -88.63970184326172,
          106.17134094238281,
          49.057491302490234,
          53.07684326171875,
          68.55530548095703,
          -97.46793365478516,
          12.229474067687988,
          -12.04927921295166,
          37.177162170410156,
          -4.593017578125,
          -92.62220764160156,
          79.01814270019531,
          -28.837377548217773,
          56.663944244384766,
          64.1532211303711,
          29.285573959350586,
          86.74832916259766,
          73.62113189697266,
          -116.65125274658203,
          118.67229461669922,
          -39.28603744506836,
          -11.517306327819824,
          9.427040100097656,
          -37.59267807006836,
          -38.916831970214844,
          -25.438190460205078,
          100.76473236083984,
          94.68183135986328,
          -140.0069122314453,
          0.9732701182365417,
          -53.06951904296875,
          155.92237854003906,
          -35.509033203125,
          52.0252571105957,
          -119.25794982910156,
          9.692748069763184,
          -81.50920867919922,
          50.94929504394531,
          -143.76332092285156,
          36.42801284790039,
          -52.209068298339844,
          -33.044952392578125,
          -80.88006591796875,
          -87.94828796386719,
          24.71653938293457,
          -85.64386749267578,
          4.160190105438232,
          -100.67941284179688,
          91.40265655517578,
          -54.4556884765625,
          -45.10759353637695,
          14.365806579589844,
          52.83244705200195,
          38.33748245239258,
          -73.65350341796875,
          27.476181030273438,
          17.173316955566406,
          -15.87900161743164,
          -30.746976852416992,
          34.06748962402344,
          44.26942443847656,
          -35.991119384765625,
          -79.94967651367188,
          13.762741088867188,
          -26.123672485351562
         ],
         "z": [
          123.06539154052734,
          82.84976959228516,
          14.26175308227539,
          -136.9607391357422,
          43.435543060302734,
          90.54041290283203,
          138.54931640625,
          11.51346206665039,
          47.32207107543945,
          -20.96577262878418,
          -3.5400121212005615,
          -114.425537109375,
          16.261926651000977,
          44.92946243286133,
          -99.97661590576172,
          -29.134614944458008,
          19.427734375,
          -81.077392578125,
          0.9037483930587769,
          64.7913589477539,
          -57.24169158935547,
          58.049415588378906,
          34.8863525390625,
          49.9741096496582,
          151.53042602539062,
          -25.737688064575195,
          142.26220703125,
          -4.450131416320801,
          -26.502775192260742,
          -77.76258087158203,
          66.82088470458984,
          -94.12492370605469,
          -155.9347381591797,
          38.709388732910156,
          -54.19572067260742,
          -54.71106719970703,
          -30.26577377319336,
          -30.89998435974121,
          91.2978286743164,
          68.17708587646484,
          55.44525909423828,
          -49.36984634399414,
          26.5993709564209,
          -70.30097198486328,
          81.72440338134766,
          3.821895122528076,
          -26.996366500854492,
          -5.724113941192627,
          50.40508270263672,
          -21.580913543701172,
          -34.418121337890625,
          47.50457000732422,
          -29.689176559448242,
          18.651044845581055,
          40.265045166015625,
          43.37767791748047,
          0.6144716739654541,
          9.47726058959961,
          55.82067108154297,
          -33.95817947387695,
          -56.18853759765625,
          -106.18008422851562,
          137.79783630371094,
          47.64109420776367,
          -62.73689270019531,
          -14.822154998779297,
          -95.73420715332031,
          5.004343509674072,
          -57.832218170166016,
          83.79686737060547,
          2.595243453979492,
          -46.687255859375,
          20.593582153320312,
          64.43799591064453,
          -68.46660614013672,
          53.01247787475586
         ]
        },
        {
         "customdata": [
          [
           "The Cranberries",
           "Shattered"
          ]
         ],
         "hovertemplate": "<b>%{hovertext}</b><br><br>genre=classical<br>x=%{x}<br>y=%{y}<br>z=%{z}<br>artist=%{customdata[0]}<br>track=%{customdata[1]}<extra></extra>",
         "hovertext": [
          "TRXERRL12903CC3810"
         ],
         "legendgroup": "classical",
         "marker": {
          "color": "#FF6692",
          "symbol": "circle"
         },
         "mode": "markers",
         "name": "classical",
         "scene": "scene",
         "showlegend": true,
         "type": "scatter3d",
         "x": [
          59.91320037841797
         ],
         "y": [
          88.06829833984375
         ],
         "z": [
          -3.626223087310791
         ]
        },
        {
         "customdata": [
          [
           "Sophie Ellis-Bextor",
           "Murder On The Dancefloor"
          ],
          [
           "Sinitta",
           "Toy Boy"
          ],
          [
           "Barbra Streisand & Barry Gibb",
           "Guilty"
          ],
          [
           "Lynden David Hall",
           "Sexy Cinderella (C&J Remix)"
          ],
          [
           "The Seekers",
           "The Carnival Is Over"
          ],
          [
           "John Denver",
           "Sunshine On My Shoulders"
          ],
          [
           "New Trolls",
           "Quella carezza della sera"
          ],
          [
           "Al Martino",
           "Volare"
          ],
          [
           "Gloria Gaynor",
           "I Will Survive (ReMastered)"
          ],
          [
           "Abydos",
           "Radio Earth"
          ],
          [
           "Sinitta",
           "TOY BOY"
          ],
          [
           "Captain & Tennille",
           "You Never Done It Like That"
          ],
          [
           "Peter Gabriel",
           "Big Time (2002 Digital Remaster)"
          ],
          [
           "Elvis Crespo",
           "Yo Me Morire"
          ],
          [
           "Ann Peebles",
           "Come To Mama"
          ],
          [
           "Simply Red",
           "Fairground (+ Sample)"
          ],
          [
           "Igor Kill",
           "Hvis Eg"
          ],
          [
           "a1",
           "Caught In The Middle"
          ],
          [
           "Buddy Holly",
           "Peggy Sue"
          ],
          [
           "Blondie",
           "Rapture (Us Disco Version) (1999 Digital Remaster)"
          ]
         ],
         "hovertemplate": "<b>%{hovertext}</b><br><br>genre=country<br>x=%{x}<br>y=%{y}<br>z=%{z}<br>artist=%{customdata[0]}<br>track=%{customdata[1]}<extra></extra>",
         "hovertext": [
          "TRNLUDQ128E078663E",
          "TRXISDW128F1456F5E",
          "TRXHNEH128F92C68C8",
          "TRULTSR12903CBD13D",
          "TRIIVUQ128F4299C9F",
          "TRMHFMC128F425D630",
          "TREIEHK128F931E0B8",
          "TRACLRS12903CE9386",
          "TRCRKXS12903CD21F9",
          "TRCRLES128F42764E6",
          "TRCFSXM12903CC84F4",
          "TRSVKNR128F4235AEB",
          "TRQHQLN12903CBD237",
          "TROTQOU12903CCE730",
          "TRDDOJM128F428CEE1",
          "TRFNZMP128F42796B3",
          "TRFRXGD128F42717FF",
          "TRFHEFD12903CC4FF2",
          "TRFVRYY128F9305E81",
          "TRPIMRO128F92FAB6F"
         ],
         "legendgroup": "country",
         "marker": {
          "color": "#B6E880",
          "symbol": "circle"
         },
         "mode": "markers",
         "name": "country",
         "scene": "scene",
         "showlegend": true,
         "type": "scatter3d",
         "x": [
          -23.12594223022461,
          -13.979434967041016,
          -101.49370574951172,
          -24.594398498535156,
          -103.0174331665039,
          -46.066287994384766,
          -75.91110229492188,
          -59.77387237548828,
          37.26102066040039,
          -12.650391578674316,
          44.49042510986328,
          24.76534652709961,
          -26.342782974243164,
          -42.42426681518555,
          -50.363216400146484,
          -60.59680938720703,
          84.0554428100586,
          -73.64037322998047,
          65.19554138183594,
          73.55198669433594
         ],
         "y": [
          161.51947021484375,
          -115.94124603271484,
          -21.70368766784668,
          79.09825897216797,
          74.72156524658203,
          22.036231994628906,
          77.25714874267578,
          45.03066635131836,
          -79.18623352050781,
          -0.6374728083610535,
          130.7764434814453,
          48.36800765991211,
          -63.106929779052734,
          124.6429214477539,
          -150.659912109375,
          22.688695907592773,
          -49.349369049072266,
          -55.26841354370117,
          -7.671703338623047,
          10.311214447021484
         ],
         "z": [
          -33.623146057128906,
          -66.56146240234375,
          50.33256149291992,
          -97.03740692138672,
          -94.1214370727539,
          51.624637603759766,
          113.20797729492188,
          -98.38419342041016,
          41.18571472167969,
          12.771598815917969,
          31.069591522216797,
          69.30928039550781,
          -37.044410705566406,
          -30.083181381225586,
          9.072613716125488,
          -90.5848159790039,
          -47.63996505737305,
          45.632850646972656,
          -115.97819519042969,
          75.99272918701172
         ]
        },
        {
         "customdata": [
          [
           "Abba",
           "Dancing Queen"
          ],
          [
           "George Michael",
           "Praying For Time"
          ]
         ],
         "hovertemplate": "<b>%{hovertext}</b><br><br>genre=dance and electronica<br>x=%{x}<br>y=%{y}<br>z=%{z}<br>artist=%{customdata[0]}<br>track=%{customdata[1]}<extra></extra>",
         "hovertext": [
          "TRCQNTC128F422B483",
          "TRSZBPP128F42507C0"
         ],
         "legendgroup": "dance and electronica",
         "marker": {
          "color": "#FF97FF",
          "symbol": "circle"
         },
         "mode": "markers",
         "name": "dance and electronica",
         "scene": "scene",
         "showlegend": true,
         "type": "scatter3d",
         "x": [
          159.99765014648438,
          28.249162673950195
         ],
         "y": [
          -49.4892463684082,
          72.89082336425781
         ],
         "z": [
          -27.760334014892578,
          -90.703125
         ]
        },
        {
         "customdata": [
          [
           "New Radicals",
           "You Get What You Give"
          ],
          [
           "Simple Plan",
           "Your Love Is A Lie (Single Version)"
          ],
          [
           "Westlife",
           "In This Life"
          ],
          [
           "Limahl",
           "Never Ending Story (12\" Mix)"
          ]
         ],
         "hovertemplate": "<b>%{hovertext}</b><br><br>genre=european<br>x=%{x}<br>y=%{y}<br>z=%{z}<br>artist=%{customdata[0]}<br>track=%{customdata[1]}<extra></extra>",
         "hovertext": [
          "TRGFSQI128F4272C44",
          "TREKMSA12903CFB716",
          "TRCQRMA128F4290D35",
          "TRQBGHC128F4290D32"
         ],
         "legendgroup": "european",
         "marker": {
          "color": "#FECB52",
          "symbol": "circle"
         },
         "mode": "markers",
         "name": "european",
         "scene": "scene",
         "showlegend": true,
         "type": "scatter3d",
         "x": [
          20.45069694519043,
          -29.400453567504883,
          91.44567108154297,
          94.9886703491211
         ],
         "y": [
          77.39584350585938,
          8.761749267578125,
          -40.9343147277832,
          -83.90284729003906
         ],
         "z": [
          100.86820983886719,
          -17.932180404663086,
          129.9677276611328,
          -63.282928466796875
         ]
        },
        {
         "customdata": [
          [
           "Tammy Wynette",
           "Stand By Your Man"
          ],
          [
           "James & Bobby Purify",
           "Let Love Come Between Us"
          ],
          [
           "En Vogue",
           "Hold On (Extended LP Version)"
          ],
          [
           "Joe Budden",
           "Pump It Up"
          ],
          [
           "Jennifer Warnes",
           "Right Time Of The Night"
          ],
          [
           "Duran Duran",
           "Save A Prayer (Single Version)"
          ],
          [
           "Ashlee Simpson",
           "Pieces Of Me"
          ]
         ],
         "hovertemplate": "<b>%{hovertext}</b><br><br>genre=finnish<br>x=%{x}<br>y=%{y}<br>z=%{z}<br>artist=%{customdata[0]}<br>track=%{customdata[1]}<extra></extra>",
         "hovertext": [
          "TRMCHCM128F425E987",
          "TRHPYAU128F423B71A",
          "TRWMHMP128EF34293F",
          "TRBZSLH128F93433EA",
          "TRJUGQR128F42A7A16",
          "TRZCJIR128F42550CF",
          "TRPFIGZ128F92F0315"
         ],
         "legendgroup": "finnish",
         "marker": {
          "color": "#636efa",
          "symbol": "circle"
         },
         "mode": "markers",
         "name": "finnish",
         "scene": "scene",
         "showlegend": true,
         "type": "scatter3d",
         "x": [
          -138.92684936523438,
          104.87898254394531,
          84.24232482910156,
          85.12158966064453,
          -71.45478820800781,
          -83.68771362304688,
          50.887969970703125
         ],
         "y": [
          9.374897956848145,
          46.54410171508789,
          62.51436233520508,
          0.6468931436538696,
          16.330923080444336,
          34.35698699951172,
          8.084569931030273
         ],
         "z": [
          -37.86946105957031,
          18.74290657043457,
          95.28693389892578,
          -67.8133316040039,
          -128.49188232421875,
          80.45545196533203,
          116.94232177734375
         ]
        },
        {
         "customdata": [
          [
           "Usher",
           "I Need Love"
          ],
          [
           "Blondie",
           "Heart Of Glass (2002 Digital Remaster)"
          ],
          [
           "Switchfoot",
           "This Is Your Life"
          ],
          [
           "Wang Chung",
           "Dance Hall Days"
          ],
          [
           "Soweto Gospel Choir",
           "Ave Maria"
          ],
          [
           "Martin Solveig",
           "Rocking Music"
          ],
          [
           "Tom Jones / Mousse T.",
           "Sexbomb"
          ],
          [
           "The Mae Shi",
           "Spoils of Victory"
          ],
          [
           "Irwin Goodman",
           "Sinua rakastan"
          ],
          [
           "Duran Duran",
           "Save A Prayer (Live At The Hammersmith Odeon)"
          ],
          [
           "The Cranberries",
           "Free To Decide"
          ],
          [
           "Giorgio Moroder",
           "I Wanna Rock You"
          ],
          [
           "Tina Charles",
           "I Love To Love"
          ],
          [
           "883",
           "Tieni Il Tempo"
          ],
          [
           "Van McCoy",
           "The Hustle (Super Hustle Mix)"
          ],
          [
           "The Supremes",
           "After All"
          ],
          [
           "U2",
           "If God Will Send His Angels"
          ],
          [
           "Jenn Grant",
           "I Was Your Woman"
          ],
          [
           "Patrice Rushen",
           "Sweetest Taboo"
          ],
          [
           "Zhané",
           "Hey Mr. D.J."
          ],
          [
           "Chic",
           "Everybody Dance (MOTIVA RPL MIX)"
          ],
          [
           "Emmylou Harris",
           "Dimming Of The Day"
          ]
         ],
         "hovertemplate": "<b>%{hovertext}</b><br><br>genre=folk<br>x=%{x}<br>y=%{y}<br>z=%{z}<br>artist=%{customdata[0]}<br>track=%{customdata[1]}<extra></extra>",
         "hovertext": [
          "TRNHGBY128F4279B99",
          "TRRJPIK128E07848C9",
          "TRICWAP128F42988B7",
          "TRIFUHB128E079503D",
          "TRMWBSU128F92F9CE7",
          "TRHVCZF128F92D1DED",
          "TRGXDLL128F14A26B0",
          "TRESUZN128F92EE488",
          "TRAPHSC12903CA6BD6",
          "TRWDYGV128F92EDBF6",
          "TRSIZVO128F149C300",
          "TRBEIBI12903CC4C7B",
          "TRQXNHD128E0795040",
          "TRQTTCF128F428AD6B",
          "TRQMFUI128F4284AF6",
          "TRQHXDX128F4236A10",
          "TRKWDZM128F4282621",
          "TRLURXW128F92F9D32",
          "TRLDYIW128F147B548",
          "TRYMEPM128F4270B01",
          "TRPXNAY128F42604B4",
          "TRPCCYA12903CB28E1"
         ],
         "legendgroup": "folk",
         "marker": {
          "color": "#EF553B",
          "symbol": "circle"
         },
         "mode": "markers",
         "name": "folk",
         "scene": "scene",
         "showlegend": true,
         "type": "scatter3d",
         "x": [
          -42.95234298706055,
          81.1429214477539,
          57.14720153808594,
          -42.906341552734375,
          -23.923709869384766,
          -65.10302734375,
          -32.169677734375,
          -3.3339474201202393,
          -126.36241149902344,
          -44.84999084472656,
          -38.35213088989258,
          -20.896129608154297,
          0.8729987144470215,
          57.85456848144531,
          -12.8539457321167,
          -66.27523803710938,
          3.0205345153808594,
          -116.64572143554688,
          -60.84910583496094,
          114.67928314208984,
          4.365751266479492,
          40.727203369140625
         ],
         "y": [
          85.63386535644531,
          -94.80504608154297,
          77.67008209228516,
          134.655517578125,
          -32.244712829589844,
          -18.111553192138672,
          -20.2617244720459,
          17.392011642456055,
          -0.6631410121917725,
          -51.74961853027344,
          -7.841029644012451,
          4.006960391998291,
          -147.31134033203125,
          124.33717346191406,
          -93.13052368164062,
          -5.705081939697266,
          97.16899108886719,
          113.32202911376953,
          -69.9588394165039,
          -12.660038948059082,
          -35.37164306640625,
          -21.972553253173828
         ],
         "z": [
          -4.004603385925293,
          33.28306198120117,
          123.88224029541016,
          62.372779846191406,
          -24.818161010742188,
          -125.00222778320312,
          -0.02326996438205242,
          151.4583282470703,
          31.5280704498291,
          3.145720958709717,
          -106.73793029785156,
          66.9446792602539,
          39.152957916259766,
          3.820767641067505,
          -140.63507080078125,
          -70.85774993896484,
          -82.72728729248047,
          -29.343313217163086,
          74.41450500488281,
          21.628873825073242,
          122.90518951416016,
          33.53896713256836
         ]
        },
        {
         "customdata": [
          [
           "Justin Timberlake",
           "Cry Me A River"
          ],
          [
           "Buddy Holly",
           "Peggy Sue"
          ],
          [
           "Amy MacDonald",
           "This Is The Life"
          ],
          [
           "10cc",
           "I Don't Like Cricket - I Love It (Dreadlock Holiday) (Live Version)"
          ],
          [
           "U2",
           "Sweetest Thing"
          ],
          [
           "Merle Haggard",
           "Mama Don't Let Your Babies Grow Up To Be Cowboys (Live)"
          ],
          [
           "Johnny Lee",
           "Shot Full Of Love"
          ],
          [
           "Wilco",
           "At least that's what you said"
          ],
          [
           "The Pointer Sisters",
           "I'm So Excited"
          ],
          [
           "Buddy Holly",
           "Peggy Sue"
          ],
          [
           "Dolly Parton & Kenny Rogers",
           "Islands In The Stream"
          ],
          [
           "Phil Collins",
           "True Colours"
          ],
          [
           "Casiotone For The Painfully Alone",
           "Casiotone For The Painfully Alone In A Green Cotton Sweater"
          ],
          [
           "Moby",
           "Lift Me Up"
          ],
          [
           "Tomcraft",
           "Overdose (Lady Mix)"
          ],
          [
           "Beyoncé",
           "Crazy In Love"
          ],
          [
           "Train",
           "Shelter Me"
          ],
          [
           "Junior Jack",
           "Dare Me (Stupidisco)"
          ],
          [
           "Daddy Yankee",
           "La Despedida"
          ],
          [
           "Madonna",
           "True Blue (The Color Mix)"
          ],
          [
           "Barry White",
           "Let The Music Play"
          ]
         ],
         "hovertemplate": "<b>%{hovertext}</b><br><br>genre=french<br>x=%{x}<br>y=%{y}<br>z=%{z}<br>artist=%{customdata[0]}<br>track=%{customdata[1]}<extra></extra>",
         "hovertext": [
          "TRNRXYR128F930497F",
          "TRXGSOV128F92F814C",
          "TRTAPPJ128F9311061",
          "TRTBZPW128F4215C80",
          "TRTLNYP128F4278C85",
          "TRIDNIL128F92FC314",
          "TRHIEGC128F4299E12",
          "TRHYDKN12903CFAE4E",
          "TRGRSVV128F4299E31",
          "TRGLJGU128F427C242",
          "TRVAVQH128F933BD59",
          "TRVBONW128F427A24D",
          "TRWXGBG128F422B81E",
          "TRSNTJY128F429A1F1",
          "TRSJKPT128E07818C4",
          "TRBZXHV128F4282801",
          "TROGNMP128F148C4A0",
          "TRLPXUE128F1469382",
          "TRYGSUG128F9309594",
          "TRFEGHT128F9306695",
          "TRFYLRG128F92C92AF"
         ],
         "legendgroup": "french",
         "marker": {
          "color": "#00cc96",
          "symbol": "circle"
         },
         "mode": "markers",
         "name": "french",
         "scene": "scene",
         "showlegend": true,
         "type": "scatter3d",
         "x": [
          -90.45580291748047,
          112.51341247558594,
          59.40396499633789,
          91.7703857421875,
          -11.924224853515625,
          22.88479232788086,
          10.798473358154297,
          39.27651596069336,
          -97.57929229736328,
          164.2572021484375,
          121.21453094482422,
          -133.87167358398438,
          -5.342581748962402,
          8.342936515808105,
          94.85743713378906,
          13.917596817016602,
          12.652603149414062,
          96.04263305664062,
          59.60423278808594,
          0.9521818161010742,
          128.52247619628906
         ],
         "y": [
          -10.795170783996582,
          44.0546760559082,
          -50.416290283203125,
          115.56016540527344,
          -94.44673919677734,
          118.81723022460938,
          -54.96833419799805,
          -99.27472686767578,
          82.40888977050781,
          -15.496564865112305,
          -50.625118255615234,
          -35.99790573120117,
          -138.6555633544922,
          11.838687896728516,
          -26.023191452026367,
          -80.85860443115234,
          -65.01788330078125,
          -34.413333892822266,
          67.207275390625,
          -58.67766571044922,
          -41.45976638793945
         ],
         "z": [
          -97.23259735107422,
          52.53677749633789,
          113.1921157836914,
          -81.11461639404297,
          78.8200454711914,
          109.80831909179688,
          -86.63510131835938,
          -2.574742078781128,
          -58.67337417602539,
          21.27289581298828,
          163.41917419433594,
          -80.7495346069336,
          -36.27306365966797,
          -8.863668441772461,
          -106.9081039428711,
          105.33919525146484,
          -121.4354476928711,
          -73.63269805908203,
          -70.10836029052734,
          35.224212646484375,
          -49.77908706665039
         ]
        },
        {
         "customdata": [
          [
           "Supergrass",
           "Alright"
          ],
          [
           "Dolly Parton",
           "Jolene"
          ],
          [
           "Vanessa Paradis",
           "Be My Baby"
          ],
          [
           "The Seekers",
           "The Carnival Is Over (Mono)"
          ],
          [
           "Hot Chip",
           "Don't Dance"
          ]
         ],
         "hovertemplate": "<b>%{hovertext}</b><br><br>genre=german<br>x=%{x}<br>y=%{y}<br>z=%{z}<br>artist=%{customdata[0]}<br>track=%{customdata[1]}<extra></extra>",
         "hovertext": [
          "TRBDGOX128F428E2B9",
          "TRZGTIB128F42974E3",
          "TRZDXVL128F9308719",
          "TRLICQB128F92CAB33",
          "TRLHEIJ128F1490FD6"
         ],
         "legendgroup": "german",
         "marker": {
          "color": "#ab63fa",
          "symbol": "circle"
         },
         "mode": "markers",
         "name": "german",
         "scene": "scene",
         "showlegend": true,
         "type": "scatter3d",
         "x": [
          -25.420682907104492,
          -58.71150207519531,
          -23.386899948120117,
          -60.92900848388672,
          69.31087493896484
         ],
         "y": [
          55.63672637939453,
          88.94898223876953,
          -92.95462036132812,
          144.16168212890625,
          20.730804443359375
         ],
         "z": [
          41.10292434692383,
          -1.09560227394104,
          -31.031341552734375,
          33.79358673095703,
          -22.795398712158203
         ]
        },
        {
         "customdata": [
          [
           "The Archies",
           "Sugar Sugar"
          ],
          [
           "Imagination",
           "Just An Illusion"
          ],
          [
           "Robert Earl Keen",
           "Wild Wind"
          ],
          [
           "Sheryl Crow",
           "If It Makes You Happy"
          ],
          [
           "Anton Barbeau",
           "I Used to Say Your Name"
          ]
         ],
         "hovertemplate": "<b>%{hovertext}</b><br><br>genre=hard rock<br>x=%{x}<br>y=%{y}<br>z=%{z}<br>artist=%{customdata[0]}<br>track=%{customdata[1]}<extra></extra>",
         "hovertext": [
          "TRXKJYD128F4277865",
          "TRHKRKS128EF34426F",
          "TRVCVVR128F425AD75",
          "TRLLEUB128F14712B7",
          "TRPTAAH128F9335255"
         ],
         "legendgroup": "hard rock",
         "marker": {
          "color": "#FFA15A",
          "symbol": "circle"
         },
         "mode": "markers",
         "name": "hard rock",
         "scene": "scene",
         "showlegend": true,
         "type": "scatter3d",
         "x": [
          30.744808197021484,
          -138.42686462402344,
          54.964473724365234,
          -109.54476928710938,
          -40.01662063598633
         ],
         "y": [
          -24.320775985717773,
          -47.45681381225586,
          -97.13789367675781,
          11.279268264770508,
          -89.6032485961914
         ],
         "z": [
          -10.668203353881836,
          -11.908398628234863,
          -44.92035675048828,
          -27.041040420532227,
          -62.27693176269531
         ]
        },
        {
         "customdata": [
          [
           "Madonna",
           "I Deserve It (Album Version)"
          ]
         ],
         "hovertemplate": "<b>%{hovertext}</b><br><br>genre=heavy metal<br>x=%{x}<br>y=%{y}<br>z=%{z}<br>artist=%{customdata[0]}<br>track=%{customdata[1]}<extra></extra>",
         "hovertext": [
          "TRUOWFX128F4262E69"
         ],
         "legendgroup": "heavy metal",
         "marker": {
          "color": "#19d3f3",
          "symbol": "circle"
         },
         "mode": "markers",
         "name": "heavy metal",
         "scene": "scene",
         "showlegend": true,
         "type": "scatter3d",
         "x": [
          8.65222454071045
         ],
         "y": [
          14.655574798583984
         ],
         "z": [
          92.6568603515625
         ]
        },
        {
         "customdata": [
          [
           "Daft Punk",
           "Harder Better Faster Stronger (Jess And Crabbe Mix)"
          ],
          [
           "Simian Mobile Disco",
           "I GOT THIS DOWN"
          ],
          [
           "Steve Miller Band",
           "Going To The Country"
          ],
          [
           "The Doobie Brothers",
           "Minute By Minute [Farewell Live Tour Version]"
          ],
          [
           "Connie Francis",
           "Lipstick On Your Collar"
          ],
          [
           "Shola Ama",
           "In Return - Album Version"
          ],
          [
           "The Cranberries",
           "Ave Maria (Pavarotti / O'Riordan)"
          ],
          [
           "DJ Jazzy Jeff & The Fresh Prince;Will Smith",
           "Pump Me Up"
          ],
          [
           "Cesare Cremonini",
           "Marmellata#25 (live)"
          ],
          [
           "New Order",
           "World [Price Of Love]"
          ],
          [
           "The Roches",
           "Losing True (Album Version)"
          ],
          [
           "Pet Shop Boys",
           "Did you see me coming?"
          ],
          [
           "Duran Duran",
           "Save A Prayer (Live) (2004 Digital Remaster)"
          ],
          [
           "Michael Jackson",
           "Bad"
          ],
          [
           "Chris Rea",
           "Josephine (French Edit)"
          ],
          [
           "S Club 7",
           "Two In A Million"
          ],
          [
           "Peter And Gordon",
           "Nobody I Know"
          ],
          [
           "Toto",
           "Africa"
          ],
          [
           "Bob Sinclar feat. Steve Edwards",
           "World_ Hold On (Children of the sky)"
          ],
          [
           "Juice Leskinen",
           "Maailman ääriin"
          ],
          [
           "Stereophonics",
           "Have A Nice Day"
          ]
         ],
         "hovertemplate": "<b>%{hovertext}</b><br><br>genre=hip hop rnb and dance hall<br>x=%{x}<br>y=%{y}<br>z=%{z}<br>artist=%{customdata[0]}<br>track=%{customdata[1]}<extra></extra>",
         "hovertext": [
          "TRUMOLI128F147C17E",
          "TRUKWKA12903CC49CC",
          "TRHNAGL128F422B970",
          "TRHIVMU128F9327D14",
          "TRHYHGH128F4292ADD",
          "TRGMWOJ12903CA62B5",
          "TREAEJN128F425AE49",
          "TRAQHSM128F92EF80D",
          "TRALRTY128F428BE43",
          "TRWDICQ128F9302051",
          "TRCZMLQ128F9307825",
          "TRCKCXH12903D138D2",
          "TRBTFRK12903CCE699",
          "TRBRRBJ128F426B28F",
          "TRQKWHN128F930C4C6",
          "TRJIZEK128F42AC2A0",
          "TRZDMWV128E0796976",
          "TRKWKER128F1482409",
          "TRLPQCQ128E078E7DD",
          "TRYFUNE12903CCDCD5",
          "TRFDVKX128F4292ADB"
         ],
         "legendgroup": "hip hop rnb and dance hall",
         "marker": {
          "color": "#FF6692",
          "symbol": "circle"
         },
         "mode": "markers",
         "name": "hip hop rnb and dance hall",
         "scene": "scene",
         "showlegend": true,
         "type": "scatter3d",
         "x": [
          39.07833480834961,
          -101.79388427734375,
          30.533994674682617,
          123.11173248291016,
          46.9250602722168,
          -62.871952056884766,
          70.58155059814453,
          146.73040771484375,
          -6.821022987365723,
          86.79191589355469,
          134.08970642089844,
          -71.14867401123047,
          -43.23957061767578,
          -114.68257141113281,
          -36.855445861816406,
          -88.80026245117188,
          -17.007240295410156,
          -98.34580993652344,
          4.154608726501465,
          -27.2985897064209,
          11.851567268371582
         ],
         "y": [
          104.89753723144531,
          -117.5855484008789,
          -49.763511657714844,
          71.24964904785156,
          3.3923544883728027,
          110.47771453857422,
          -27.752811431884766,
          22.66411590576172,
          133.746826171875,
          70.32550048828125,
          -72.27557373046875,
          69.75396728515625,
          -46.690975189208984,
          -3.533985137939453,
          73.50926971435547,
          107.1085205078125,
          -48.24359893798828,
          137.03469848632812,
          61.08574676513672,
          -52.187110900878906,
          16.138574600219727
         ],
         "z": [
          -67.38853454589844,
          -27.965564727783203,
          49.852256774902344,
          83.75082397460938,
          -19.998258590698242,
          -72.63377380371094,
          -16.570249557495117,
          -77.0517578125,
          22.33055877685547,
          -35.22443771362305,
          -67.7762451171875,
          -73.08793640136719,
          -141.5608367919922,
          -127.43951416015625,
          109.23443603515625,
          32.75506591796875,
          -68.47771453857422,
          5.768612384796143,
          64.727294921875,
          63.871498107910156,
          109.98661041259766
         ]
        },
        {
         "customdata": [
          [
           "10cc",
           "Dreadlock Holiday"
          ],
          [
           "Phil Collins",
           "One More Night"
          ],
          [
           "2raumwohnung",
           "36 Grad (Paul van Dyk's Vandit Clubmix)"
          ],
          [
           "Blondie",
           "The Tide Is High"
          ],
          [
           "Cliff Richard & The Shadows",
           "Bachelor Boy"
          ],
          [
           "Lisa Stansfield",
           "Real Love"
          ],
          [
           "Sade",
           "Your Love Is King"
          ],
          [
           "Tracy Chapman",
           "Why? (LP Version)"
          ],
          [
           "Stereophonics",
           "Have A Nice Day"
          ]
         ],
         "hovertemplate": "<b>%{hovertext}</b><br><br>genre=irish<br>x=%{x}<br>y=%{y}<br>z=%{z}<br>artist=%{customdata[0]}<br>track=%{customdata[1]}<extra></extra>",
         "hovertext": [
          "TRXDFDI128F148D4A1",
          "TRUEGQL128E0793DB6",
          "TRRKBTZ128F92FCD8A",
          "TRGCNGP12903CFA2BA",
          "TRAVQKQ128F425A98E",
          "TRWYEXL128E0781213",
          "TRCUYBK128F933ADC3",
          "TRLIJMY128C7196990",
          "TRDASPF128F92F7B3C"
         ],
         "legendgroup": "irish",
         "marker": {
          "color": "#B6E880",
          "symbol": "circle"
         },
         "mode": "markers",
         "name": "irish",
         "scene": "scene",
         "showlegend": true,
         "type": "scatter3d",
         "x": [
          88.2712631225586,
          82.19351196289062,
          87.32796478271484,
          31.160707473754883,
          -6.354581832885742,
          36.57898712158203,
          -63.13731002807617,
          -25.493030548095703,
          57.36018371582031
         ],
         "y": [
          -22.691736221313477,
          151.26519775390625,
          -3.005256175994873,
          77.366943359375,
          -134.74598693847656,
          -36.974388122558594,
          -115.77509307861328,
          -33.08864212036133,
          1.148123860359192
         ],
         "z": [
          10.082048416137695,
          16.958280563354492,
          -2.7006306648254395,
          50.171443939208984,
          76.68253326416016,
          -112.73091125488281,
          -10.363340377807617,
          155.814453125,
          -157.16238403320312
         ]
        },
        {
         "customdata": [
          [
           "Bruce Hornsby",
           "Country Doctor"
          ],
          [
           "Even As We Speak",
           "One Step Forward"
          ],
          [
           "Mcfadden & Whitehead",
           "Ain't No Stoppin' Us Now"
          ],
          [
           "Simon & Garfunkel",
           "The Boxer"
          ],
          [
           "Phil Keaggy",
           "What Child Is This? (LP Version)"
          ],
          [
           "Nanci Griffith",
           "You Were On My Mind (LP Version)"
          ],
          [
           "883",
           "Nella Notte"
          ],
          [
           "Tears For Fears",
           "Laid So Low (Tears Roll Down)"
          ],
          [
           "Lucio Dalla",
           "Medley Elettrico"
          ],
          [
           "The Beach Boys",
           "You've Got To Hide Your Love Away (Digitally Remastered 01)"
          ],
          [
           "The Cranberries",
           "Animal Instinct"
          ],
          [
           "The Special AKA",
           "Nelson Mandela"
          ],
          [
           "Moby",
           "Lift Me Up (Radio Mix)"
          ],
          [
           "Tomcraft",
           "Overdose (Lady Radio Mix)"
          ],
          [
           "DJ Jazzy Jeff & The Fresh Prince",
           "Summertime"
          ],
          [
           "NOFX",
           "Happy Guy"
          ],
          [
           "The Smiths",
           "Bigmouth Strikes Again"
          ],
          [
           "Paula Koivuniemi",
           "Kaikki Käy Helpommaksi"
          ],
          [
           "Usher",
           "You Make Me Wanna..."
          ]
         ],
         "hovertemplate": "<b>%{hovertext}</b><br><br>genre=italian<br>x=%{x}<br>y=%{y}<br>z=%{z}<br>artist=%{customdata[0]}<br>track=%{customdata[1]}<extra></extra>",
         "hovertext": [
          "TRNXVWZ128F428D347",
          "TRXIGRM128F4292250",
          "TRXPVCO128F1492151",
          "TRUXPBZ128F1492149",
          "TRRPZGA128F14911E3",
          "TRIEVBC128E078A90C",
          "TRHXTBK128E0796817",
          "TRGVHXL128F425EA0A",
          "TRVYIQF128F42945E1",
          "TREBMRI12903CC2012",
          "TRWWRCD12903D0C838",
          "TRWBWJX128E078A918",
          "TRCZZUC128F422BA5A",
          "TRBGGQS128F4289405",
          "TRQGJDD128E078A91C",
          "TRQAZOX128F92F5C1B",
          "TROAGYH128F4278037",
          "TRYCHGX128F93434F7",
          "TRPWAEU128E0793D18"
         ],
         "legendgroup": "italian",
         "marker": {
          "color": "#FF97FF",
          "symbol": "circle"
         },
         "mode": "markers",
         "name": "italian",
         "scene": "scene",
         "showlegend": true,
         "type": "scatter3d",
         "x": [
          3.46079421043396,
          -95.24048614501953,
          64.62467956542969,
          -81.63050079345703,
          63.67942428588867,
          -32.11498260498047,
          -124.60274505615234,
          95.95549774169922,
          36.95453643798828,
          30.93833351135254,
          115.78946685791016,
          61.598812103271484,
          -106.29638671875,
          77.3915786743164,
          11.047786712646484,
          -70.79090881347656,
          4.914314270019531,
          -117.6006851196289,
          59.07952880859375
         ],
         "y": [
          -123.63996887207031,
          19.34770965576172,
          131.6944122314453,
          71.94680786132812,
          -51.701358795166016,
          -72.6383056640625,
          27.001251220703125,
          81.97201538085938,
          -60.30582046508789,
          36.93989562988281,
          -64.84207153320312,
          70.15673065185547,
          -68.5099105834961,
          45.364864349365234,
          -11.602367401123047,
          -15.715452194213867,
          -57.66982650756836,
          -113.83458709716797,
          21.52401351928711
         ],
         "z": [
          101.65528106689453,
          -63.211429595947266,
          -33.35615539550781,
          25.53473663330078,
          35.221920013427734,
          -85.74630737304688,
          79.7598876953125,
          24.4306583404541,
          3.3211119174957275,
          -24.478410720825195,
          -17.952110290527344,
          79.81046295166016,
          -86.15558624267578,
          60.632389068603516,
          22.978778839111328,
          48.135406494140625,
          70.51631927490234,
          -20.17682647705078,
          22.670570373535156
         ]
        },
        {
         "customdata": [
          [
           "Long John Baldry",
           "Goin Out Of My Head"
          ],
          [
           "George Harrison",
           "All Those Years Ago (Live) (2004 Digital Remaster)"
          ],
          [
           "Toto",
           "A Thousand Years"
          ],
          [
           "Bruce Springsteen",
           "The River"
          ],
          [
           "Boney M.",
           "Painter Man"
          ],
          [
           "Limahl",
           "Never Ending Story"
          ],
          [
           "The Pastels",
           "Over My Shoulder"
          ],
          [
           "Robbie Williams",
           "I Wouldn't Normally Do This Kind Of Thing"
          ],
          [
           "James & Bobby Purify",
           "Let Love Come Between Us"
          ],
          [
           "Paul McCartney / Wings",
           "Bluebird"
          ],
          [
           "Alicia Keys",
           "Like You'll Never See Me Again"
          ],
          [
           "Imagination",
           "Just an Illusion"
          ],
          [
           "Savage Garden",
           "To The Moon & Back"
          ]
         ],
         "hovertemplate": "<b>%{hovertext}</b><br><br>genre=new wave<br>x=%{x}<br>y=%{y}<br>z=%{z}<br>artist=%{customdata[0]}<br>track=%{customdata[1]}<extra></extra>",
         "hovertext": [
          "TRUFPPV128F427C143",
          "TRMMPLV128F425F37F",
          "TRMANVT128F9310C2D",
          "TRHPMKO128F4282868",
          "TRAMWJH128F145DBE9",
          "TRAYIFV128F934B689",
          "TRBFRXP128F1472848",
          "TRZEBXJ128E0785DF0",
          "TRZBNQS128F147CD69",
          "TRKXAYZ128E0788E52",
          "TRFSJUR12903CB23E7",
          "TRPVZZN12903CEE421",
          "TRPKERG128F92CA8F1"
         ],
         "legendgroup": "new wave",
         "marker": {
          "color": "#FECB52",
          "symbol": "circle"
         },
         "mode": "markers",
         "name": "new wave",
         "scene": "scene",
         "showlegend": true,
         "type": "scatter3d",
         "x": [
          107.32475280761719,
          -18.823759078979492,
          2.6444716453552246,
          -54.4498176574707,
          -137.283203125,
          18.659481048583984,
          -18.132343292236328,
          111.11328125,
          49.093780517578125,
          -31.479795455932617,
          29.477445602416992,
          11.784575462341309,
          -80.7728271484375
         ],
         "y": [
          -126.8919906616211,
          108.2830581665039,
          11.98915958404541,
          28.538530349731445,
          -52.93629455566406,
          111.67970275878906,
          -60.686683654785156,
          43.38454818725586,
          -24.098892211914062,
          -108.4723892211914,
          123.54995727539062,
          83.6408462524414,
          -132.47398376464844
         ],
         "z": [
          37.90290451049805,
          58.95361328125,
          -96.69435119628906,
          -21.99240493774414,
          -61.60927963256836,
          57.135841369628906,
          102.53178405761719,
          -24.379270553588867,
          -37.21772003173828,
          -28.748220443725586,
          68.69093322753906,
          -22.531824111938477,
          31.28481674194336
         ]
        },
        {
         "customdata": [
          [
           "ARRESTED DEVELOPMENT",
           "Tennessee (2001 Digital Remaster)"
          ],
          [
           "Alicia Keys featuring Ludacris",
           "Like You'll Never See Me Again Remix (feat. Ludacris)"
          ],
          [
           "Melanie C",
           "Better Alone"
          ],
          [
           "City",
           "Mir wird kalt dabei"
          ],
          [
           "George McCrae",
           "Rock Your Baby"
          ],
          [
           "Yazoo",
           "Mr Blue"
          ],
          [
           "Imagination",
           "Just An Illusion"
          ],
          [
           "The Everly Brothers",
           "True Love"
          ],
          [
           "Imagination",
           "Just An Illusion"
          ],
          [
           "Paul Anka",
           "Lonely Boy"
          ],
          [
           "The Beautiful South",
           "If Teardrops Were Silver"
          ],
          [
           "Kake Randelin",
           "Silti uskon"
          ],
          [
           "Kool & The Gang",
           "Let's Go Dancin'"
          ],
          [
           "The Cure",
           "All I Want"
          ],
          [
           "Lionrock",
           "Packet Of Peace"
          ],
          [
           "Sinitta",
           "Toy Boy"
          ],
          [
           "Duran Duran",
           "Hungry Like The Wolf (Live)"
          ]
         ],
         "hovertemplate": "<b>%{hovertext}</b><br><br>genre=pop and chart<br>x=%{x}<br>y=%{y}<br>z=%{z}<br>artist=%{customdata[0]}<br>track=%{customdata[1]}<extra></extra>",
         "hovertext": [
          "TRNHJRU12903CE5FC4",
          "TRXZBZU128F9339F4C",
          "TRTUSHE128F1464844",
          "TRTSGLE128F425BB21",
          "TRIHNSK128F425DDE1",
          "TRIDLDE128F149BF3F",
          "TRMMLNP128F9308A1E",
          "TRAGJNX128F92CEFDB",
          "TRAKDJO128E07811D8",
          "TRWDPTD12903D018B5",
          "TRKHUDR128E0788E6A",
          "TRKCRLT128F42A58DE",
          "TROTIYV128F93584F0",
          "TRYIYUF128F932573D",
          "TRFNMUH128F14A6EE8",
          "TRFRHQU128F146A533",
          "TRPCLIY12903CEF8C2"
         ],
         "legendgroup": "pop and chart",
         "marker": {
          "color": "#636efa",
          "symbol": "circle"
         },
         "mode": "markers",
         "name": "pop and chart",
         "scene": "scene",
         "showlegend": true,
         "type": "scatter3d",
         "x": [
          -6.8546624183654785,
          -141.84292602539062,
          -101.73870086669922,
          62.37911605834961,
          -71.46442413330078,
          -105.76160430908203,
          59.69317626953125,
          -62.506996154785156,
          -9.49388313293457,
          95.50297546386719,
          90.19049072265625,
          117.229736328125,
          21.791004180908203,
          80.50332641601562,
          -58.880619049072266,
          -8.699728965759277,
          36.419925689697266
         ],
         "y": [
          -49.51539611816406,
          -77.13311767578125,
          -55.96487808227539,
          -24.41943359375,
          -1.2249517440795898,
          -0.7006853222846985,
          -111.34110260009766,
          -14.182625770568848,
          -77.78951263427734,
          -97.4999771118164,
          10.860962867736816,
          13.837360382080078,
          -43.96366500854492,
          -77.6595458984375,
          -8.701531410217285,
          -96.28419494628906,
          68.84454345703125
         ],
         "z": [
          -147.25567626953125,
          17.987167358398438,
          22.192808151245117,
          -68.53556060791016,
          114.56373596191406,
          82.21373748779297,
          -34.366817474365234,
          130.92433166503906,
          141.95233154296875,
          85.99163055419922,
          63.5094108581543,
          -111.56885528564453,
          111.54424285888672,
          -27.899126052856445,
          1.1723288297653198,
          -98.47046661376953,
          -23.071401596069336
         ]
        },
        {
         "customdata": [
          [
           "Lisa Stansfield;Ian Devaney;Andy Morris",
           "You Can't Deny It"
          ],
          [
           "Bert Kaempfert",
           "Footprints In The Sand (Huellas En La Arena)"
          ],
          [
           "Paul Anka",
           "Lonely Boy"
          ],
          [
           "Tony Yayo",
           "Eastside Westside"
          ],
          [
           "Jason Donovan",
           "All The Words We Don't Say"
          ],
          [
           "Savage Garden",
           "I Knew I Loved You"
          ],
          [
           "The Cure",
           "One Hundred Years"
          ],
          [
           "The Cranberries",
           "Free To Decide"
          ],
          [
           "Phil Collins",
           "Two Worlds (Phil Version)"
          ],
          [
           "Bodyrockers",
           "I Like The Way"
          ],
          [
           "Missy Elliott",
           "All N My Grill (LP Version)"
          ],
          [
           "Willie Nelson",
           "If You Can Touch Her At All"
          ],
          [
           "Mousse T. Vs Hot 'n' Juicy",
           "Horny"
          ]
         ],
         "hovertemplate": "<b>%{hovertext}</b><br><br>genre=pop<br>x=%{x}<br>y=%{y}<br>z=%{z}<br>artist=%{customdata[0]}<br>track=%{customdata[1]}<extra></extra>",
         "hovertext": [
          "TRNWKTL128F92F318A",
          "TRIIGCK128F42A28C7",
          "TRIFDPW128F4231E21",
          "TRGYSHN128F425FD74",
          "TRCNVUE128F423974F",
          "TRCOTJS128E0798D2D",
          "TRSBIZR128E0786C60",
          "TRBATUS128F9303CA0",
          "TRBCMYX128F92EB4BA",
          "TRJDWDW128E0798A80",
          "TRODWSW128F14A94F4",
          "TRLHOCQ128F1487080",
          "TRYRIUL128F42850E3"
         ],
         "legendgroup": "pop",
         "marker": {
          "color": "#EF553B",
          "symbol": "circle"
         },
         "mode": "markers",
         "name": "pop",
         "scene": "scene",
         "showlegend": true,
         "type": "scatter3d",
         "x": [
          -110.1112060546875,
          32.60544967651367,
          -119.94915771484375,
          123.9727554321289,
          75.6483154296875,
          54.82838439941406,
          -26.614408493041992,
          128.65963745117188,
          -108.98701477050781,
          51.54281997680664,
          69.00638580322266,
          32.42885208129883,
          74.04621887207031
         ],
         "y": [
          -53.15377426147461,
          80.47119140625,
          -25.37139320373535,
          7.290186405181885,
          -60.02702331542969,
          10.926021575927734,
          45.5820198059082,
          -99.1982421875,
          -67.93126678466797,
          4.0815324783325195,
          -59.23309326171875,
          -1.570336937904358,
          -2.020012617111206
         ],
         "z": [
          62.34708023071289,
          -55.55448913574219,
          -32.8389778137207,
          47.905704498291016,
          -0.02850640006363392,
          52.97278594970703,
          125.26167297363281,
          -37.47105026245117,
          55.83361053466797,
          -85.43749237060547,
          -79.96038818359375,
          -101.33405303955078,
          -35.666046142578125
         ]
        },
        {
         "customdata": [
          [
           "Limahl",
           "Never Ending Story"
          ],
          [
           "Duran Duran",
           "New Moon On Monday (2010 Digital Remaster)"
          ],
          [
           "The Archies",
           "Sugar Sugar"
          ],
          [
           "Duran Duran",
           "Hold Back The Rain (US Album Remix) (2009 Digital Remaster)"
          ]
         ],
         "hovertemplate": "<b>%{hovertext}</b><br><br>genre=production music<br>x=%{x}<br>y=%{y}<br>z=%{z}<br>artist=%{customdata[0]}<br>track=%{customdata[1]}<extra></extra>",
         "hovertext": [
          "TRTXJXW128F9312B02",
          "TRTUEZL128F931DD6C",
          "TRGNSXR128F4231289",
          "TRGMAZZ12903CC0AC4"
         ],
         "legendgroup": "production music",
         "marker": {
          "color": "#00cc96",
          "symbol": "circle"
         },
         "mode": "markers",
         "name": "production music",
         "scene": "scene",
         "showlegend": true,
         "type": "scatter3d",
         "x": [
          62.68636703491211,
          8.15523624420166,
          -102.48686218261719,
          -53.4101448059082
         ],
         "y": [
          -90.36573791503906,
          48.02083206176758,
          -77.84664154052734,
          -32.78501892089844
         ],
         "z": [
          110.79178619384766,
          -26.04039764404297,
          -48.45034408569336,
          24.58493995666504
         ]
        },
        {
         "customdata": [
          [
           "Chic",
           "Good Times (Original 12\"  Mix)"
          ]
         ],
         "hovertemplate": "<b>%{hovertext}</b><br><br>genre=progressive rock<br>x=%{x}<br>y=%{y}<br>z=%{z}<br>artist=%{customdata[0]}<br>track=%{customdata[1]}<extra></extra>",
         "hovertext": [
          "TRLOCIC128F14AEC53"
         ],
         "legendgroup": "progressive rock",
         "marker": {
          "color": "#ab63fa",
          "symbol": "circle"
         },
         "mode": "markers",
         "name": "progressive rock",
         "scene": "scene",
         "showlegend": true,
         "type": "scatter3d",
         "x": [
          86.03910064697266
         ],
         "y": [
          30.16118812561035
         ],
         "z": [
          -48.1274299621582
         ]
        },
        {
         "customdata": [
          [
           "Gloria Gaynor",
           "I Will Survive"
          ],
          [
           "NOFX",
           "Happy Guy"
          ],
          [
           "Gerry Rafferty",
           "Baker Street"
          ]
         ],
         "hovertemplate": "<b>%{hovertext}</b><br><br>genre=rnb<br>x=%{x}<br>y=%{y}<br>z=%{z}<br>artist=%{customdata[0]}<br>track=%{customdata[1]}<extra></extra>",
         "hovertext": [
          "TRZXAGH128F93232BE",
          "TRZMMTF128F92D51E4",
          "TRFHSND128F146B02D"
         ],
         "legendgroup": "rnb",
         "marker": {
          "color": "#FFA15A",
          "symbol": "circle"
         },
         "mode": "markers",
         "name": "rnb",
         "scene": "scene",
         "showlegend": true,
         "type": "scatter3d",
         "x": [
          -68.67247009277344,
          0.7302775382995605,
          43.697078704833984
         ],
         "y": [
          -70.76931762695312,
          63.963253021240234,
          -150.44564819335938
         ],
         "z": [
          -79.0898666381836,
          -55.532508850097656,
          -60.34054183959961
         ]
        },
        {
         "customdata": [
          [
           "Basshunter",
           "I Promised Myself"
          ],
          [
           "Miranda Lambert",
           "Time To Get A Gun"
          ],
          [
           "The Beautiful South",
           "Everybody's Talkin'"
          ],
          [
           "Richard Clayderman / James Last And His Orchestra",
           "From A Distance"
          ],
          [
           "3 Doors Down",
           "Kryptonite"
          ],
          [
           "Gigi D\u0019Agostino",
           "The Only One"
          ],
          [
           "Tam Tam Go!",
           "El Onanista De La Caja De Sorpresas"
          ],
          [
           "R.E.M.",
           "Everybody Hurts [Live In Dublin]"
          ],
          [
           "The Ventures",
           "Telstar"
          ],
          [
           "Wang Chung",
           "Dance Hall Days"
          ],
          [
           "Elton John",
           "Sad Songs (Say So Much)"
          ],
          [
           "Robbie Williams",
           "She's Madonna (Kris Menace Dub)"
          ],
          [
           "Hay / Strykert",
           "Down Under"
          ],
          [
           "Joan Baez",
           "Girl Of Constant Sorrow"
          ],
          [
           "James Last",
           "Night Fever"
          ],
          [
           "U2",
           "If God Will Send His Angels"
          ],
          [
           "James Last",
           "The Most Beautiful Girl"
          ],
          [
           "KC And The Sunshine Band",
           "I'm Your Boogie Man"
          ],
          [
           "Pet Shop Boys",
           "I Wouldn't Normally Do This Kind Of Thing (Beatmasters Mix) (2001 Digital Remaster)"
          ],
          [
           "Las Ketchup",
           "Aserejé"
          ],
          [
           "Bobby Vinton",
           "Kissin' Christmas"
          ]
         ],
         "hovertemplate": "<b>%{hovertext}</b><br><br>genre=rock and indie<br>x=%{x}<br>y=%{y}<br>z=%{z}<br>artist=%{customdata[0]}<br>track=%{customdata[1]}<extra></extra>",
         "hovertext": [
          "TRNTJOQ128E0794306",
          "TRNJGTR128F145958E",
          "TRXJVOD128F42522D1",
          "TRUOGNN128F145B34C",
          "TRRACQG128F145959F",
          "TRRJMKH128F4250F30",
          "TRROQUB128E078167C",
          "TRRFOAF128F92DF787",
          "TRMJFBC128F424A07D",
          "TRHRMNF128F14595A9",
          "TRHLCEG128F14A518D",
          "TRGHDJU128E07813F9",
          "TRVMMBF128F145B2EB",
          "TREDEOB128F92CFF26",
          "TRWRNKD128F9327D73",
          "TRSLGKR128F1464BB9",
          "TRQTGXD128F427F195",
          "TRQWIGL128E078290E",
          "TRZCPYN128F4298F60",
          "TRYLTIA128F42A34E6",
          "TRYFXRX128F145AC22"
         ],
         "legendgroup": "rock and indie",
         "marker": {
          "color": "#19d3f3",
          "symbol": "circle"
         },
         "mode": "markers",
         "name": "rock and indie",
         "scene": "scene",
         "showlegend": true,
         "type": "scatter3d",
         "x": [
          83.09671783447266,
          -58.7398681640625,
          113.65342712402344,
          79.64444732666016,
          16.320934295654297,
          -59.08302688598633,
          2.8681557178497314,
          28.209407806396484,
          39.88776397705078,
          40.58207702636719,
          85.84841918945312,
          7.519848823547363,
          58.307273864746094,
          30.365962982177734,
          -123.66072845458984,
          -69.33309936523438,
          -4.601129531860352,
          52.11098861694336,
          21.182838439941406,
          108.88971710205078,
          -42.4583854675293
         ],
         "y": [
          -56.61859130859375,
          -1.7769695520401,
          30.924646377563477,
          65.89515686035156,
          -83.0932846069336,
          88.38731384277344,
          28.09818458557129,
          -5.396396636962891,
          -65.73221588134766,
          3.514282703399658,
          -115.65032196044922,
          -162.55677795410156,
          60.35686111450195,
          -32.57865524291992,
          44.3295783996582,
          10.765833854675293,
          145.63548278808594,
          -10.685449600219727,
          36.76654815673828,
          79.11827087402344,
          -19.085420608520508
         ],
         "z": [
          94.78860473632812,
          -35.036903381347656,
          89.470947265625,
          -1.8568212985992432,
          10.79770565032959,
          80.75265502929688,
          52.60884475708008,
          -135.18565368652344,
          83.11723327636719,
          84.39960479736328,
          -42.74622344970703,
          2.0176517963409424,
          9.352461814880371,
          92.70496368408203,
          -19.575626373291016,
          -43.91149139404297,
          64.38937377929688,
          118.98392486572266,
          -119.75700378417969,
          -68.39494323730469,
          67.06134796142578
         ]
        },
        {
         "customdata": [
          [
           "New Order",
           "World [Price Of Love]"
          ],
          [
           "Alanis Morissette",
           "You Learn (Album Version)"
          ],
          [
           "Boney M.",
           "Painter Man"
          ],
          [
           "Bangles",
           "Walk Like An Egyptian"
          ],
          [
           "Gipsy Kings",
           "Pida Me La"
          ],
          [
           "Styx",
           "The Best Of Times"
          ],
          [
           "ZZ Top",
           "Hot_ Blue And Righteous [Remastered Album Version]"
          ],
          [
           "Delta Goodrem",
           "A Little Too Late"
          ],
          [
           "Tina Charles",
           "I Love To Love"
          ],
          [
           "The Seekers",
           "The Carnival Is Over"
          ],
          [
           "Counting Crows",
           "Hanginaround"
          ],
          [
           "Duran Duran",
           "Save A Prayer"
          ],
          [
           "Catie Curtis",
           "Kiss That Counted (Album Version)"
          ],
          [
           "Alain Souchon",
           "Foule Sentimentale (Live)"
          ],
          [
           "Bobby Brown",
           "Rock Wit'cha"
          ],
          [
           "Connie Francis",
           "Lipstick On Your Collar"
          ],
          [
           "Sarah McLachlan",
           "Plenty"
          ],
          [
           "Gladys Knight & The Pips",
           "Midnight Train To Georgia (Single Edit Version)"
          ],
          [
           "Andrew Gold",
           "Final Frontier (LP Version)"
          ],
          [
           "The Cranberries",
           "Animal Instinct"
          ]
         ],
         "hovertemplate": "<b>%{hovertext}</b><br><br>genre=rock<br>x=%{x}<br>y=%{y}<br>z=%{z}<br>artist=%{customdata[0]}<br>track=%{customdata[1]}<extra></extra>",
         "hovertext": [
          "TRNNCPB128F92D307D",
          "TRXWWWB128F9305CAA",
          "TRUOFFK128F426301E",
          "TRUPEBD12903CCDB24",
          "TRGEMBS128F42ACDF6",
          "TRVCHAD128F92F68D2",
          "TRANHSO12903CF02CC",
          "TRAIFLV12903CCFECD",
          "TRAYSWO128F931CFA4",
          "TRWFMSQ128F427D89C",
          "TRCEVWM128F932F84A",
          "TRBCORE12903CD6FA0",
          "TRBQFEC128F92F3FAB",
          "TRBOHZI128F92F02BE",
          "TRQXIRB128F423B5F4",
          "TRJSBNB128F4261DB3",
          "TRJSOQD128F92D3072",
          "TRLJFCU128F92DDC32",
          "TRYATJD128F92FDB02",
          "TRFNHNB128E0780DF7"
         ],
         "legendgroup": "rock",
         "marker": {
          "color": "#FF6692",
          "symbol": "circle"
         },
         "mode": "markers",
         "name": "rock",
         "scene": "scene",
         "showlegend": true,
         "type": "scatter3d",
         "x": [
          -56.58544158935547,
          -40.070953369140625,
          -139.4246368408203,
          -14.627202987670898,
          -64.78132629394531,
          3.3076114654541016,
          92.36682891845703,
          107.56478881835938,
          -41.747032165527344,
          -114.06914520263672,
          64.03958129882812,
          -66.17543029785156,
          96.24199676513672,
          -93.74195861816406,
          -78.416748046875,
          -35.02015686035156,
          32.4959716796875,
          -68.02396392822266,
          5.025450229644775,
          -45.36911392211914
         ],
         "y": [
          82.81291961669922,
          144.27297973632812,
          23.998672485351562,
          -47.96234893798828,
          -121.96087646484375,
          137.10311889648438,
          -137.3634796142578,
          119.90966796875,
          -31.163816452026367,
          43.860870361328125,
          141.47300720214844,
          -108.3978042602539,
          84.8794937133789,
          -45.84446716308594,
          -62.9544677734375,
          -1.8596699237823486,
          -106.18804931640625,
          -87.69670104980469,
          103.00077056884766,
          -54.319149017333984
         ],
         "z": [
          -96.95980072021484,
          2.948328733444214,
          8.190106391906738,
          7.22636604309082,
          -49.99696350097656,
          -76.41422271728516,
          -8.059367179870605,
          -33.160400390625,
          93.60600280761719,
          -123.91035461425781,
          67.06102752685547,
          93.06185913085938,
          61.574337005615234,
          -116.66263580322266,
          -121.41985321044922,
          -143.86328125,
          126.70584869384766,
          -38.27540588378906,
          -47.190650939941406,
          -46.770084381103516
         ]
        },
        {
         "customdata": [
          [
           "The Everly Brothers",
           "Bye Bye Love"
          ],
          [
           "Hilary Duff",
           "Wake Up"
          ],
          [
           "Willie Nelson",
           "On The Road Again"
          ],
          [
           "Whitney Houston",
           "How Will I Know"
          ],
          [
           "Japan",
           "Quiet Life"
          ],
          [
           "Frank Ifield",
           "I Remember You"
          ],
          [
           "Jean Michel Jarre",
           "Oxygène_ Pt. XIII"
          ],
          [
           "Coldplay",
           "In My Place (Live In Sydney)"
          ]
         ],
         "hovertemplate": "<b>%{hovertext}</b><br><br>genre=soul and reggae<br>x=%{x}<br>y=%{y}<br>z=%{z}<br>artist=%{customdata[0]}<br>track=%{customdata[1]}<extra></extra>",
         "hovertext": [
          "TRNUDOZ128F42B0CFC",
          "TRNLFYZ128F42B3224",
          "TRTRPXO128F93609B0",
          "TRUUWQJ128F4233468",
          "TRUBCUL128F1471730",
          "TRAZCCG128F1463460",
          "TRYHOYI12903D0950B",
          "TRDKKYU128F42438DA"
         ],
         "legendgroup": "soul and reggae",
         "marker": {
          "color": "#B6E880",
          "symbol": "circle"
         },
         "mode": "markers",
         "name": "soul and reggae",
         "scene": "scene",
         "showlegend": true,
         "type": "scatter3d",
         "x": [
          -48.2318115234375,
          190.6055908203125,
          -135.6993408203125,
          85.47052764892578,
          -73.69457244873047,
          37.2919807434082,
          -21.550861358642578,
          -16.83915901184082
         ],
         "y": [
          -109.19407653808594,
          -85.29979705810547,
          91.0463638305664,
          47.48587417602539,
          -2.0403974056243896,
          -52.84442138671875,
          28.512718200683594,
          -30.297361373901367
         ],
         "z": [
          21.688892364501953,
          185.896728515625,
          5.858723163604736,
          -80.87409973144531,
          66.24071502685547,
          146.5497589111328,
          95.16587829589844,
          31.206113815307617
         ]
        },
        {
         "customdata": [
          [
           "Bangles",
           "Hazy Shade Of Winter"
          ],
          [
           "Paola Turci",
           "Sai Che E' Un Attimo"
          ],
          [
           "Boney M.",
           "Dreadlock Holiday"
          ],
          [
           "Billy Idol",
           "Blue Christmas"
          ],
          [
           "Remi Nicole",
           "Be My Baby"
          ]
         ],
         "hovertemplate": "<b>%{hovertext}</b><br><br>genre=spanish<br>x=%{x}<br>y=%{y}<br>z=%{z}<br>artist=%{customdata[0]}<br>track=%{customdata[1]}<extra></extra>",
         "hovertext": [
          "TRUFPTS128F4297675",
          "TRRYVQI128F148D12A",
          "TROQOXI128F42734EB",
          "TRLAWOD128F427448F",
          "TRFDXTG128F1496037"
         ],
         "legendgroup": "spanish",
         "marker": {
          "color": "#FF97FF",
          "symbol": "circle"
         },
         "mode": "markers",
         "name": "spanish",
         "scene": "scene",
         "showlegend": true,
         "type": "scatter3d",
         "x": [
          132.69476318359375,
          42.13939666748047,
          18.247737884521484,
          -26.91147232055664,
          9.306109428405762
         ],
         "y": [
          76.40240478515625,
          167.7465362548828,
          -103.61912536621094,
          22.67535400390625,
          -71.59513092041016
         ],
         "z": [
          31.870590209960938,
          -18.79327964782715,
          -29.538734436035156,
          -98.1131820678711,
          1.5861601829528809
         ]
        },
        {
         "customdata": [
          [
           "Kool & The Gang",
           "Let's Go Dancin' (Ohh La_ La La)"
          ],
          [
           "Usher",
           "You Make Me Wanna..."
          ]
         ],
         "hovertemplate": "<b>%{hovertext}</b><br><br>genre=swedish<br>x=%{x}<br>y=%{y}<br>z=%{z}<br>artist=%{customdata[0]}<br>track=%{customdata[1]}<extra></extra>",
         "hovertext": [
          "TRGTWMB128E078F2E5",
          "TRAMDRT12903CA121C"
         ],
         "legendgroup": "swedish",
         "marker": {
          "color": "#FECB52",
          "symbol": "circle"
         },
         "mode": "markers",
         "name": "swedish",
         "scene": "scene",
         "showlegend": true,
         "type": "scatter3d",
         "x": [
          58.590423583984375,
          22.63261604309082
         ],
         "y": [
          48.1949462890625,
          -117.02609252929688
         ],
         "z": [
          -33.295143127441406,
          -102.20611572265625
         ]
        },
        {
         "customdata": [
          [
           "Sweet",
           "Coco/Funny Funny/Poppa Joe"
          ],
          [
           "Mungo Jerry",
           "In The Summertime "
          ],
          [
           "Supergrass",
           "Alright"
          ],
          [
           "Supertramp",
           "Dreamer"
          ],
          [
           "Wall Of Voodoo",
           "Blackboard Sky (Live)"
          ],
          [
           "Chic",
           "Chic Mystique (Album Version) (2006 Remastered)"
          ],
          [
           "Average White Band",
           "Pick Up The Pieces (Single Short Edit Version)"
          ],
          [
           "Duran Duran",
           "Hungry Like The Wolf (Live At The Hammersmith Odeon)"
          ],
          [
           "KT Tunstall",
           "Suddenly I See (Radio Version)"
          ],
          [
           "U2",
           "Sweetest Thing"
          ],
          [
           "George Michael",
           "Praying For Time"
          ],
          [
           "George Michael",
           "Waiting For That Day"
          ],
          [
           "Cliff Richard & The Shadows",
           "Bachelor Boy (2000 Digital Remaster)"
          ],
          [
           "Alexander O'Neal",
           "A Million Love Songs"
          ],
          [
           "Brooks & Dunn",
           "Boot Scootin' Boogie"
          ],
          [
           "Mousse T. with Emma Lanford",
           "Right About Now (Album Version)"
          ],
          [
           "Queen",
           "Misfire (1993 Digital Remaster)"
          ],
          [
           "Tammy Wynette",
           "Stand By Your Man"
          ],
          [
           "Japan",
           "Quiet Life"
          ],
          [
           "Epsilon Minus",
           "80s Boy (DJ Ram Remix)"
          ],
          [
           "Johnny Cash",
           "A Thing Called Love"
          ],
          [
           "Paula Abdul",
           "Straight Up (Single Version)"
          ],
          [
           "George Harrison",
           "All Those Years Ago (2004 Digital Remaster)"
          ],
          [
           "Dwight Yoakam",
           "North To Alaska (LP Version + Hidden Track \"T For Texas\")"
          ],
          [
           "Tina Turner",
           "On Silent Wings (Live)"
          ],
          [
           "Chic",
           "Le Freak"
          ],
          [
           "Sade",
           "Your Love Is King"
          ],
          [
           "Brooks & Dunn",
           "Lost And Found"
          ],
          [
           "Dr. Hook",
           "When You're In Love With A Beautiful Woman"
          ],
          [
           "Carla Bruni",
           "I Went To Heaven (Album)"
          ],
          [
           "Coldplay",
           "In My Place"
          ],
          [
           "The Archies",
           "Sugar_ Sugar"
          ],
          [
           "Blondie",
           "Heart Of Glass (LP Version)"
          ],
          [
           "The Archies",
           "Sugar Sugar"
          ],
          [
           "The Police",
           "Every Little Thing She Does Is Magic"
          ],
          [
           "East 17",
           "It's All Over"
          ],
          [
           "Richard Clayderman",
           "Mandy"
          ],
          [
           "M-Clan",
           "Llamando A La Tierra (Serenade From The Stars)"
          ],
          [
           "Toni Braxton",
           "Breathe Again"
          ],
          [
           "Irene Cara",
           "What A Feeling"
          ],
          [
           "Leftfield",
           "Inspection (Check One)"
          ],
          [
           "KT Tunstall",
           "Suddenly I See"
          ],
          [
           "Willie Nelson",
           "Nobody Slides_ My Friend"
          ],
          [
           "ZZ Top",
           "Legs [Single Version]"
          ],
          [
           "S Club 7",
           "Two In A Million"
          ],
          [
           "Kelly Marie",
           "Listen To The Children"
          ],
          [
           "The Seekers",
           "The Carnival Is Over"
          ],
          [
           "Dwight Yoakam",
           "The Curse (LP Version)"
          ],
          [
           "Lisa Stansfield",
           "I Will Be Waiting"
          ],
          [
           "Gram Parsons",
           "Drug Store Truck Drivin' Man (1973 Live Version)"
          ],
          [
           "The Cure",
           "Plainsong"
          ],
          [
           "Zucchero",
           "Madre Dolcissima"
          ],
          [
           "Steely Dan",
           "Barrytown"
          ],
          [
           "Judy Collins",
           "Send In The Clowns [LP Version]"
          ],
          [
           "Los Del Mar",
           "Macarena (feat. Josè Garcia)"
          ],
          [
           "Savage Garden",
           "Crash And Burn"
          ],
          [
           "Soft Cell",
           "Insecure Me"
          ],
          [
           "Mojave 3",
           "Tinkers Blues"
          ],
          [
           "Chi-Lites",
           "Have You Seen Her?"
          ],
          [
           "Finntroll",
           "Marknadsvisan"
          ],
          [
           "Blue Rodeo",
           "Black Ribbon"
          ]
         ],
         "hovertemplate": "<b>%{hovertext}</b><br><br>genre=uk<br>x=%{x}<br>y=%{y}<br>z=%{z}<br>artist=%{customdata[0]}<br>track=%{customdata[1]}<extra></extra>",
         "hovertext": [
          "TRNUTXB128F92F6C9F",
          "TRNIDOH128F92F1796",
          "TRXHAZS128F42598D1",
          "TRXFGLZ128F425ECAB",
          "TRTVMWY128F14A2C72",
          "TRTPYDF128F145ADC8",
          "TRUHHPK12903CBA84F",
          "TRUVCJA128F4267E39",
          "TRUQQGT128F932FAD7",
          "TRUPURM128F429685C",
          "TRRKGRC128F932D8F0",
          "TRICKJT128F1452E83",
          "TRISVCC128E0793CCC",
          "TRILYEJ128F4259E6E",
          "TRMRNQS12903CE2FCB",
          "TRMCYUT128F4259E78",
          "TRMJWJM128F4279D58",
          "TRHSHSQ128E078E5F2",
          "TRGUDFU128F42598D6",
          "TRGCFXA128E0789B33",
          "TRGJFRR12903CC3070",
          "TRGPBMR128F1465182",
          "TRVINPR128F42597A7",
          "TRVACKX128F92EC704",
          "TRVWZET128F42A0E05",
          "TRVZINQ128F422D849",
          "TREMMLW128F92EC8E1",
          "TRATWSP128F933AD36",
          "TRWWJFK128F930526F",
          "TRCFUJT128F92DF6B6",
          "TRSTPIS128F42559B6",
          "TRSSRRF128F92FFA9F",
          "TRBSAIC128E0793CCE",
          "TRBFGKN128F145ADC4",
          "TRBFDHO128F4294AF0",
          "TRBPSFB128F92F3FCA",
          "TRQAIEN128E0784D50",
          "TRJWQJF12903CAC3E4",
          "TRJLLVG128F424793E",
          "TRZHILW128E0788FE9",
          "TRZYOGR128F42948AF",
          "TRONIEW128F14AADAF",
          "TRLYCFR128F92DF670",
          "TRYHOLF128F92EAE9D",
          "TRYGHWV128E0789B39",
          "TRYKBRA128F42382AF",
          "TRYPCVY128F9330D9E",
          "TRDXQYY12903CF806C",
          "TRDUIXP128F426415E",
          "TRDMYHS12903CB23D1",
          "TRDEDTO12903CF80A0",
          "TRDKAQG128F14543FA",
          "TRFXFBA12903D0CB8D",
          "TRFGZPB128F92FFBF9",
          "TRFKRTH128F145231D",
          "TRFFFFJ128F4259B34",
          "TRFPXXU128F933D7EB",
          "TRPTOYW128E07920B2",
          "TRPTOVY12903D089D4",
          "TRPVTRG128F425AB3E",
          "TRPDBNV128F423F018"
         ],
         "legendgroup": "uk",
         "marker": {
          "color": "#636efa",
          "symbol": "circle"
         },
         "mode": "markers",
         "name": "uk",
         "scene": "scene",
         "showlegend": true,
         "type": "scatter3d",
         "x": [
          -10.509650230407715,
          -47.7247428894043,
          -21.20664405822754,
          -52.15117263793945,
          -105.16787719726562,
          -84.11331939697266,
          -6.23519229888916,
          -2.2960023880004883,
          -73.07218933105469,
          17.674789428710938,
          -7.467905044555664,
          108.3322525024414,
          118.95329284667969,
          -99.37255859375,
          -67.35334014892578,
          -3.6919941902160645,
          89.39279174804688,
          76.2545166015625,
          -116.63626098632812,
          -21.854738235473633,
          58.67580032348633,
          -63.001564025878906,
          10.343118667602539,
          71.10530090332031,
          -30.55636978149414,
          -124.1326675415039,
          -54.87175369262695,
          76.63140106201172,
          -75.66163635253906,
          -88.3697738647461,
          57.666656494140625,
          -50.37107467651367,
          9.640096664428711,
          -82.20572662353516,
          -2.4435150623321533,
          -54.57119369506836,
          149.97457885742188,
          -85.4636001586914,
          -47.765132904052734,
          -22.4554500579834,
          -34.872474670410156,
          76.32518768310547,
          -105.294677734375,
          67.6376724243164,
          67.49356842041016,
          -76.0193099975586,
          -49.042118072509766,
          93.37791442871094,
          131.9953155517578,
          19.906099319458008,
          39.71333694458008,
          -7.53128719329834,
          -87.44717407226562,
          138.76177978515625,
          21.71965217590332,
          121.44702911376953,
          29.930131912231445,
          -4.775956630706787,
          53.098453521728516,
          43.67982482910156,
          -31.399906158447266
         ],
         "y": [
          -95.68305206298828,
          -123.12142181396484,
          38.304176330566406,
          95.33887481689453,
          91.04045104980469,
          -58.27715301513672,
          -23.768768310546875,
          -86.96958923339844,
          118.86487579345703,
          4.972776412963867,
          132.44284057617188,
          -19.983858108520508,
          -87.26042938232422,
          -47.02482604980469,
          44.777587890625,
          -20.76691246032715,
          10.962063789367676,
          83.82838439941406,
          9.433992385864258,
          -134.14614868164062,
          -87.83818054199219,
          -174.73619079589844,
          27.554645538330078,
          -53.68206787109375,
          -8.084647178649902,
          51.20399475097656,
          52.43283462524414,
          39.84754180908203,
          -50.560997009277344,
          -106.87227630615234,
          -81.56954193115234,
          40.014278411865234,
          28.004121780395508,
          -15.741272926330566,
          -21.439693450927734,
          -64.12496185302734,
          38.16692352294922,
          38.45048904418945,
          46.285491943359375,
          24.8682861328125,
          53.932159423828125,
          96.70690155029297,
          27.33003044128418,
          106.90339660644531,
          -120.8309326171875,
          107.7113265991211,
          56.55455780029297,
          -59.78826141357422,
          -24.33971405029297,
          -40.01631164550781,
          94.47088623046875,
          179.5436248779297,
          71.36321258544922,
          49.76443862915039,
          11.53381061553955,
          -49.55461120605469,
          76.03875732421875,
          29.950660705566406,
          32.996952056884766,
          -83.52283477783203,
          44.987083435058594
         ],
         "z": [
          -4.085859298706055,
          -82.68878936767578,
          68.5521240234375,
          41.57392120361328,
          89.55928802490234,
          -44.08272933959961,
          107.597900390625,
          -51.07221221923828,
          -1.193265676498413,
          63.7222785949707,
          -15.35468578338623,
          79.8606948852539,
          51.642513275146484,
          115.19683837890625,
          -53.932010650634766,
          -88.8896255493164,
          -86.33136749267578,
          -99.65087890625,
          43.63005828857422,
          -0.176377072930336,
          -97.06285095214844,
          47.58115768432617,
          20.957645416259766,
          -121.80384063720703,
          -43.11357498168945,
          -77.21604919433594,
          -134.6486053466797,
          -6.010702610015869,
          -0.16300660371780396,
          -83.81571197509766,
          16.59784698486328,
          119.05601501464844,
          -155.30162048339844,
          27.26729965209961,
          -121.67385864257812,
          94.30316925048828,
          49.18134689331055,
          -18.730876922607422,
          19.338571548461914,
          29.009098052978516,
          -80.180908203125,
          -50.340965270996094,
          11.623486518859863,
          47.123165130615234,
          53.619693756103516,
          -35.79667282104492,
          -15.407588958740234,
          55.75531005859375,
          -4.180367946624756,
          17.423778533935547,
          23.41270637512207,
          18.98142433166504,
          65.689453125,
          0.34513574838638306,
          -37.04975509643555,
          101.17607116699219,
          13.40021800994873,
          -152.6590576171875,
          -60.02651596069336,
          -119.14878845214844,
          -40.407470703125
         ]
        }
       ],
       "layout": {
        "legend": {
         "title": {
          "text": "genre"
         },
         "tracegroupgap": 0
        },
        "margin": {
         "t": 60
        },
        "scene": {
         "domain": {
          "x": [
           0,
           1
          ],
          "y": [
           0,
           1
          ]
         },
         "xaxis": {
          "title": {
           "text": "x"
          }
         },
         "yaxis": {
          "title": {
           "text": "y"
          }
         },
         "zaxis": {
          "title": {
           "text": "z"
          }
         }
        },
        "template": {
         "data": {
          "bar": [
           {
            "error_x": {
             "color": "#2a3f5f"
            },
            "error_y": {
             "color": "#2a3f5f"
            },
            "marker": {
             "line": {
              "color": "#E5ECF6",
              "width": 0.5
             }
            },
            "type": "bar"
           }
          ],
          "barpolar": [
           {
            "marker": {
             "line": {
              "color": "#E5ECF6",
              "width": 0.5
             }
            },
            "type": "barpolar"
           }
          ],
          "carpet": [
           {
            "aaxis": {
             "endlinecolor": "#2a3f5f",
             "gridcolor": "white",
             "linecolor": "white",
             "minorgridcolor": "white",
             "startlinecolor": "#2a3f5f"
            },
            "baxis": {
             "endlinecolor": "#2a3f5f",
             "gridcolor": "white",
             "linecolor": "white",
             "minorgridcolor": "white",
             "startlinecolor": "#2a3f5f"
            },
            "type": "carpet"
           }
          ],
          "choropleth": [
           {
            "colorbar": {
             "outlinewidth": 0,
             "ticks": ""
            },
            "type": "choropleth"
           }
          ],
          "contour": [
           {
            "colorbar": {
             "outlinewidth": 0,
             "ticks": ""
            },
            "colorscale": [
             [
              0,
              "#0d0887"
             ],
             [
              0.1111111111111111,
              "#46039f"
             ],
             [
              0.2222222222222222,
              "#7201a8"
             ],
             [
              0.3333333333333333,
              "#9c179e"
             ],
             [
              0.4444444444444444,
              "#bd3786"
             ],
             [
              0.5555555555555556,
              "#d8576b"
             ],
             [
              0.6666666666666666,
              "#ed7953"
             ],
             [
              0.7777777777777778,
              "#fb9f3a"
             ],
             [
              0.8888888888888888,
              "#fdca26"
             ],
             [
              1,
              "#f0f921"
             ]
            ],
            "type": "contour"
           }
          ],
          "contourcarpet": [
           {
            "colorbar": {
             "outlinewidth": 0,
             "ticks": ""
            },
            "type": "contourcarpet"
           }
          ],
          "heatmap": [
           {
            "colorbar": {
             "outlinewidth": 0,
             "ticks": ""
            },
            "colorscale": [
             [
              0,
              "#0d0887"
             ],
             [
              0.1111111111111111,
              "#46039f"
             ],
             [
              0.2222222222222222,
              "#7201a8"
             ],
             [
              0.3333333333333333,
              "#9c179e"
             ],
             [
              0.4444444444444444,
              "#bd3786"
             ],
             [
              0.5555555555555556,
              "#d8576b"
             ],
             [
              0.6666666666666666,
              "#ed7953"
             ],
             [
              0.7777777777777778,
              "#fb9f3a"
             ],
             [
              0.8888888888888888,
              "#fdca26"
             ],
             [
              1,
              "#f0f921"
             ]
            ],
            "type": "heatmap"
           }
          ],
          "heatmapgl": [
           {
            "colorbar": {
             "outlinewidth": 0,
             "ticks": ""
            },
            "colorscale": [
             [
              0,
              "#0d0887"
             ],
             [
              0.1111111111111111,
              "#46039f"
             ],
             [
              0.2222222222222222,
              "#7201a8"
             ],
             [
              0.3333333333333333,
              "#9c179e"
             ],
             [
              0.4444444444444444,
              "#bd3786"
             ],
             [
              0.5555555555555556,
              "#d8576b"
             ],
             [
              0.6666666666666666,
              "#ed7953"
             ],
             [
              0.7777777777777778,
              "#fb9f3a"
             ],
             [
              0.8888888888888888,
              "#fdca26"
             ],
             [
              1,
              "#f0f921"
             ]
            ],
            "type": "heatmapgl"
           }
          ],
          "histogram": [
           {
            "marker": {
             "colorbar": {
              "outlinewidth": 0,
              "ticks": ""
             }
            },
            "type": "histogram"
           }
          ],
          "histogram2d": [
           {
            "colorbar": {
             "outlinewidth": 0,
             "ticks": ""
            },
            "colorscale": [
             [
              0,
              "#0d0887"
             ],
             [
              0.1111111111111111,
              "#46039f"
             ],
             [
              0.2222222222222222,
              "#7201a8"
             ],
             [
              0.3333333333333333,
              "#9c179e"
             ],
             [
              0.4444444444444444,
              "#bd3786"
             ],
             [
              0.5555555555555556,
              "#d8576b"
             ],
             [
              0.6666666666666666,
              "#ed7953"
             ],
             [
              0.7777777777777778,
              "#fb9f3a"
             ],
             [
              0.8888888888888888,
              "#fdca26"
             ],
             [
              1,
              "#f0f921"
             ]
            ],
            "type": "histogram2d"
           }
          ],
          "histogram2dcontour": [
           {
            "colorbar": {
             "outlinewidth": 0,
             "ticks": ""
            },
            "colorscale": [
             [
              0,
              "#0d0887"
             ],
             [
              0.1111111111111111,
              "#46039f"
             ],
             [
              0.2222222222222222,
              "#7201a8"
             ],
             [
              0.3333333333333333,
              "#9c179e"
             ],
             [
              0.4444444444444444,
              "#bd3786"
             ],
             [
              0.5555555555555556,
              "#d8576b"
             ],
             [
              0.6666666666666666,
              "#ed7953"
             ],
             [
              0.7777777777777778,
              "#fb9f3a"
             ],
             [
              0.8888888888888888,
              "#fdca26"
             ],
             [
              1,
              "#f0f921"
             ]
            ],
            "type": "histogram2dcontour"
           }
          ],
          "mesh3d": [
           {
            "colorbar": {
             "outlinewidth": 0,
             "ticks": ""
            },
            "type": "mesh3d"
           }
          ],
          "parcoords": [
           {
            "line": {
             "colorbar": {
              "outlinewidth": 0,
              "ticks": ""
             }
            },
            "type": "parcoords"
           }
          ],
          "pie": [
           {
            "automargin": true,
            "type": "pie"
           }
          ],
          "scatter": [
           {
            "marker": {
             "colorbar": {
              "outlinewidth": 0,
              "ticks": ""
             }
            },
            "type": "scatter"
           }
          ],
          "scatter3d": [
           {
            "line": {
             "colorbar": {
              "outlinewidth": 0,
              "ticks": ""
             }
            },
            "marker": {
             "colorbar": {
              "outlinewidth": 0,
              "ticks": ""
             }
            },
            "type": "scatter3d"
           }
          ],
          "scattercarpet": [
           {
            "marker": {
             "colorbar": {
              "outlinewidth": 0,
              "ticks": ""
             }
            },
            "type": "scattercarpet"
           }
          ],
          "scattergeo": [
           {
            "marker": {
             "colorbar": {
              "outlinewidth": 0,
              "ticks": ""
             }
            },
            "type": "scattergeo"
           }
          ],
          "scattergl": [
           {
            "marker": {
             "colorbar": {
              "outlinewidth": 0,
              "ticks": ""
             }
            },
            "type": "scattergl"
           }
          ],
          "scattermapbox": [
           {
            "marker": {
             "colorbar": {
              "outlinewidth": 0,
              "ticks": ""
             }
            },
            "type": "scattermapbox"
           }
          ],
          "scatterpolar": [
           {
            "marker": {
             "colorbar": {
              "outlinewidth": 0,
              "ticks": ""
             }
            },
            "type": "scatterpolar"
           }
          ],
          "scatterpolargl": [
           {
            "marker": {
             "colorbar": {
              "outlinewidth": 0,
              "ticks": ""
             }
            },
            "type": "scatterpolargl"
           }
          ],
          "scatterternary": [
           {
            "marker": {
             "colorbar": {
              "outlinewidth": 0,
              "ticks": ""
             }
            },
            "type": "scatterternary"
           }
          ],
          "surface": [
           {
            "colorbar": {
             "outlinewidth": 0,
             "ticks": ""
            },
            "colorscale": [
             [
              0,
              "#0d0887"
             ],
             [
              0.1111111111111111,
              "#46039f"
             ],
             [
              0.2222222222222222,
              "#7201a8"
             ],
             [
              0.3333333333333333,
              "#9c179e"
             ],
             [
              0.4444444444444444,
              "#bd3786"
             ],
             [
              0.5555555555555556,
              "#d8576b"
             ],
             [
              0.6666666666666666,
              "#ed7953"
             ],
             [
              0.7777777777777778,
              "#fb9f3a"
             ],
             [
              0.8888888888888888,
              "#fdca26"
             ],
             [
              1,
              "#f0f921"
             ]
            ],
            "type": "surface"
           }
          ],
          "table": [
           {
            "cells": {
             "fill": {
              "color": "#EBF0F8"
             },
             "line": {
              "color": "white"
             }
            },
            "header": {
             "fill": {
              "color": "#C8D4E3"
             },
             "line": {
              "color": "white"
             }
            },
            "type": "table"
           }
          ]
         },
         "layout": {
          "annotationdefaults": {
           "arrowcolor": "#2a3f5f",
           "arrowhead": 0,
           "arrowwidth": 1
          },
          "coloraxis": {
           "colorbar": {
            "outlinewidth": 0,
            "ticks": ""
           }
          },
          "colorscale": {
           "diverging": [
            [
             0,
             "#8e0152"
            ],
            [
             0.1,
             "#c51b7d"
            ],
            [
             0.2,
             "#de77ae"
            ],
            [
             0.3,
             "#f1b6da"
            ],
            [
             0.4,
             "#fde0ef"
            ],
            [
             0.5,
             "#f7f7f7"
            ],
            [
             0.6,
             "#e6f5d0"
            ],
            [
             0.7,
             "#b8e186"
            ],
            [
             0.8,
             "#7fbc41"
            ],
            [
             0.9,
             "#4d9221"
            ],
            [
             1,
             "#276419"
            ]
           ],
           "sequential": [
            [
             0,
             "#0d0887"
            ],
            [
             0.1111111111111111,
             "#46039f"
            ],
            [
             0.2222222222222222,
             "#7201a8"
            ],
            [
             0.3333333333333333,
             "#9c179e"
            ],
            [
             0.4444444444444444,
             "#bd3786"
            ],
            [
             0.5555555555555556,
             "#d8576b"
            ],
            [
             0.6666666666666666,
             "#ed7953"
            ],
            [
             0.7777777777777778,
             "#fb9f3a"
            ],
            [
             0.8888888888888888,
             "#fdca26"
            ],
            [
             1,
             "#f0f921"
            ]
           ],
           "sequentialminus": [
            [
             0,
             "#0d0887"
            ],
            [
             0.1111111111111111,
             "#46039f"
            ],
            [
             0.2222222222222222,
             "#7201a8"
            ],
            [
             0.3333333333333333,
             "#9c179e"
            ],
            [
             0.4444444444444444,
             "#bd3786"
            ],
            [
             0.5555555555555556,
             "#d8576b"
            ],
            [
             0.6666666666666666,
             "#ed7953"
            ],
            [
             0.7777777777777778,
             "#fb9f3a"
            ],
            [
             0.8888888888888888,
             "#fdca26"
            ],
            [
             1,
             "#f0f921"
            ]
           ]
          },
          "colorway": [
           "#636efa",
           "#EF553B",
           "#00cc96",
           "#ab63fa",
           "#FFA15A",
           "#19d3f3",
           "#FF6692",
           "#B6E880",
           "#FF97FF",
           "#FECB52"
          ],
          "font": {
           "color": "#2a3f5f"
          },
          "geo": {
           "bgcolor": "white",
           "lakecolor": "white",
           "landcolor": "#E5ECF6",
           "showlakes": true,
           "showland": true,
           "subunitcolor": "white"
          },
          "hoverlabel": {
           "align": "left"
          },
          "hovermode": "closest",
          "mapbox": {
           "style": "light"
          },
          "paper_bgcolor": "white",
          "plot_bgcolor": "#E5ECF6",
          "polar": {
           "angularaxis": {
            "gridcolor": "white",
            "linecolor": "white",
            "ticks": ""
           },
           "bgcolor": "#E5ECF6",
           "radialaxis": {
            "gridcolor": "white",
            "linecolor": "white",
            "ticks": ""
           }
          },
          "scene": {
           "xaxis": {
            "backgroundcolor": "#E5ECF6",
            "gridcolor": "white",
            "gridwidth": 2,
            "linecolor": "white",
            "showbackground": true,
            "ticks": "",
            "zerolinecolor": "white"
           },
           "yaxis": {
            "backgroundcolor": "#E5ECF6",
            "gridcolor": "white",
            "gridwidth": 2,
            "linecolor": "white",
            "showbackground": true,
            "ticks": "",
            "zerolinecolor": "white"
           },
           "zaxis": {
            "backgroundcolor": "#E5ECF6",
            "gridcolor": "white",
            "gridwidth": 2,
            "linecolor": "white",
            "showbackground": true,
            "ticks": "",
            "zerolinecolor": "white"
           }
          },
          "shapedefaults": {
           "line": {
            "color": "#2a3f5f"
           }
          },
          "ternary": {
           "aaxis": {
            "gridcolor": "white",
            "linecolor": "white",
            "ticks": ""
           },
           "baxis": {
            "gridcolor": "white",
            "linecolor": "white",
            "ticks": ""
           },
           "bgcolor": "#E5ECF6",
           "caxis": {
            "gridcolor": "white",
            "linecolor": "white",
            "ticks": ""
           }
          },
          "title": {
           "x": 0.05
          },
          "xaxis": {
           "automargin": true,
           "gridcolor": "white",
           "linecolor": "white",
           "ticks": "",
           "title": {
            "standoff": 15
           },
           "zerolinecolor": "white",
           "zerolinewidth": 2
          },
          "yaxis": {
           "automargin": true,
           "gridcolor": "white",
           "linecolor": "white",
           "ticks": "",
           "title": {
            "standoff": 15
           },
           "zerolinecolor": "white",
           "zerolinewidth": 2
          }
         }
        }
       }
      },
      "text/html": [
       "<div>\n",
       "        \n",
       "        \n",
       "            <div id=\"84f568c7-f716-4665-bb5b-5b8bfe71a41d\" class=\"plotly-graph-div\" style=\"height:525px; width:100%;\"></div>\n",
       "            <script type=\"text/javascript\">\n",
       "                require([\"plotly\"], function(Plotly) {\n",
       "                    window.PLOTLYENV=window.PLOTLYENV || {};\n",
       "                    \n",
       "                if (document.getElementById(\"84f568c7-f716-4665-bb5b-5b8bfe71a41d\")) {\n",
       "                    Plotly.newPlot(\n",
       "                        '84f568c7-f716-4665-bb5b-5b8bfe71a41d',\n",
       "                        [{\"customdata\": [[\"Bruce Springsteen\", \"Secret Garden\"], [\"Billy Ray Cyrus\", \"I Will\"], [\"Eros Ramazzotti\", \"Yo Amar\\u00e9\"], [\"Alanis Morissette\", \"Hand In My Pocket (Album Version)\"], [\"Kool & The Gang\", \"Fresh\"], [\"Frank Ifield\", \"I Remember You\"], [\"Whitney Houston\", \"I'm Every Woman\"], [\"Brigitte Bardot / Serge Gainsbourg\", \"Comic Strip\"], [\"Limahl\", \"Never Ending Story\"], [\"The Equals\", \"Viva Bobby Joe\"], [\"Leonard Cohen\", \"Dance Me To The End Of Love\"], [\"Irene Cara\", \"Flashdance...What A Feeling\"], [\"Jessica Simpson\", \"Part Of Your World\"]], \"hovertemplate\": \"<b>%{hovertext}</b><br><br>genre=alternative rock<br>x=%{x}<br>y=%{y}<br>z=%{z}<br>artist=%{customdata[0]}<br>track=%{customdata[1]}<extra></extra>\", \"hovertext\": [\"TRRREUJ128F9332B39\", \"TRHTCXG12903CC2F60\", \"TRHRGRH128F9310D1E\", \"TRGEMWS128F145FB5F\", \"TREIADW128EF351919\", \"TRWHHJM128F427C0B7\", \"TRCMAED12903CE0094\", \"TRBRXCF128F4287F2C\", \"TRQAPRM128F9310CCE\", \"TRKXDDX128F92E308A\", \"TROGXGS128E078A493\", \"TROKAVZ128F425532C\", \"TRYIRLE128F145FB3F\"], \"legendgroup\": \"alternative rock\", \"marker\": {\"color\": \"#636efa\", \"symbol\": \"circle\"}, \"mode\": \"markers\", \"name\": \"alternative rock\", \"scene\": \"scene\", \"showlegend\": true, \"type\": \"scatter3d\", \"x\": [108.26126098632812, 138.9247283935547, -1.9447323083877563, 85.8687744140625, -75.96105194091797, 26.217111587524414, 131.9589385986328, 32.76968765258789, -6.273192882537842, 9.636540412902832, 96.11572265625, -22.950206756591797, 118.1604232788086], \"y\": [115.6365737915039, -48.89570999145508, 87.53157806396484, 107.40930938720703, 42.09971237182617, 137.63055419921875, -21.183090209960938, -35.749271392822266, 36.05099868774414, 82.74295806884766, -25.677709579467773, 41.0904541015625, -104.60906219482422], \"z\": [30.87588119506836, 61.18776321411133, 132.7908477783203, -4.6857829093933105, 9.680296897888184, -5.62249755859375, -86.94478607177734, -77.57870483398438, -70.63529968261719, -121.85334777832031, 48.776180267333984, 0.1284227967262268, 0.5976530909538269]}, {\"customdata\": [[\"Bread\", \"Baby I'm-A Want You (LP Version)\"], [\"Shirley & Company\", \"Shame_ Shame_ Shame (Vocal Version)\"], [\"Michael Jackson\", \"Bad\"], [\"Chic\", \"Le Freak (2006 Remastered LP Version)\"], [\"Change\", \"The Glow Of Love  (LP Version)\"], [\"Steve Miller Band\", \"Going To The Country\"], [\"Coldplay\", \"Spies\"], [\"Beth Nielsen Chapman\", \"All I Have (LP Version)\"], [\"John Legend\", \"P.D.A. (We Just Don't Care)\"], [\"Jennifer Warnes\", \"Right Time Of The Night\"], [\"Carter USM\", \"Young Offender's Mum (BBC In Concert)\"], [\"Suzi Quatro\", \"Stumblin'In\"], [\"Peter Green\", \"Midnight\"], [\"Gemelli Diversi\", \"Tu No\"], [\"Kenny Rogers\", \"She Believes In Me\"], [\"Patty Loveless\", \"There Stands The Glass (Album Version)\"], [\"Sade\", \"Nothing Can Come Between Us\"], [\"Serge Gainsbourg\", \"Comic Strip\"], [\"Percy Grainger & Kristiansand Symfoniorkester\", \"Piano Concerto In A Minor_ Op. 16 - Ii: Adagio\"], [\"Eagles\", \"Hotel California\"], [\"Dr. Hook\", \"Better Love Next Time\"], [\"New Radicals\", \"You Get What You Give\"], [\"Kool & The Gang featuring Liberty X\", \"Fresh\"], [\"Boogie Pimps Feat. Steve Brookstein\", \"Promised Land [Electric Allstars Club Mix]\"], [\"ZZ Top\", \"Sleeping Bag (Remastered LP Version)\"], [\"Chic\", \"Le Freak (LP Version)\"]], \"hovertemplate\": \"<b>%{hovertext}</b><br><br>genre=american<br>x=%{x}<br>y=%{y}<br>z=%{z}<br>artist=%{customdata[0]}<br>track=%{customdata[1]}<extra></extra>\", \"hovertext\": [\"TRXSKTT128F145BCD7\", \"TRTTGVF128F4263953\", \"TRTHKUB128F147BE8F\", \"TRTZIGF128E07921D7\", \"TRICPZT128F92DE371\", \"TRMXGDP12903CEAAAE\", \"TRMUDCR12903CA7ADF\", \"TRHHDYL128F92FC562\", \"TRVRSEF128F4256B0D\", \"TREDXSE128F42B6409\", \"TREDRNA128F932EF15\", \"TRCQXMT128E0786397\", \"TRCLVRT12903CC2FF7\", \"TRBNYZD128F92F3617\", \"TRQALMY128E07830E9\", \"TRQCANY128E0784B99\", \"TRQOAIC128F428A4DB\", \"TRZAVQJ128F92D328F\", \"TRONIFO128F4262360\", \"TROLRQD128F931E3B6\", \"TRLDIVE128E07923D8\", \"TRYTIHJ12903D07DD9\", \"TRYIVBL128F931EC14\", \"TRDUQLH128F933A07B\", \"TRFEIPA128F145BCD6\", \"TRPVIJR128F147EC5B\"], \"legendgroup\": \"american\", \"marker\": {\"color\": \"#EF553B\", \"symbol\": \"circle\"}, \"mode\": \"markers\", \"name\": \"american\", \"scene\": \"scene\", \"showlegend\": true, \"type\": \"scatter3d\", \"x\": [38.95747375488281, -110.75403594970703, 89.27326965332031, -30.247600555419922, 40.42502975463867, 105.5861587524414, -8.42965030670166, 134.61407470703125, -26.085092544555664, 8.937213897705078, 143.7402801513672, 49.020389556884766, -119.08382415771484, -53.11344909667969, 20.109397888183594, 111.26628112792969, 62.79642868041992, 52.76829147338867, -32.341800689697266, 12.591106414794922, -41.30386734008789, -6.889479160308838, 58.743648529052734, -71.52403259277344, 38.3676872253418, 53.211238861083984], \"y\": [88.42527770996094, -12.213143348693848, -93.25555419921875, 123.68397521972656, 47.463706970214844, -46.85404586791992, -83.4296646118164, 79.69794464111328, 78.59175109863281, -17.940114974975586, -75.57737731933594, 60.73736572265625, 87.37358856201172, 15.500887870788574, 56.916255950927734, -65.32923126220703, -42.669944763183594, -38.5813102722168, -4.180933952331543, 53.49900436401367, 24.263784408569336, -51.61974334716797, -6.564822196960449, -19.487215042114258, 107.06399536132812, 36.118019104003906], \"z\": [81.93443298339844, -62.83929443359375, 5.272934913635254, -72.98091125488281, 34.94157409667969, -2.8677327632904053, -89.41524505615234, -35.84353256225586, -63.09354782104492, -75.68189239501953, 10.606990814208984, -120.9320297241211, 44.9421272277832, 86.01561737060547, 152.4251708984375, -101.52320861816406, -156.33595275878906, 7.221087455749512, 104.82494354248047, 2.712383270263672, -61.149269104003906, -24.58966827392578, 8.637020111083984, 106.3278579711914, -3.5416131019592285, 88.36270904541016]}, {\"customdata\": [[\"The Archies\", \"Sugar Sugar - Original\"], [\"Ronan Keating\", \"I Love It When We Do\"], [\"Gerry Rafferty\", \"The Royal Mile\"], [\"Zucchero\", \"Solo Una Sana Consapevole Libidine Salve Il Giovane Dallo St\"], [\"Jean-Jacques Milteau\", \"What A Wonderful World\"], [\"New Kids On The Block\", \"Hangin' Tough\"], [\"John Anderson\", \"If I Could have My Way\"], [\"Atomic Kitten\", \"It's Ok!\"], [\"Chic\", \"Le Freak  (Single Edit)\"], [\"Whitney Houston\", \"My Love Is Your Love\"], [\"Roky Erickson\", \"The Damn Thing (Album Version)\"], [\"Craig David\", \"Rendezvous (Album Version)\"], [\"Tina Arena & Johnny Bowles\", \"Da Doo Ron Ron\"], [\"Just Jack\", \"No Time\"]], \"hovertemplate\": \"<b>%{hovertext}</b><br><br>genre=australian<br>x=%{x}<br>y=%{y}<br>z=%{z}<br>artist=%{customdata[0]}<br>track=%{customdata[1]}<extra></extra>\", \"hovertext\": [\"TRMPISD12903D05F90\", \"TRHHSYM128F426AA68\", \"TRVUXRF128F429761E\", \"TREUMIQ128F4273C90\", \"TRECZLX128F4269341\", \"TRSTQDQ128F14651A4\", \"TRZRJCI128F92F7C21\", \"TRZDQOU128F92E0F60\", \"TRZDPAF128F92F7C1F\", \"TRLTLJC128F9345529\", \"TRLYMOZ128F9319DA6\", \"TRLYYOV12903CC0590\", \"TRPROCD128F932A528\", \"TRPZUFD128F4273C81\"], \"legendgroup\": \"australian\", \"marker\": {\"color\": \"#00cc96\", \"symbol\": \"circle\"}, \"mode\": \"markers\", \"name\": \"australian\", \"scene\": \"scene\", \"showlegend\": true, \"type\": \"scatter3d\", \"x\": [-2.695955991744995, 63.093177795410156, -148.23251342773438, 14.907700538635254, 58.27729034423828, 16.087474822998047, -103.47734832763672, 36.571983337402344, 21.991539001464844, 48.0306282043457, 131.90052795410156, -14.604798316955566, 53.58192825317383, 39.74189758300781], \"y\": [120.85914611816406, -42.83580780029297, 67.91071319580078, -109.63272857666016, 32.55199432373047, -67.57644653320312, 48.817474365234375, -22.817785263061523, -119.54767608642578, 140.1721954345703, -0.8516762852668762, 69.8161849975586, -51.313812255859375, -115.00386047363281], \"z\": [-114.3809585571289, 68.67375183105469, -33.966453552246094, 40.14841079711914, -102.2107925415039, -33.08058547973633, 108.46809387207031, 66.8565673828125, -62.391563415527344, -75.59699249267578, 100.28075408935547, 7.175602436065674, -20.143882751464844, 33.94599914550781]}, {\"customdata\": [[\"Lara Fabian\", \"Leila\"], [\"Counting Crows\", \"Hanginaround\"], [\"Pascal Obispo\", \"O\\u00f9 Est L'Elue\"], [\"Shirley & Company\", \"Shame_ Shame_ Shame (Instrumental Version)\"], [\"Cliff Richard & The Shadows\", \"Lucky Lips\"], [\"Zucchero\", \"Il Mare Impetuoso Al Tramonto Sali Sulla Luna E Dietro Una\"], [\"Lionel Richie\", \"All Night Long\"], [\"Chaka Khan\", \"Through The Fire (Album Version)\"], [\"Mungo Jerry\", \"In The Summertime\"], [\"Herman's Hermits\", \"Something Is Happening\"], [\"Ronan Keating\", \"In This Life\"], [\"Sinitta\", \"Toy Boy\"], [\"Lionel Richie\", \"All Night Long (All Night)\"], [\"Tina Charles\", \"I Love To Love\"], [\"Galactic\", \"Liquor Pang (featuring Josh Cohen and Ryan Scully from the Morning 40 Federation)\"], [\"Steve Miller Band\", \"Living In The U.S.A. (1991 Digital Remaster)\"], [\"Steve Vai\", \"Warm Regards\"], [\"Neil Diamond\", \"September Morn\"], [\"Bryan White\", \"Bad Day To Let You Go (LP Version)\"], [\"M-Clan\", \"Llamando A La Tierra (Serenade From The Stars) - Sin enchufe\"], [\"Simple Minds\", \"Mandela Day (Live)\"], [\"Five\", \"Slam Dunk (Da Funk)\"], [\"Kenny Loggins\", \"Danger Zone\"], [\"The Cranberries\", \"Free To Decide\"], [\"Alanis Morissette\", \"Hand In My Pocket (Album Version)\"], [\"Steve Miller Band\", \"Serenade\"], [\"Imagination\", \"Just An Illusion\"], [\"Booker T. & The M.G.'s\", \"The Letter\"], [\"Joan Osborne\", \"One Of Us\"], [\"Cameo\", \"Word Up!\"], [\"Ronan Keating\", \"I Love It When We Do\"], [\"The Concretes\", \"Lovin Kind\"], [\"Enrique Iglesias\", \"Bailamos\"], [\"Steve Miller Band\", \"Abracadabra\"], [\"Zucchero\", \"Blue\"], [\"George Harrison\", \"All Those Years Ago (2009 Digital Remaster)\"], [\"Phil Collins\", \"One More Night\"], [\"Roch Voisine\", \"Pourtant\"], [\"Brooks & Dunn\", \"Whiskey Under The Bridge\"], [\"Simple Plan\", \"Your Love Is A Lie (Amended Album Version)\"], [\"Hugh Masekela\", \"Saduva\"], [\"883\", \"Un Giorno Cos\\u00ec\"], [\"Bee Gees\", \"Stayin' Alive [Live - Las Vegas 1997] (Album Version)\"], [\"Cat Power\", \"Empty Shell\"], [\"The Human League\", \"Don't You Want Me (Special Extended Dance Mix)\"], [\"Ron Trent\", \"Journeyn2u\"], [\"S Club 7\", \"Bring It All Back\"], [\"Boney M.\", \"Hooray! Hooray! It's A Holi-Holiday\"], [\"Sade\", \"Cherish The Day\"], [\"Lara Fabian\", \"Tout\"], [\"The Rembrandts\", \"I'll Be There For You (Theme From Friends) (LP Version)\"], [\"Tracy Chapman\", \"Baby Can I Hold You (LP Version)\"], [\"Patrick Nuo\", \"Radio Sun\"]], \"hovertemplate\": \"<b>%{hovertext}</b><br><br>genre=british<br>x=%{x}<br>y=%{y}<br>z=%{z}<br>artist=%{customdata[0]}<br>track=%{customdata[1]}<extra></extra>\", \"hovertext\": [\"TRNRKLE128F930F8FB\", \"TRNOHRW128F147DF91\", \"TRIXYVW128F92EBE28\", \"TRIRJYZ128E0783D46\", \"TRIEWZN128F4243140\", \"TRMLJUR128EF3515BF\", \"TRMFSTP128F4249513\", \"TRHEOJO128F42597F9\", \"TRHSQAU128F146630D\", \"TRHKRDZ128F4289B18\", \"TRGQBHN128F428177C\", \"TRGDZGX128F4270E0D\", \"TRVUCEN128F93319AE\", \"TRVRDYC128F1492397\", \"TRVIKZB128E0794A2C\", \"TRVADGM12903CCC02A\", \"TRVFHPK12903CA720C\", \"TREDRYC128F4250127\", \"TRAGAPY128F92F5DDE\", \"TRAEYSW128F931B57D\", \"TRAKLSB128F428DFC8\", \"TRAFSAP128E0780ECF\", \"TRWMBUX12903C98348\", \"TRCNBSI128F92F2E3D\", \"TRCBHLT128F147FCB1\", \"TRBVTQQ128E0787D56\", \"TRBAPSE128F425EB8F\", \"TRBQVNJ128F1461E60\", \"TRBYBCO128F424E27B\", \"TRBDMIN128F147FCBB\", \"TRQYGNO128F1452485\", \"TRJWOLN128F42521A6\", \"TRJZHTR128F9333A29\", \"TRZCXFS128F42AFC91\", \"TRZJGAA12903D03D5C\", \"TRZYOQL12903CD9A0C\", \"TRKRZKC12903CE4EEC\", \"TRKBUDH128F146506E\", \"TRKBPMB12903CE51B2\", \"TRKLUNO12903C9832A\", \"TROHHBZ128EF3515BC\", \"TROLGFN12903CD6131\", \"TRODNCQ128EF342E37\", \"TRLCKUD128F4236C70\", \"TRLDHFZ12903D07387\", \"TRYENBU128E0780CDA\", \"TRYFYHB12903CC2298\", \"TRDVNMW12903C98345\", \"TRDCRYX128F4259DD7\", \"TRDQMYI128F4259DDC\", \"TRFIJVZ128F422F029\", \"TRFWGOJ128E0780C8B\", \"TRFZYYH128E07927A3\"], \"legendgroup\": \"british\", \"marker\": {\"color\": \"#ab63fa\", \"symbol\": \"circle\"}, \"mode\": \"markers\", \"name\": \"british\", \"scene\": \"scene\", \"showlegend\": true, \"type\": \"scatter3d\", \"x\": [-65.13880157470703, 72.888671875, -37.49563980102539, -5.281587600708008, 10.49421215057373, 67.21366119384766, -83.92788696289062, -28.75910758972168, -19.667369842529297, -45.932491302490234, -87.33940124511719, -86.05854034423828, -101.21366882324219, -8.005023956298828, 27.155160903930664, -57.93589401245117, 155.2520294189453, -45.913230895996094, -39.71812057495117, -27.997739791870117, 71.78863525390625, -83.63436126708984, -47.044517517089844, 31.58281707763672, 44.233768463134766, -10.002154350280762, 28.579965591430664, -52.134422302246094, -92.088134765625, -79.0381088256836, 150.61448669433594, -5.657058238983154, -6.054848670959473, -114.2949447631836, 90.27886962890625, -33.68553161621094, -9.004781723022461, 107.36772918701172, 2.248218297958374, 1.0682486295700073, 42.20363235473633, -38.42280197143555, 5.205784797668457, 48.36460876464844, 79.2876968383789, 41.92662811279297, -32.358848571777344, -16.275997161865234, 12.174073219299316, 7.8020758628845215, 18.8731689453125, 41.61001205444336, 27.02168083190918], \"y\": [12.407381057739258, -18.22951316833496, -6.9090576171875, 23.88431739807129, -121.63809967041016, 70.4393310546875, 3.6042206287384033, 34.007511138916016, -117.1799087524414, 16.811664581298828, -12.671814918518066, 123.8386001586914, -84.24607849121094, 87.50739288330078, 48.2957649230957, -34.07096481323242, -8.741381645202637, -134.1466522216797, 115.76451873779297, 76.4191665649414, 32.73619842529297, -192.2666015625, 129.88748168945312, -74.1084213256836, 102.68697357177734, -29.387805938720703, 39.971500396728516, 80.38802337646484, -23.85862922668457, -38.6063232421875, 0.003741227090358734, 3.194059133529663, -6.107244968414307, 55.787593841552734, 7.159914016723633, -9.710707664489746, 28.17928123474121, -57.00809097290039, 52.460819244384766, -22.021549224853516, -76.13602447509766, -68.19157409667969, 57.35519790649414, 3.8060317039489746, 26.01665687561035, -156.72683715820312, -99.33128356933594, 3.1250624656677246, 106.63338470458984, 73.03929901123047, 134.26956176757812, -104.03092956542969, -124.17060089111328], \"z\": [26.916011810302734, 89.37985229492188, 35.43557357788086, -40.576683044433594, 2.4954607486724854, 38.63557052612305, -14.033231735229492, -123.04022979736328, 36.53441619873047, 6.307831287384033, -29.2248477935791, -67.67794036865234, 92.14208984375, 33.24844741821289, -55.65330505371094, -22.250165939331055, -40.88338088989258, 62.53020095825195, 106.22564697265625, 68.66004943847656, 28.03278160095215, 591.60400390625, -107.5562515258789, -68.7903823852539, -112.2018814086914, 82.51287841796875, -82.57945251464844, -43.675357818603516, 0.6059466600418091, 78.40780639648438, -22.759004592895508, 43.019107818603516, -34.69572830200195, 14.382413864135742, 31.49810791015625, -74.73716735839844, -3.1291348934173584, 24.884689331054688, 96.71219635009766, -4.196345329284668, -21.872304916381836, 31.98975372314453, 33.430023193359375, -52.08591842651367, -134.4638214111328, 27.700885772705078, 112.8007583618164, -67.90740966796875, 16.0020751953125, -160.0259552001953, -41.28697204589844, 79.17142486572266, -188.12762451171875]}, {\"customdata\": [[\"The Everly Brothers\", \"Problems (Digitally Remastered)\"], [\"Frank Sinatra\", \"Strangers In The Night (Remastered Album Version) [The Frank Sinatra Collection]\"], [\"Aled Jones\", \"Ave Maria For Soprano & Orchestra\"], [\"Marion Raven\", \"At The End Of The Day (Explicit)\"], [\"Heaven 17\", \"Play To Win (12'' Extended Version)\"], [\"Tammy Wynette\", \"Stand By Your Man\"], [\"George McCrae\", \"Rock Your Baby\"], [\"Simply Red\", \"Thrill Me\"]], \"hovertemplate\": \"<b>%{hovertext}</b><br><br>genre=canadian<br>x=%{x}<br>y=%{y}<br>z=%{z}<br>artist=%{customdata[0]}<br>track=%{customdata[1]}<extra></extra>\", \"hovertext\": [\"TRNXDNV128F14531FC\", \"TRRVLYK128F1477E8B\", \"TRVRNWJ128E0791D9D\", \"TRZWQHU12903CC7A67\", \"TRZDMEJ128F9325B09\", \"TRLBDBO128F14531F2\", \"TRFUTQR128F92F7AEE\", \"TRPFZEP128F4282F7C\"], \"legendgroup\": \"canadian\", \"marker\": {\"color\": \"#FFA15A\", \"symbol\": \"circle\"}, \"mode\": \"markers\", \"name\": \"canadian\", \"scene\": \"scene\", \"showlegend\": true, \"type\": \"scatter3d\", \"x\": [22.507680892944336, -106.96505737304688, 10.498122215270996, 90.09281921386719, 103.84242248535156, -9.49059009552002, 33.77326965332031, -51.921875], \"y\": [-150.45962524414062, 9.768178939819336, -83.2420425415039, 0.6558828353881836, 54.73637390136719, 101.59342193603516, 47.56413269042969, -60.63058853149414], \"z\": [-125.72157287597656, 116.90555572509766, 67.07682800292969, 113.26666259765625, -112.36946105957031, -7.7373762130737305, 115.66329956054688, 131.06378173828125]}, {\"customdata\": [[\"Simple Minds\", \"Alive and Kicking\"], [\"Doc Watson\", \"Love Is A Lonely Street\"], [\"Kristian Meurman\", \"The Entertainer\"], [\"Sade\", \"By Your Side\"], [\"Barbara Dickson\", \"Caravan Song\"], [\"Spiritualized\", \"Harmony 1 (mellotron)\"], [\"Aztec Camera\", \"Sunset\"], [\"The Beautiful South\", \"Everybody's Talkin'\"], [\"Warren Clarke feat. Kathy Brown\", \"Over You [ATFC Club Mix]\"], [\"Jason Donovan\", \"Too Many Broken Hearts\"], [\"Gloria Gaynor\", \"Set Me Free (Radio Edit)\"], [\"Lenny Fontana Feat. Octah'via\", \"The Way (Mucho Beats)\"], [\"Umberto Tozzi\", \"Gli Altri Siamo Noi\"], [\"3 Doors Down\", \"Kryptonite\"], [\"Steve Miller Band\", \"Abracadabra\"], [\"The Cranberries\", \"I Just Shot John Lennon\"], [\"DJ Jazzy Jeff & The Fresh Prince\", \"Summertime\"], [\"Vanessa Paradis\", \"Coupe Coupe\"], [\"Savage Garden\", \"To The Moon & Back\"], [\"The Drifters\", \"Under the boardwalk\"], [\"John Denver\", \"Sunshine On My Shoulders\"], [\"George Michael\", \"Careless Whisper\"], [\"KT Tunstall\", \"Suddenly I See (Radio Version)\"], [\"Limahl\", \"Never Ending Story\"], [\"ZZ Top\", \"Legs (LP Version)\"], [\"Roger Whittaker\", \"The Last Farewell\"], [\"Grandmaster Flash & The Furious Five feat. Melle Mel & Duke Bootee\", \"The Message (12\\\" Single Version)\"], [\"Toni Braxton\", \"Un-Break My Heart\"], [\"Jean-Louis Aubert\", \"Voila C'est Fini\"], [\"DJ Technic\", \"Chant Of The Kariboo (MF Beats)\"], [\"Kari Tapio\", \"Jos - Tu -\"], [\"James Taylor\", \"Something In The Way She Moves\"], [\"Emmylou Harris\", \"C'est La Vie (Remastered LP Version)\"], [\"Abba\", \"Dancing Queen\"], [\"Sade\", \"Cherish The Day\"], [\"Vanessa Paradis\", \"Walk On The Wild Side\"], [\"Michael Franks\", \"Antonio's Song (The Rainbow) (Album Version)\"], [\"Dennis Ferrer\", \"Hit It Off (Original Mix)\"], [\"The Special AKA\", \"Nelson Mandela (2002 Digital Remaster)\"], [\"Eros Ramazzotti\", \"Fuego En El Fuego\"], [\"The Cranberries\", \"Free To Decide\"], [\"Ryan Adams\", \"New York_ New York\"], [\"Teddy Pendergrass & Friends\", \"Rock Your Baby\"], [\"Ronan Keating\", \"Life Is A Rollercoaster\"], [\"Frank Ifield\", \"I Remember You\"], [\"X-Press 2\", \"X-Press Wah-2-Funk\"], [\"Mungo Jerry\", \"In The Summertime\"], [\"Pascal Obispo\", \"Les Mains Qui Se Cherchent\"], [\"Michael Jackson\", \"Wanna Be Startin' Somethin'\"], [\"Seal\", \"Sparkle (Extended Version)\"], [\"Pussycat\", \"Stranger In Town\"], [\"Herman's Hermits\", \"Something Is Happening\"], [\"Natalie Imbruglia\", \"That Day\"], [\"V V Brown\", \"Travelling Like The Light\"], [\"Bryan Adams\", \"Somebody\"], [\"Cracker\", \"Lullabye\"], [\"The Police\", \"Every Little Thing She Does Is Magic\"], [\"Sade\", \"Nothing Can Come Between Us\"], [\"Duran Duran\", \"Save A Prayer (2001 Digital Remaster)\"], [\"Steve Miller Band\", \"Living In The U.S.A. (1991 Digital Remaster)\"], [\"Cutting Crew\", \"The Last Thing\"], [\"Richard Clayderman\", \"Flashdance (What a Feeling)\"], [\"KT Tunstall\", \"Suddenly I See\"], [\"Limahl\", \"Never Ending Story (2009 Digital Remaster)\"], [\"Sade\", \"By Your Side\"], [\"Train\", \"Hey_ Soul Sister\"], [\"Chris Rea\", \"Let's Dance\"], [\"Lenny Kravitz\", \"If You Can't Say No (BT's SuperSymmetry Mix)\"], [\"Bachman-Turner Overdrive\", \"Let It Ride\"], [\"Pascal Obispo;Florent Pagny\", \"Et Un Jour_  Une Femme\"], [\"Ultravox\", \"Hymn\"], [\"Eros Ramazzotti\", \"Ma Che Bello Questo Amore\"], [\"The Smiths\", \"Bigmouth Strikes Again\"], [\"Savage Garden\", \"Crash And Burn\"], [\"Sinitta\", \"Toy Boy\"], [\"Kenny Rogers\", \"She Believes In Me\"]], \"hovertemplate\": \"<b>%{hovertext}</b><br><br>genre=classic pop and rock<br>x=%{x}<br>y=%{y}<br>z=%{z}<br>artist=%{customdata[0]}<br>track=%{customdata[1]}<extra></extra>\", \"hovertext\": [\"TRNNJMJ128F4278CA1\", \"TRNHARF128F92FCA35\", \"TRNHOTA128E078B309\", \"TRNVMFY128F423499E\", \"TRNCETS128F4234B51\", \"TRNBWFN128F14A25FA\", \"TRNFYVA12903CFADBA\", \"TRXNUOE128F9333926\", \"TRXXJOB128F1466075\", \"TRXTGHD128F425FF61\", \"TRXSLNF128F423971B\", \"TRXYJHW128F931BF13\", \"TRXDECL128F93139E5\", \"TRTRVIY128F4238836\", \"TRTYTGY128F423499F\", \"TRUEWFR128F92FCB7E\", \"TRRBTOI128F9325899\", \"TRIHKSB128F427A327\", \"TRISFGY128F428DA42\", \"TRMGSBG128F429F025\", \"TRMESDG12903CDE089\", \"TRMZLZX128F146E04D\", \"TRMPJED128F425BF6C\", \"TRGWRRO128F424855D\", \"TRVVSAN12903CC556B\", \"TRVCUSW128F92F20C6\", \"TRVBEFW128F42729C8\", \"TREROCY12903CA9CC2\", \"TREVXQN12903CA99E1\", \"TREVHAQ128F42723B4\", \"TREQUMR12903CA23D3\", \"TREZVDN128F42862C2\", \"TRELEIT128F9310C16\", \"TRANTJK128F92E5935\", \"TRAGACS128E078E74D\", \"TRABNZK128F42AB221\", \"TRAKOJE128F92F5989\", \"TRWTTOH128F14961B1\", \"TRWOTIK128F424C654\", \"TRWYVTA128F146E171\", \"TRWYAOO12903CA2F65\", \"TRWYKOO128F92FC83B\", \"TRWDCTU128F934577C\", \"TRCHXXE128F428547C\", \"TRCEWXF12903D137FE\", \"TRCZHQJ128F42AE2BF\", \"TRSUDGY128F92E1728\", \"TRSIVFN12903CCB281\", \"TRSDMER12903C9C9F5\", \"TRQRNNU128F92D3CE4\", \"TRJQHTU128F42BC8D6\", \"TRJDSBZ128F92F0731\", \"TRJFSKV12903CFB7F1\", \"TRZTBMZ128F932DEC5\", \"TRZICBN128F4254E0F\", \"TRZVNEM128EF351A49\", \"TRZATLL12903CCB2B9\", \"TRZWAYS128F92D3F49\", \"TRZJDUP12903CB5084\", \"TRKOGKP12903CBB3FC\", \"TRKYQPS128F4238846\", \"TRKDCXK12903CC27D8\", \"TRLHJXQ128E0781AE6\", \"TRLCWEQ128F4271831\", \"TRLQOXG128F428DA48\", \"TRLZYYR128F42671E1\", \"TRYROSM12903CB23CE\", \"TRYRLPF12903C9AB74\", \"TRYZGYT128F92C1C66\", \"TRDIYHW128F4234B6F\", \"TRFGNVV12903CD75F4\", \"TRFCHMQ128F428A111\", \"TRFQTXH128F934B72D\", \"TRFFIDX128F424B8C5\", \"TRPWZSO128F9310B67\", \"TRPDDJQ128F425A098\"], \"legendgroup\": \"classic pop and rock\", \"marker\": {\"color\": \"#19d3f3\", \"symbol\": \"circle\"}, \"mode\": \"markers\", \"name\": \"classic pop and rock\", \"scene\": \"scene\", \"showlegend\": true, \"type\": \"scatter3d\", \"x\": [87.41700744628906, 4.0971760749816895, 139.927978515625, -27.70371437072754, 128.40921020507812, 72.49708557128906, 23.253202438354492, -23.29267120361328, 66.86664581298828, -104.5615234375, -119.45397186279297, -49.079742431640625, -30.305112838745117, -108.37525939941406, -3.2003486156463623, -78.90924072265625, -94.02899169921875, -135.21095275878906, -159.93881225585938, 41.30906677246094, 117.4826889038086, -40.71284103393555, -47.962074279785156, 186.052734375, -56.34593200683594, -16.931564331054688, 51.96809768676758, -95.51554870605469, -104.25511169433594, 65.68280029296875, -74.77473449707031, -53.772769927978516, -2.200706958770752, 29.4698543548584, -4.363234043121338, -51.69139099121094, 102.7348403930664, 46.50666809082031, -9.510538101196289, 33.11155319213867, -155.6861114501953, 50.07490158081055, 18.238740921020508, -84.66130828857422, -47.89958190917969, 60.541595458984375, 109.9338150024414, -99.28924560546875, -62.956844329833984, 30.941373825073242, 142.00914001464844, -37.20048904418945, 19.148942947387695, -69.2426528930664, -6.209803581237793, -83.5849609375, -80.54254150390625, 30.80348014831543, -82.34510803222656, -22.36530876159668, 21.35378646850586, -28.23600959777832, -34.741634368896484, -145.6416015625, 115.39778900146484, -45.27601623535156, -96.10004425048828, 107.64082336425781, 20.22747039794922, -132.6397705078125, 39.42494583129883, -107.22943878173828, -128.7771759033203, 66.25074005126953, 19.649938583374023, 5.165807723999023], \"y\": [37.71261215209961, -11.692655563354492, 12.664301872253418, 80.50431060791016, -30.229572296142578, 105.29786682128906, -11.734042167663574, -83.56954193115234, -13.196174621582031, -47.2432975769043, -9.779558181762695, -88.63970184326172, 106.17134094238281, 49.057491302490234, 53.07684326171875, 68.55530548095703, -97.46793365478516, 12.229474067687988, -12.04927921295166, 37.177162170410156, -4.593017578125, -92.62220764160156, 79.01814270019531, -28.837377548217773, 56.663944244384766, 64.1532211303711, 29.285573959350586, 86.74832916259766, 73.62113189697266, -116.65125274658203, 118.67229461669922, -39.28603744506836, -11.517306327819824, 9.427040100097656, -37.59267807006836, -38.916831970214844, -25.438190460205078, 100.76473236083984, 94.68183135986328, -140.0069122314453, 0.9732701182365417, -53.06951904296875, 155.92237854003906, -35.509033203125, 52.0252571105957, -119.25794982910156, 9.692748069763184, -81.50920867919922, 50.94929504394531, -143.76332092285156, 36.42801284790039, -52.209068298339844, -33.044952392578125, -80.88006591796875, -87.94828796386719, 24.71653938293457, -85.64386749267578, 4.160190105438232, -100.67941284179688, 91.40265655517578, -54.4556884765625, -45.10759353637695, 14.365806579589844, 52.83244705200195, 38.33748245239258, -73.65350341796875, 27.476181030273438, 17.173316955566406, -15.87900161743164, -30.746976852416992, 34.06748962402344, 44.26942443847656, -35.991119384765625, -79.94967651367188, 13.762741088867188, -26.123672485351562], \"z\": [123.06539154052734, 82.84976959228516, 14.26175308227539, -136.9607391357422, 43.435543060302734, 90.54041290283203, 138.54931640625, 11.51346206665039, 47.32207107543945, -20.96577262878418, -3.5400121212005615, -114.425537109375, 16.261926651000977, 44.92946243286133, -99.97661590576172, -29.134614944458008, 19.427734375, -81.077392578125, 0.9037483930587769, 64.7913589477539, -57.24169158935547, 58.049415588378906, 34.8863525390625, 49.9741096496582, 151.53042602539062, -25.737688064575195, 142.26220703125, -4.450131416320801, -26.502775192260742, -77.76258087158203, 66.82088470458984, -94.12492370605469, -155.9347381591797, 38.709388732910156, -54.19572067260742, -54.71106719970703, -30.26577377319336, -30.89998435974121, 91.2978286743164, 68.17708587646484, 55.44525909423828, -49.36984634399414, 26.5993709564209, -70.30097198486328, 81.72440338134766, 3.821895122528076, -26.996366500854492, -5.724113941192627, 50.40508270263672, -21.580913543701172, -34.418121337890625, 47.50457000732422, -29.689176559448242, 18.651044845581055, 40.265045166015625, 43.37767791748047, 0.6144716739654541, 9.47726058959961, 55.82067108154297, -33.95817947387695, -56.18853759765625, -106.18008422851562, 137.79783630371094, 47.64109420776367, -62.73689270019531, -14.822154998779297, -95.73420715332031, 5.004343509674072, -57.832218170166016, 83.79686737060547, 2.595243453979492, -46.687255859375, 20.593582153320312, 64.43799591064453, -68.46660614013672, 53.01247787475586]}, {\"customdata\": [[\"The Cranberries\", \"Shattered\"]], \"hovertemplate\": \"<b>%{hovertext}</b><br><br>genre=classical<br>x=%{x}<br>y=%{y}<br>z=%{z}<br>artist=%{customdata[0]}<br>track=%{customdata[1]}<extra></extra>\", \"hovertext\": [\"TRXERRL12903CC3810\"], \"legendgroup\": \"classical\", \"marker\": {\"color\": \"#FF6692\", \"symbol\": \"circle\"}, \"mode\": \"markers\", \"name\": \"classical\", \"scene\": \"scene\", \"showlegend\": true, \"type\": \"scatter3d\", \"x\": [59.91320037841797], \"y\": [88.06829833984375], \"z\": [-3.626223087310791]}, {\"customdata\": [[\"Sophie Ellis-Bextor\", \"Murder On The Dancefloor\"], [\"Sinitta\", \"Toy Boy\"], [\"Barbra Streisand & Barry Gibb\", \"Guilty\"], [\"Lynden David Hall\", \"Sexy Cinderella (C&J Remix)\"], [\"The Seekers\", \"The Carnival Is Over\"], [\"John Denver\", \"Sunshine On My Shoulders\"], [\"New Trolls\", \"Quella carezza della sera\"], [\"Al Martino\", \"Volare\"], [\"Gloria Gaynor\", \"I Will Survive (ReMastered)\"], [\"Abydos\", \"Radio Earth\"], [\"Sinitta\", \"TOY BOY\"], [\"Captain & Tennille\", \"You Never Done It Like That\"], [\"Peter Gabriel\", \"Big Time (2002 Digital Remaster)\"], [\"Elvis Crespo\", \"Yo Me Morire\"], [\"Ann Peebles\", \"Come To Mama\"], [\"Simply Red\", \"Fairground (+ Sample)\"], [\"Igor Kill\", \"Hvis Eg\"], [\"a1\", \"Caught In The Middle\"], [\"Buddy Holly\", \"Peggy Sue\"], [\"Blondie\", \"Rapture (Us Disco Version) (1999 Digital Remaster)\"]], \"hovertemplate\": \"<b>%{hovertext}</b><br><br>genre=country<br>x=%{x}<br>y=%{y}<br>z=%{z}<br>artist=%{customdata[0]}<br>track=%{customdata[1]}<extra></extra>\", \"hovertext\": [\"TRNLUDQ128E078663E\", \"TRXISDW128F1456F5E\", \"TRXHNEH128F92C68C8\", \"TRULTSR12903CBD13D\", \"TRIIVUQ128F4299C9F\", \"TRMHFMC128F425D630\", \"TREIEHK128F931E0B8\", \"TRACLRS12903CE9386\", \"TRCRKXS12903CD21F9\", \"TRCRLES128F42764E6\", \"TRCFSXM12903CC84F4\", \"TRSVKNR128F4235AEB\", \"TRQHQLN12903CBD237\", \"TROTQOU12903CCE730\", \"TRDDOJM128F428CEE1\", \"TRFNZMP128F42796B3\", \"TRFRXGD128F42717FF\", \"TRFHEFD12903CC4FF2\", \"TRFVRYY128F9305E81\", \"TRPIMRO128F92FAB6F\"], \"legendgroup\": \"country\", \"marker\": {\"color\": \"#B6E880\", \"symbol\": \"circle\"}, \"mode\": \"markers\", \"name\": \"country\", \"scene\": \"scene\", \"showlegend\": true, \"type\": \"scatter3d\", \"x\": [-23.12594223022461, -13.979434967041016, -101.49370574951172, -24.594398498535156, -103.0174331665039, -46.066287994384766, -75.91110229492188, -59.77387237548828, 37.26102066040039, -12.650391578674316, 44.49042510986328, 24.76534652709961, -26.342782974243164, -42.42426681518555, -50.363216400146484, -60.59680938720703, 84.0554428100586, -73.64037322998047, 65.19554138183594, 73.55198669433594], \"y\": [161.51947021484375, -115.94124603271484, -21.70368766784668, 79.09825897216797, 74.72156524658203, 22.036231994628906, 77.25714874267578, 45.03066635131836, -79.18623352050781, -0.6374728083610535, 130.7764434814453, 48.36800765991211, -63.106929779052734, 124.6429214477539, -150.659912109375, 22.688695907592773, -49.349369049072266, -55.26841354370117, -7.671703338623047, 10.311214447021484], \"z\": [-33.623146057128906, -66.56146240234375, 50.33256149291992, -97.03740692138672, -94.1214370727539, 51.624637603759766, 113.20797729492188, -98.38419342041016, 41.18571472167969, 12.771598815917969, 31.069591522216797, 69.30928039550781, -37.044410705566406, -30.083181381225586, 9.072613716125488, -90.5848159790039, -47.63996505737305, 45.632850646972656, -115.97819519042969, 75.99272918701172]}, {\"customdata\": [[\"Abba\", \"Dancing Queen\"], [\"George Michael\", \"Praying For Time\"]], \"hovertemplate\": \"<b>%{hovertext}</b><br><br>genre=dance and electronica<br>x=%{x}<br>y=%{y}<br>z=%{z}<br>artist=%{customdata[0]}<br>track=%{customdata[1]}<extra></extra>\", \"hovertext\": [\"TRCQNTC128F422B483\", \"TRSZBPP128F42507C0\"], \"legendgroup\": \"dance and electronica\", \"marker\": {\"color\": \"#FF97FF\", \"symbol\": \"circle\"}, \"mode\": \"markers\", \"name\": \"dance and electronica\", \"scene\": \"scene\", \"showlegend\": true, \"type\": \"scatter3d\", \"x\": [159.99765014648438, 28.249162673950195], \"y\": [-49.4892463684082, 72.89082336425781], \"z\": [-27.760334014892578, -90.703125]}, {\"customdata\": [[\"New Radicals\", \"You Get What You Give\"], [\"Simple Plan\", \"Your Love Is A Lie (Single Version)\"], [\"Westlife\", \"In This Life\"], [\"Limahl\", \"Never Ending Story (12\\\" Mix)\"]], \"hovertemplate\": \"<b>%{hovertext}</b><br><br>genre=european<br>x=%{x}<br>y=%{y}<br>z=%{z}<br>artist=%{customdata[0]}<br>track=%{customdata[1]}<extra></extra>\", \"hovertext\": [\"TRGFSQI128F4272C44\", \"TREKMSA12903CFB716\", \"TRCQRMA128F4290D35\", \"TRQBGHC128F4290D32\"], \"legendgroup\": \"european\", \"marker\": {\"color\": \"#FECB52\", \"symbol\": \"circle\"}, \"mode\": \"markers\", \"name\": \"european\", \"scene\": \"scene\", \"showlegend\": true, \"type\": \"scatter3d\", \"x\": [20.45069694519043, -29.400453567504883, 91.44567108154297, 94.9886703491211], \"y\": [77.39584350585938, 8.761749267578125, -40.9343147277832, -83.90284729003906], \"z\": [100.86820983886719, -17.932180404663086, 129.9677276611328, -63.282928466796875]}, {\"customdata\": [[\"Tammy Wynette\", \"Stand By Your Man\"], [\"James & Bobby Purify\", \"Let Love Come Between Us\"], [\"En Vogue\", \"Hold On (Extended LP Version)\"], [\"Joe Budden\", \"Pump It Up\"], [\"Jennifer Warnes\", \"Right Time Of The Night\"], [\"Duran Duran\", \"Save A Prayer (Single Version)\"], [\"Ashlee Simpson\", \"Pieces Of Me\"]], \"hovertemplate\": \"<b>%{hovertext}</b><br><br>genre=finnish<br>x=%{x}<br>y=%{y}<br>z=%{z}<br>artist=%{customdata[0]}<br>track=%{customdata[1]}<extra></extra>\", \"hovertext\": [\"TRMCHCM128F425E987\", \"TRHPYAU128F423B71A\", \"TRWMHMP128EF34293F\", \"TRBZSLH128F93433EA\", \"TRJUGQR128F42A7A16\", \"TRZCJIR128F42550CF\", \"TRPFIGZ128F92F0315\"], \"legendgroup\": \"finnish\", \"marker\": {\"color\": \"#636efa\", \"symbol\": \"circle\"}, \"mode\": \"markers\", \"name\": \"finnish\", \"scene\": \"scene\", \"showlegend\": true, \"type\": \"scatter3d\", \"x\": [-138.92684936523438, 104.87898254394531, 84.24232482910156, 85.12158966064453, -71.45478820800781, -83.68771362304688, 50.887969970703125], \"y\": [9.374897956848145, 46.54410171508789, 62.51436233520508, 0.6468931436538696, 16.330923080444336, 34.35698699951172, 8.084569931030273], \"z\": [-37.86946105957031, 18.74290657043457, 95.28693389892578, -67.8133316040039, -128.49188232421875, 80.45545196533203, 116.94232177734375]}, {\"customdata\": [[\"Usher\", \"I Need Love\"], [\"Blondie\", \"Heart Of Glass (2002 Digital Remaster)\"], [\"Switchfoot\", \"This Is Your Life\"], [\"Wang Chung\", \"Dance Hall Days\"], [\"Soweto Gospel Choir\", \"Ave Maria\"], [\"Martin Solveig\", \"Rocking Music\"], [\"Tom Jones / Mousse T.\", \"Sexbomb\"], [\"The Mae Shi\", \"Spoils of Victory\"], [\"Irwin Goodman\", \"Sinua rakastan\"], [\"Duran Duran\", \"Save A Prayer (Live At The Hammersmith Odeon)\"], [\"The Cranberries\", \"Free To Decide\"], [\"Giorgio Moroder\", \"I Wanna Rock You\"], [\"Tina Charles\", \"I Love To Love\"], [\"883\", \"Tieni Il Tempo\"], [\"Van McCoy\", \"The Hustle (Super Hustle Mix)\"], [\"The Supremes\", \"After All\"], [\"U2\", \"If God Will Send His Angels\"], [\"Jenn Grant\", \"I Was Your Woman\"], [\"Patrice Rushen\", \"Sweetest Taboo\"], [\"Zhan\\u00e9\", \"Hey Mr. D.J.\"], [\"Chic\", \"Everybody Dance (MOTIVA RPL MIX)\"], [\"Emmylou Harris\", \"Dimming Of The Day\"]], \"hovertemplate\": \"<b>%{hovertext}</b><br><br>genre=folk<br>x=%{x}<br>y=%{y}<br>z=%{z}<br>artist=%{customdata[0]}<br>track=%{customdata[1]}<extra></extra>\", \"hovertext\": [\"TRNHGBY128F4279B99\", \"TRRJPIK128E07848C9\", \"TRICWAP128F42988B7\", \"TRIFUHB128E079503D\", \"TRMWBSU128F92F9CE7\", \"TRHVCZF128F92D1DED\", \"TRGXDLL128F14A26B0\", \"TRESUZN128F92EE488\", \"TRAPHSC12903CA6BD6\", \"TRWDYGV128F92EDBF6\", \"TRSIZVO128F149C300\", \"TRBEIBI12903CC4C7B\", \"TRQXNHD128E0795040\", \"TRQTTCF128F428AD6B\", \"TRQMFUI128F4284AF6\", \"TRQHXDX128F4236A10\", \"TRKWDZM128F4282621\", \"TRLURXW128F92F9D32\", \"TRLDYIW128F147B548\", \"TRYMEPM128F4270B01\", \"TRPXNAY128F42604B4\", \"TRPCCYA12903CB28E1\"], \"legendgroup\": \"folk\", \"marker\": {\"color\": \"#EF553B\", \"symbol\": \"circle\"}, \"mode\": \"markers\", \"name\": \"folk\", \"scene\": \"scene\", \"showlegend\": true, \"type\": \"scatter3d\", \"x\": [-42.95234298706055, 81.1429214477539, 57.14720153808594, -42.906341552734375, -23.923709869384766, -65.10302734375, -32.169677734375, -3.3339474201202393, -126.36241149902344, -44.84999084472656, -38.35213088989258, -20.896129608154297, 0.8729987144470215, 57.85456848144531, -12.8539457321167, -66.27523803710938, 3.0205345153808594, -116.64572143554688, -60.84910583496094, 114.67928314208984, 4.365751266479492, 40.727203369140625], \"y\": [85.63386535644531, -94.80504608154297, 77.67008209228516, 134.655517578125, -32.244712829589844, -18.111553192138672, -20.2617244720459, 17.392011642456055, -0.6631410121917725, -51.74961853027344, -7.841029644012451, 4.006960391998291, -147.31134033203125, 124.33717346191406, -93.13052368164062, -5.705081939697266, 97.16899108886719, 113.32202911376953, -69.9588394165039, -12.660038948059082, -35.37164306640625, -21.972553253173828], \"z\": [-4.004603385925293, 33.28306198120117, 123.88224029541016, 62.372779846191406, -24.818161010742188, -125.00222778320312, -0.02326996438205242, 151.4583282470703, 31.5280704498291, 3.145720958709717, -106.73793029785156, 66.9446792602539, 39.152957916259766, 3.820767641067505, -140.63507080078125, -70.85774993896484, -82.72728729248047, -29.343313217163086, 74.41450500488281, 21.628873825073242, 122.90518951416016, 33.53896713256836]}, {\"customdata\": [[\"Justin Timberlake\", \"Cry Me A River\"], [\"Buddy Holly\", \"Peggy Sue\"], [\"Amy MacDonald\", \"This Is The Life\"], [\"10cc\", \"I Don't Like Cricket - I Love It (Dreadlock Holiday) (Live Version)\"], [\"U2\", \"Sweetest Thing\"], [\"Merle Haggard\", \"Mama Don't Let Your Babies Grow Up To Be Cowboys (Live)\"], [\"Johnny Lee\", \"Shot Full Of Love\"], [\"Wilco\", \"At least that's what you said\"], [\"The Pointer Sisters\", \"I'm So Excited\"], [\"Buddy Holly\", \"Peggy Sue\"], [\"Dolly Parton & Kenny Rogers\", \"Islands In The Stream\"], [\"Phil Collins\", \"True Colours\"], [\"Casiotone For The Painfully Alone\", \"Casiotone For The Painfully Alone In A Green Cotton Sweater\"], [\"Moby\", \"Lift Me Up\"], [\"Tomcraft\", \"Overdose (Lady Mix)\"], [\"Beyonc\\u00e9\", \"Crazy In Love\"], [\"Train\", \"Shelter Me\"], [\"Junior Jack\", \"Dare Me (Stupidisco)\"], [\"Daddy Yankee\", \"La Despedida\"], [\"Madonna\", \"True Blue (The Color Mix)\"], [\"Barry White\", \"Let The Music Play\"]], \"hovertemplate\": \"<b>%{hovertext}</b><br><br>genre=french<br>x=%{x}<br>y=%{y}<br>z=%{z}<br>artist=%{customdata[0]}<br>track=%{customdata[1]}<extra></extra>\", \"hovertext\": [\"TRNRXYR128F930497F\", \"TRXGSOV128F92F814C\", \"TRTAPPJ128F9311061\", \"TRTBZPW128F4215C80\", \"TRTLNYP128F4278C85\", \"TRIDNIL128F92FC314\", \"TRHIEGC128F4299E12\", \"TRHYDKN12903CFAE4E\", \"TRGRSVV128F4299E31\", \"TRGLJGU128F427C242\", \"TRVAVQH128F933BD59\", \"TRVBONW128F427A24D\", \"TRWXGBG128F422B81E\", \"TRSNTJY128F429A1F1\", \"TRSJKPT128E07818C4\", \"TRBZXHV128F4282801\", \"TROGNMP128F148C4A0\", \"TRLPXUE128F1469382\", \"TRYGSUG128F9309594\", \"TRFEGHT128F9306695\", \"TRFYLRG128F92C92AF\"], \"legendgroup\": \"french\", \"marker\": {\"color\": \"#00cc96\", \"symbol\": \"circle\"}, \"mode\": \"markers\", \"name\": \"french\", \"scene\": \"scene\", \"showlegend\": true, \"type\": \"scatter3d\", \"x\": [-90.45580291748047, 112.51341247558594, 59.40396499633789, 91.7703857421875, -11.924224853515625, 22.88479232788086, 10.798473358154297, 39.27651596069336, -97.57929229736328, 164.2572021484375, 121.21453094482422, -133.87167358398438, -5.342581748962402, 8.342936515808105, 94.85743713378906, 13.917596817016602, 12.652603149414062, 96.04263305664062, 59.60423278808594, 0.9521818161010742, 128.52247619628906], \"y\": [-10.795170783996582, 44.0546760559082, -50.416290283203125, 115.56016540527344, -94.44673919677734, 118.81723022460938, -54.96833419799805, -99.27472686767578, 82.40888977050781, -15.496564865112305, -50.625118255615234, -35.99790573120117, -138.6555633544922, 11.838687896728516, -26.023191452026367, -80.85860443115234, -65.01788330078125, -34.413333892822266, 67.207275390625, -58.67766571044922, -41.45976638793945], \"z\": [-97.23259735107422, 52.53677749633789, 113.1921157836914, -81.11461639404297, 78.8200454711914, 109.80831909179688, -86.63510131835938, -2.574742078781128, -58.67337417602539, 21.27289581298828, 163.41917419433594, -80.7495346069336, -36.27306365966797, -8.863668441772461, -106.9081039428711, 105.33919525146484, -121.4354476928711, -73.63269805908203, -70.10836029052734, 35.224212646484375, -49.77908706665039]}, {\"customdata\": [[\"Supergrass\", \"Alright\"], [\"Dolly Parton\", \"Jolene\"], [\"Vanessa Paradis\", \"Be My Baby\"], [\"The Seekers\", \"The Carnival Is Over (Mono)\"], [\"Hot Chip\", \"Don't Dance\"]], \"hovertemplate\": \"<b>%{hovertext}</b><br><br>genre=german<br>x=%{x}<br>y=%{y}<br>z=%{z}<br>artist=%{customdata[0]}<br>track=%{customdata[1]}<extra></extra>\", \"hovertext\": [\"TRBDGOX128F428E2B9\", \"TRZGTIB128F42974E3\", \"TRZDXVL128F9308719\", \"TRLICQB128F92CAB33\", \"TRLHEIJ128F1490FD6\"], \"legendgroup\": \"german\", \"marker\": {\"color\": \"#ab63fa\", \"symbol\": \"circle\"}, \"mode\": \"markers\", \"name\": \"german\", \"scene\": \"scene\", \"showlegend\": true, \"type\": \"scatter3d\", \"x\": [-25.420682907104492, -58.71150207519531, -23.386899948120117, -60.92900848388672, 69.31087493896484], \"y\": [55.63672637939453, 88.94898223876953, -92.95462036132812, 144.16168212890625, 20.730804443359375], \"z\": [41.10292434692383, -1.09560227394104, -31.031341552734375, 33.79358673095703, -22.795398712158203]}, {\"customdata\": [[\"The Archies\", \"Sugar Sugar\"], [\"Imagination\", \"Just An Illusion\"], [\"Robert Earl Keen\", \"Wild Wind\"], [\"Sheryl Crow\", \"If It Makes You Happy\"], [\"Anton Barbeau\", \"I Used to Say Your Name\"]], \"hovertemplate\": \"<b>%{hovertext}</b><br><br>genre=hard rock<br>x=%{x}<br>y=%{y}<br>z=%{z}<br>artist=%{customdata[0]}<br>track=%{customdata[1]}<extra></extra>\", \"hovertext\": [\"TRXKJYD128F4277865\", \"TRHKRKS128EF34426F\", \"TRVCVVR128F425AD75\", \"TRLLEUB128F14712B7\", \"TRPTAAH128F9335255\"], \"legendgroup\": \"hard rock\", \"marker\": {\"color\": \"#FFA15A\", \"symbol\": \"circle\"}, \"mode\": \"markers\", \"name\": \"hard rock\", \"scene\": \"scene\", \"showlegend\": true, \"type\": \"scatter3d\", \"x\": [30.744808197021484, -138.42686462402344, 54.964473724365234, -109.54476928710938, -40.01662063598633], \"y\": [-24.320775985717773, -47.45681381225586, -97.13789367675781, 11.279268264770508, -89.6032485961914], \"z\": [-10.668203353881836, -11.908398628234863, -44.92035675048828, -27.041040420532227, -62.27693176269531]}, {\"customdata\": [[\"Madonna\", \"I Deserve It (Album Version)\"]], \"hovertemplate\": \"<b>%{hovertext}</b><br><br>genre=heavy metal<br>x=%{x}<br>y=%{y}<br>z=%{z}<br>artist=%{customdata[0]}<br>track=%{customdata[1]}<extra></extra>\", \"hovertext\": [\"TRUOWFX128F4262E69\"], \"legendgroup\": \"heavy metal\", \"marker\": {\"color\": \"#19d3f3\", \"symbol\": \"circle\"}, \"mode\": \"markers\", \"name\": \"heavy metal\", \"scene\": \"scene\", \"showlegend\": true, \"type\": \"scatter3d\", \"x\": [8.65222454071045], \"y\": [14.655574798583984], \"z\": [92.6568603515625]}, {\"customdata\": [[\"Daft Punk\", \"Harder Better Faster Stronger (Jess And Crabbe Mix)\"], [\"Simian Mobile Disco\", \"I GOT THIS DOWN\"], [\"Steve Miller Band\", \"Going To The Country\"], [\"The Doobie Brothers\", \"Minute By Minute [Farewell Live Tour Version]\"], [\"Connie Francis\", \"Lipstick On Your Collar\"], [\"Shola Ama\", \"In Return - Album Version\"], [\"The Cranberries\", \"Ave Maria (Pavarotti / O'Riordan)\"], [\"DJ Jazzy Jeff & The Fresh Prince;Will Smith\", \"Pump Me Up\"], [\"Cesare Cremonini\", \"Marmellata#25 (live)\"], [\"New Order\", \"World [Price Of Love]\"], [\"The Roches\", \"Losing True (Album Version)\"], [\"Pet Shop Boys\", \"Did you see me coming?\"], [\"Duran Duran\", \"Save A Prayer (Live) (2004 Digital Remaster)\"], [\"Michael Jackson\", \"Bad\"], [\"Chris Rea\", \"Josephine (French Edit)\"], [\"S Club 7\", \"Two In A Million\"], [\"Peter And Gordon\", \"Nobody I Know\"], [\"Toto\", \"Africa\"], [\"Bob Sinclar feat. Steve Edwards\", \"World_ Hold On (Children of the sky)\"], [\"Juice Leskinen\", \"Maailman \\u00e4\\u00e4riin\"], [\"Stereophonics\", \"Have A Nice Day\"]], \"hovertemplate\": \"<b>%{hovertext}</b><br><br>genre=hip hop rnb and dance hall<br>x=%{x}<br>y=%{y}<br>z=%{z}<br>artist=%{customdata[0]}<br>track=%{customdata[1]}<extra></extra>\", \"hovertext\": [\"TRUMOLI128F147C17E\", \"TRUKWKA12903CC49CC\", \"TRHNAGL128F422B970\", \"TRHIVMU128F9327D14\", \"TRHYHGH128F4292ADD\", \"TRGMWOJ12903CA62B5\", \"TREAEJN128F425AE49\", \"TRAQHSM128F92EF80D\", \"TRALRTY128F428BE43\", \"TRWDICQ128F9302051\", \"TRCZMLQ128F9307825\", \"TRCKCXH12903D138D2\", \"TRBTFRK12903CCE699\", \"TRBRRBJ128F426B28F\", \"TRQKWHN128F930C4C6\", \"TRJIZEK128F42AC2A0\", \"TRZDMWV128E0796976\", \"TRKWKER128F1482409\", \"TRLPQCQ128E078E7DD\", \"TRYFUNE12903CCDCD5\", \"TRFDVKX128F4292ADB\"], \"legendgroup\": \"hip hop rnb and dance hall\", \"marker\": {\"color\": \"#FF6692\", \"symbol\": \"circle\"}, \"mode\": \"markers\", \"name\": \"hip hop rnb and dance hall\", \"scene\": \"scene\", \"showlegend\": true, \"type\": \"scatter3d\", \"x\": [39.07833480834961, -101.79388427734375, 30.533994674682617, 123.11173248291016, 46.9250602722168, -62.871952056884766, 70.58155059814453, 146.73040771484375, -6.821022987365723, 86.79191589355469, 134.08970642089844, -71.14867401123047, -43.23957061767578, -114.68257141113281, -36.855445861816406, -88.80026245117188, -17.007240295410156, -98.34580993652344, 4.154608726501465, -27.2985897064209, 11.851567268371582], \"y\": [104.89753723144531, -117.5855484008789, -49.763511657714844, 71.24964904785156, 3.3923544883728027, 110.47771453857422, -27.752811431884766, 22.66411590576172, 133.746826171875, 70.32550048828125, -72.27557373046875, 69.75396728515625, -46.690975189208984, -3.533985137939453, 73.50926971435547, 107.1085205078125, -48.24359893798828, 137.03469848632812, 61.08574676513672, -52.187110900878906, 16.138574600219727], \"z\": [-67.38853454589844, -27.965564727783203, 49.852256774902344, 83.75082397460938, -19.998258590698242, -72.63377380371094, -16.570249557495117, -77.0517578125, 22.33055877685547, -35.22443771362305, -67.7762451171875, -73.08793640136719, -141.5608367919922, -127.43951416015625, 109.23443603515625, 32.75506591796875, -68.47771453857422, 5.768612384796143, 64.727294921875, 63.871498107910156, 109.98661041259766]}, {\"customdata\": [[\"10cc\", \"Dreadlock Holiday\"], [\"Phil Collins\", \"One More Night\"], [\"2raumwohnung\", \"36 Grad (Paul van Dyk's Vandit Clubmix)\"], [\"Blondie\", \"The Tide Is High\"], [\"Cliff Richard & The Shadows\", \"Bachelor Boy\"], [\"Lisa Stansfield\", \"Real Love\"], [\"Sade\", \"Your Love Is King\"], [\"Tracy Chapman\", \"Why? (LP Version)\"], [\"Stereophonics\", \"Have A Nice Day\"]], \"hovertemplate\": \"<b>%{hovertext}</b><br><br>genre=irish<br>x=%{x}<br>y=%{y}<br>z=%{z}<br>artist=%{customdata[0]}<br>track=%{customdata[1]}<extra></extra>\", \"hovertext\": [\"TRXDFDI128F148D4A1\", \"TRUEGQL128E0793DB6\", \"TRRKBTZ128F92FCD8A\", \"TRGCNGP12903CFA2BA\", \"TRAVQKQ128F425A98E\", \"TRWYEXL128E0781213\", \"TRCUYBK128F933ADC3\", \"TRLIJMY128C7196990\", \"TRDASPF128F92F7B3C\"], \"legendgroup\": \"irish\", \"marker\": {\"color\": \"#B6E880\", \"symbol\": \"circle\"}, \"mode\": \"markers\", \"name\": \"irish\", \"scene\": \"scene\", \"showlegend\": true, \"type\": \"scatter3d\", \"x\": [88.2712631225586, 82.19351196289062, 87.32796478271484, 31.160707473754883, -6.354581832885742, 36.57898712158203, -63.13731002807617, -25.493030548095703, 57.36018371582031], \"y\": [-22.691736221313477, 151.26519775390625, -3.005256175994873, 77.366943359375, -134.74598693847656, -36.974388122558594, -115.77509307861328, -33.08864212036133, 1.148123860359192], \"z\": [10.082048416137695, 16.958280563354492, -2.7006306648254395, 50.171443939208984, 76.68253326416016, -112.73091125488281, -10.363340377807617, 155.814453125, -157.16238403320312]}, {\"customdata\": [[\"Bruce Hornsby\", \"Country Doctor\"], [\"Even As We Speak\", \"One Step Forward\"], [\"Mcfadden & Whitehead\", \"Ain't No Stoppin' Us Now\"], [\"Simon & Garfunkel\", \"The Boxer\"], [\"Phil Keaggy\", \"What Child Is This? (LP Version)\"], [\"Nanci Griffith\", \"You Were On My Mind (LP Version)\"], [\"883\", \"Nella Notte\"], [\"Tears For Fears\", \"Laid So Low (Tears Roll Down)\"], [\"Lucio Dalla\", \"Medley Elettrico\"], [\"The Beach Boys\", \"You've Got To Hide Your Love Away (Digitally Remastered 01)\"], [\"The Cranberries\", \"Animal Instinct\"], [\"The Special AKA\", \"Nelson Mandela\"], [\"Moby\", \"Lift Me Up (Radio Mix)\"], [\"Tomcraft\", \"Overdose (Lady Radio Mix)\"], [\"DJ Jazzy Jeff & The Fresh Prince\", \"Summertime\"], [\"NOFX\", \"Happy Guy\"], [\"The Smiths\", \"Bigmouth Strikes Again\"], [\"Paula Koivuniemi\", \"Kaikki K\\u00e4y Helpommaksi\"], [\"Usher\", \"You Make Me Wanna...\"]], \"hovertemplate\": \"<b>%{hovertext}</b><br><br>genre=italian<br>x=%{x}<br>y=%{y}<br>z=%{z}<br>artist=%{customdata[0]}<br>track=%{customdata[1]}<extra></extra>\", \"hovertext\": [\"TRNXVWZ128F428D347\", \"TRXIGRM128F4292250\", \"TRXPVCO128F1492151\", \"TRUXPBZ128F1492149\", \"TRRPZGA128F14911E3\", \"TRIEVBC128E078A90C\", \"TRHXTBK128E0796817\", \"TRGVHXL128F425EA0A\", \"TRVYIQF128F42945E1\", \"TREBMRI12903CC2012\", \"TRWWRCD12903D0C838\", \"TRWBWJX128E078A918\", \"TRCZZUC128F422BA5A\", \"TRBGGQS128F4289405\", \"TRQGJDD128E078A91C\", \"TRQAZOX128F92F5C1B\", \"TROAGYH128F4278037\", \"TRYCHGX128F93434F7\", \"TRPWAEU128E0793D18\"], \"legendgroup\": \"italian\", \"marker\": {\"color\": \"#FF97FF\", \"symbol\": \"circle\"}, \"mode\": \"markers\", \"name\": \"italian\", \"scene\": \"scene\", \"showlegend\": true, \"type\": \"scatter3d\", \"x\": [3.46079421043396, -95.24048614501953, 64.62467956542969, -81.63050079345703, 63.67942428588867, -32.11498260498047, -124.60274505615234, 95.95549774169922, 36.95453643798828, 30.93833351135254, 115.78946685791016, 61.598812103271484, -106.29638671875, 77.3915786743164, 11.047786712646484, -70.79090881347656, 4.914314270019531, -117.6006851196289, 59.07952880859375], \"y\": [-123.63996887207031, 19.34770965576172, 131.6944122314453, 71.94680786132812, -51.701358795166016, -72.6383056640625, 27.001251220703125, 81.97201538085938, -60.30582046508789, 36.93989562988281, -64.84207153320312, 70.15673065185547, -68.5099105834961, 45.364864349365234, -11.602367401123047, -15.715452194213867, -57.66982650756836, -113.83458709716797, 21.52401351928711], \"z\": [101.65528106689453, -63.211429595947266, -33.35615539550781, 25.53473663330078, 35.221920013427734, -85.74630737304688, 79.7598876953125, 24.4306583404541, 3.3211119174957275, -24.478410720825195, -17.952110290527344, 79.81046295166016, -86.15558624267578, 60.632389068603516, 22.978778839111328, 48.135406494140625, 70.51631927490234, -20.17682647705078, 22.670570373535156]}, {\"customdata\": [[\"Long John Baldry\", \"Goin Out Of My Head\"], [\"George Harrison\", \"All Those Years Ago (Live) (2004 Digital Remaster)\"], [\"Toto\", \"A Thousand Years\"], [\"Bruce Springsteen\", \"The River\"], [\"Boney M.\", \"Painter Man\"], [\"Limahl\", \"Never Ending Story\"], [\"The Pastels\", \"Over My Shoulder\"], [\"Robbie Williams\", \"I Wouldn't Normally Do This Kind Of Thing\"], [\"James & Bobby Purify\", \"Let Love Come Between Us\"], [\"Paul McCartney / Wings\", \"Bluebird\"], [\"Alicia Keys\", \"Like You'll Never See Me Again\"], [\"Imagination\", \"Just an Illusion\"], [\"Savage Garden\", \"To The Moon & Back\"]], \"hovertemplate\": \"<b>%{hovertext}</b><br><br>genre=new wave<br>x=%{x}<br>y=%{y}<br>z=%{z}<br>artist=%{customdata[0]}<br>track=%{customdata[1]}<extra></extra>\", \"hovertext\": [\"TRUFPPV128F427C143\", \"TRMMPLV128F425F37F\", \"TRMANVT128F9310C2D\", \"TRHPMKO128F4282868\", \"TRAMWJH128F145DBE9\", \"TRAYIFV128F934B689\", \"TRBFRXP128F1472848\", \"TRZEBXJ128E0785DF0\", \"TRZBNQS128F147CD69\", \"TRKXAYZ128E0788E52\", \"TRFSJUR12903CB23E7\", \"TRPVZZN12903CEE421\", \"TRPKERG128F92CA8F1\"], \"legendgroup\": \"new wave\", \"marker\": {\"color\": \"#FECB52\", \"symbol\": \"circle\"}, \"mode\": \"markers\", \"name\": \"new wave\", \"scene\": \"scene\", \"showlegend\": true, \"type\": \"scatter3d\", \"x\": [107.32475280761719, -18.823759078979492, 2.6444716453552246, -54.4498176574707, -137.283203125, 18.659481048583984, -18.132343292236328, 111.11328125, 49.093780517578125, -31.479795455932617, 29.477445602416992, 11.784575462341309, -80.7728271484375], \"y\": [-126.8919906616211, 108.2830581665039, 11.98915958404541, 28.538530349731445, -52.93629455566406, 111.67970275878906, -60.686683654785156, 43.38454818725586, -24.098892211914062, -108.4723892211914, 123.54995727539062, 83.6408462524414, -132.47398376464844], \"z\": [37.90290451049805, 58.95361328125, -96.69435119628906, -21.99240493774414, -61.60927963256836, 57.135841369628906, 102.53178405761719, -24.379270553588867, -37.21772003173828, -28.748220443725586, 68.69093322753906, -22.531824111938477, 31.28481674194336]}, {\"customdata\": [[\"ARRESTED DEVELOPMENT\", \"Tennessee (2001 Digital Remaster)\"], [\"Alicia Keys featuring Ludacris\", \"Like You'll Never See Me Again Remix (feat. Ludacris)\"], [\"Melanie C\", \"Better Alone\"], [\"City\", \"Mir wird kalt dabei\"], [\"George McCrae\", \"Rock Your Baby\"], [\"Yazoo\", \"Mr Blue\"], [\"Imagination\", \"Just An Illusion\"], [\"The Everly Brothers\", \"True Love\"], [\"Imagination\", \"Just An Illusion\"], [\"Paul Anka\", \"Lonely Boy\"], [\"The Beautiful South\", \"If Teardrops Were Silver\"], [\"Kake Randelin\", \"Silti uskon\"], [\"Kool & The Gang\", \"Let's Go Dancin'\"], [\"The Cure\", \"All I Want\"], [\"Lionrock\", \"Packet Of Peace\"], [\"Sinitta\", \"Toy Boy\"], [\"Duran Duran\", \"Hungry Like The Wolf (Live)\"]], \"hovertemplate\": \"<b>%{hovertext}</b><br><br>genre=pop and chart<br>x=%{x}<br>y=%{y}<br>z=%{z}<br>artist=%{customdata[0]}<br>track=%{customdata[1]}<extra></extra>\", \"hovertext\": [\"TRNHJRU12903CE5FC4\", \"TRXZBZU128F9339F4C\", \"TRTUSHE128F1464844\", \"TRTSGLE128F425BB21\", \"TRIHNSK128F425DDE1\", \"TRIDLDE128F149BF3F\", \"TRMMLNP128F9308A1E\", \"TRAGJNX128F92CEFDB\", \"TRAKDJO128E07811D8\", \"TRWDPTD12903D018B5\", \"TRKHUDR128E0788E6A\", \"TRKCRLT128F42A58DE\", \"TROTIYV128F93584F0\", \"TRYIYUF128F932573D\", \"TRFNMUH128F14A6EE8\", \"TRFRHQU128F146A533\", \"TRPCLIY12903CEF8C2\"], \"legendgroup\": \"pop and chart\", \"marker\": {\"color\": \"#636efa\", \"symbol\": \"circle\"}, \"mode\": \"markers\", \"name\": \"pop and chart\", \"scene\": \"scene\", \"showlegend\": true, \"type\": \"scatter3d\", \"x\": [-6.8546624183654785, -141.84292602539062, -101.73870086669922, 62.37911605834961, -71.46442413330078, -105.76160430908203, 59.69317626953125, -62.506996154785156, -9.49388313293457, 95.50297546386719, 90.19049072265625, 117.229736328125, 21.791004180908203, 80.50332641601562, -58.880619049072266, -8.699728965759277, 36.419925689697266], \"y\": [-49.51539611816406, -77.13311767578125, -55.96487808227539, -24.41943359375, -1.2249517440795898, -0.7006853222846985, -111.34110260009766, -14.182625770568848, -77.78951263427734, -97.4999771118164, 10.860962867736816, 13.837360382080078, -43.96366500854492, -77.6595458984375, -8.701531410217285, -96.28419494628906, 68.84454345703125], \"z\": [-147.25567626953125, 17.987167358398438, 22.192808151245117, -68.53556060791016, 114.56373596191406, 82.21373748779297, -34.366817474365234, 130.92433166503906, 141.95233154296875, 85.99163055419922, 63.5094108581543, -111.56885528564453, 111.54424285888672, -27.899126052856445, 1.1723288297653198, -98.47046661376953, -23.071401596069336]}, {\"customdata\": [[\"Lisa Stansfield;Ian Devaney;Andy Morris\", \"You Can't Deny It\"], [\"Bert Kaempfert\", \"Footprints In The Sand (Huellas En La Arena)\"], [\"Paul Anka\", \"Lonely Boy\"], [\"Tony Yayo\", \"Eastside Westside\"], [\"Jason Donovan\", \"All The Words We Don't Say\"], [\"Savage Garden\", \"I Knew I Loved You\"], [\"The Cure\", \"One Hundred Years\"], [\"The Cranberries\", \"Free To Decide\"], [\"Phil Collins\", \"Two Worlds (Phil Version)\"], [\"Bodyrockers\", \"I Like The Way\"], [\"Missy Elliott\", \"All N My Grill (LP Version)\"], [\"Willie Nelson\", \"If You Can Touch Her At All\"], [\"Mousse T. Vs Hot 'n' Juicy\", \"Horny\"]], \"hovertemplate\": \"<b>%{hovertext}</b><br><br>genre=pop<br>x=%{x}<br>y=%{y}<br>z=%{z}<br>artist=%{customdata[0]}<br>track=%{customdata[1]}<extra></extra>\", \"hovertext\": [\"TRNWKTL128F92F318A\", \"TRIIGCK128F42A28C7\", \"TRIFDPW128F4231E21\", \"TRGYSHN128F425FD74\", \"TRCNVUE128F423974F\", \"TRCOTJS128E0798D2D\", \"TRSBIZR128E0786C60\", \"TRBATUS128F9303CA0\", \"TRBCMYX128F92EB4BA\", \"TRJDWDW128E0798A80\", \"TRODWSW128F14A94F4\", \"TRLHOCQ128F1487080\", \"TRYRIUL128F42850E3\"], \"legendgroup\": \"pop\", \"marker\": {\"color\": \"#EF553B\", \"symbol\": \"circle\"}, \"mode\": \"markers\", \"name\": \"pop\", \"scene\": \"scene\", \"showlegend\": true, \"type\": \"scatter3d\", \"x\": [-110.1112060546875, 32.60544967651367, -119.94915771484375, 123.9727554321289, 75.6483154296875, 54.82838439941406, -26.614408493041992, 128.65963745117188, -108.98701477050781, 51.54281997680664, 69.00638580322266, 32.42885208129883, 74.04621887207031], \"y\": [-53.15377426147461, 80.47119140625, -25.37139320373535, 7.290186405181885, -60.02702331542969, 10.926021575927734, 45.5820198059082, -99.1982421875, -67.93126678466797, 4.0815324783325195, -59.23309326171875, -1.570336937904358, -2.020012617111206], \"z\": [62.34708023071289, -55.55448913574219, -32.8389778137207, 47.905704498291016, -0.02850640006363392, 52.97278594970703, 125.26167297363281, -37.47105026245117, 55.83361053466797, -85.43749237060547, -79.96038818359375, -101.33405303955078, -35.666046142578125]}, {\"customdata\": [[\"Limahl\", \"Never Ending Story\"], [\"Duran Duran\", \"New Moon On Monday (2010 Digital Remaster)\"], [\"The Archies\", \"Sugar Sugar\"], [\"Duran Duran\", \"Hold Back The Rain (US Album Remix) (2009 Digital Remaster)\"]], \"hovertemplate\": \"<b>%{hovertext}</b><br><br>genre=production music<br>x=%{x}<br>y=%{y}<br>z=%{z}<br>artist=%{customdata[0]}<br>track=%{customdata[1]}<extra></extra>\", \"hovertext\": [\"TRTXJXW128F9312B02\", \"TRTUEZL128F931DD6C\", \"TRGNSXR128F4231289\", \"TRGMAZZ12903CC0AC4\"], \"legendgroup\": \"production music\", \"marker\": {\"color\": \"#00cc96\", \"symbol\": \"circle\"}, \"mode\": \"markers\", \"name\": \"production music\", \"scene\": \"scene\", \"showlegend\": true, \"type\": \"scatter3d\", \"x\": [62.68636703491211, 8.15523624420166, -102.48686218261719, -53.4101448059082], \"y\": [-90.36573791503906, 48.02083206176758, -77.84664154052734, -32.78501892089844], \"z\": [110.79178619384766, -26.04039764404297, -48.45034408569336, 24.58493995666504]}, {\"customdata\": [[\"Chic\", \"Good Times (Original 12\\\"  Mix)\"]], \"hovertemplate\": \"<b>%{hovertext}</b><br><br>genre=progressive rock<br>x=%{x}<br>y=%{y}<br>z=%{z}<br>artist=%{customdata[0]}<br>track=%{customdata[1]}<extra></extra>\", \"hovertext\": [\"TRLOCIC128F14AEC53\"], \"legendgroup\": \"progressive rock\", \"marker\": {\"color\": \"#ab63fa\", \"symbol\": \"circle\"}, \"mode\": \"markers\", \"name\": \"progressive rock\", \"scene\": \"scene\", \"showlegend\": true, \"type\": \"scatter3d\", \"x\": [86.03910064697266], \"y\": [30.16118812561035], \"z\": [-48.1274299621582]}, {\"customdata\": [[\"Gloria Gaynor\", \"I Will Survive\"], [\"NOFX\", \"Happy Guy\"], [\"Gerry Rafferty\", \"Baker Street\"]], \"hovertemplate\": \"<b>%{hovertext}</b><br><br>genre=rnb<br>x=%{x}<br>y=%{y}<br>z=%{z}<br>artist=%{customdata[0]}<br>track=%{customdata[1]}<extra></extra>\", \"hovertext\": [\"TRZXAGH128F93232BE\", \"TRZMMTF128F92D51E4\", \"TRFHSND128F146B02D\"], \"legendgroup\": \"rnb\", \"marker\": {\"color\": \"#FFA15A\", \"symbol\": \"circle\"}, \"mode\": \"markers\", \"name\": \"rnb\", \"scene\": \"scene\", \"showlegend\": true, \"type\": \"scatter3d\", \"x\": [-68.67247009277344, 0.7302775382995605, 43.697078704833984], \"y\": [-70.76931762695312, 63.963253021240234, -150.44564819335938], \"z\": [-79.0898666381836, -55.532508850097656, -60.34054183959961]}, {\"customdata\": [[\"Basshunter\", \"I Promised Myself\"], [\"Miranda Lambert\", \"Time To Get A Gun\"], [\"The Beautiful South\", \"Everybody's Talkin'\"], [\"Richard Clayderman / James Last And His Orchestra\", \"From A Distance\"], [\"3 Doors Down\", \"Kryptonite\"], [\"Gigi D\\u0019Agostino\", \"The Only One\"], [\"Tam Tam Go!\", \"El Onanista De La Caja De Sorpresas\"], [\"R.E.M.\", \"Everybody Hurts [Live In Dublin]\"], [\"The Ventures\", \"Telstar\"], [\"Wang Chung\", \"Dance Hall Days\"], [\"Elton John\", \"Sad Songs (Say So Much)\"], [\"Robbie Williams\", \"She's Madonna (Kris Menace Dub)\"], [\"Hay / Strykert\", \"Down Under\"], [\"Joan Baez\", \"Girl Of Constant Sorrow\"], [\"James Last\", \"Night Fever\"], [\"U2\", \"If God Will Send His Angels\"], [\"James Last\", \"The Most Beautiful Girl\"], [\"KC And The Sunshine Band\", \"I'm Your Boogie Man\"], [\"Pet Shop Boys\", \"I Wouldn't Normally Do This Kind Of Thing (Beatmasters Mix) (2001 Digital Remaster)\"], [\"Las Ketchup\", \"Aserej\\u00e9\"], [\"Bobby Vinton\", \"Kissin' Christmas\"]], \"hovertemplate\": \"<b>%{hovertext}</b><br><br>genre=rock and indie<br>x=%{x}<br>y=%{y}<br>z=%{z}<br>artist=%{customdata[0]}<br>track=%{customdata[1]}<extra></extra>\", \"hovertext\": [\"TRNTJOQ128E0794306\", \"TRNJGTR128F145958E\", \"TRXJVOD128F42522D1\", \"TRUOGNN128F145B34C\", \"TRRACQG128F145959F\", \"TRRJMKH128F4250F30\", \"TRROQUB128E078167C\", \"TRRFOAF128F92DF787\", \"TRMJFBC128F424A07D\", \"TRHRMNF128F14595A9\", \"TRHLCEG128F14A518D\", \"TRGHDJU128E07813F9\", \"TRVMMBF128F145B2EB\", \"TREDEOB128F92CFF26\", \"TRWRNKD128F9327D73\", \"TRSLGKR128F1464BB9\", \"TRQTGXD128F427F195\", \"TRQWIGL128E078290E\", \"TRZCPYN128F4298F60\", \"TRYLTIA128F42A34E6\", \"TRYFXRX128F145AC22\"], \"legendgroup\": \"rock and indie\", \"marker\": {\"color\": \"#19d3f3\", \"symbol\": \"circle\"}, \"mode\": \"markers\", \"name\": \"rock and indie\", \"scene\": \"scene\", \"showlegend\": true, \"type\": \"scatter3d\", \"x\": [83.09671783447266, -58.7398681640625, 113.65342712402344, 79.64444732666016, 16.320934295654297, -59.08302688598633, 2.8681557178497314, 28.209407806396484, 39.88776397705078, 40.58207702636719, 85.84841918945312, 7.519848823547363, 58.307273864746094, 30.365962982177734, -123.66072845458984, -69.33309936523438, -4.601129531860352, 52.11098861694336, 21.182838439941406, 108.88971710205078, -42.4583854675293], \"y\": [-56.61859130859375, -1.7769695520401, 30.924646377563477, 65.89515686035156, -83.0932846069336, 88.38731384277344, 28.09818458557129, -5.396396636962891, -65.73221588134766, 3.514282703399658, -115.65032196044922, -162.55677795410156, 60.35686111450195, -32.57865524291992, 44.3295783996582, 10.765833854675293, 145.63548278808594, -10.685449600219727, 36.76654815673828, 79.11827087402344, -19.085420608520508], \"z\": [94.78860473632812, -35.036903381347656, 89.470947265625, -1.8568212985992432, 10.79770565032959, 80.75265502929688, 52.60884475708008, -135.18565368652344, 83.11723327636719, 84.39960479736328, -42.74622344970703, 2.0176517963409424, 9.352461814880371, 92.70496368408203, -19.575626373291016, -43.91149139404297, 64.38937377929688, 118.98392486572266, -119.75700378417969, -68.39494323730469, 67.06134796142578]}, {\"customdata\": [[\"New Order\", \"World [Price Of Love]\"], [\"Alanis Morissette\", \"You Learn (Album Version)\"], [\"Boney M.\", \"Painter Man\"], [\"Bangles\", \"Walk Like An Egyptian\"], [\"Gipsy Kings\", \"Pida Me La\"], [\"Styx\", \"The Best Of Times\"], [\"ZZ Top\", \"Hot_ Blue And Righteous [Remastered Album Version]\"], [\"Delta Goodrem\", \"A Little Too Late\"], [\"Tina Charles\", \"I Love To Love\"], [\"The Seekers\", \"The Carnival Is Over\"], [\"Counting Crows\", \"Hanginaround\"], [\"Duran Duran\", \"Save A Prayer\"], [\"Catie Curtis\", \"Kiss That Counted (Album Version)\"], [\"Alain Souchon\", \"Foule Sentimentale (Live)\"], [\"Bobby Brown\", \"Rock Wit'cha\"], [\"Connie Francis\", \"Lipstick On Your Collar\"], [\"Sarah McLachlan\", \"Plenty\"], [\"Gladys Knight & The Pips\", \"Midnight Train To Georgia (Single Edit Version)\"], [\"Andrew Gold\", \"Final Frontier (LP Version)\"], [\"The Cranberries\", \"Animal Instinct\"]], \"hovertemplate\": \"<b>%{hovertext}</b><br><br>genre=rock<br>x=%{x}<br>y=%{y}<br>z=%{z}<br>artist=%{customdata[0]}<br>track=%{customdata[1]}<extra></extra>\", \"hovertext\": [\"TRNNCPB128F92D307D\", \"TRXWWWB128F9305CAA\", \"TRUOFFK128F426301E\", \"TRUPEBD12903CCDB24\", \"TRGEMBS128F42ACDF6\", \"TRVCHAD128F92F68D2\", \"TRANHSO12903CF02CC\", \"TRAIFLV12903CCFECD\", \"TRAYSWO128F931CFA4\", \"TRWFMSQ128F427D89C\", \"TRCEVWM128F932F84A\", \"TRBCORE12903CD6FA0\", \"TRBQFEC128F92F3FAB\", \"TRBOHZI128F92F02BE\", \"TRQXIRB128F423B5F4\", \"TRJSBNB128F4261DB3\", \"TRJSOQD128F92D3072\", \"TRLJFCU128F92DDC32\", \"TRYATJD128F92FDB02\", \"TRFNHNB128E0780DF7\"], \"legendgroup\": \"rock\", \"marker\": {\"color\": \"#FF6692\", \"symbol\": \"circle\"}, \"mode\": \"markers\", \"name\": \"rock\", \"scene\": \"scene\", \"showlegend\": true, \"type\": \"scatter3d\", \"x\": [-56.58544158935547, -40.070953369140625, -139.4246368408203, -14.627202987670898, -64.78132629394531, 3.3076114654541016, 92.36682891845703, 107.56478881835938, -41.747032165527344, -114.06914520263672, 64.03958129882812, -66.17543029785156, 96.24199676513672, -93.74195861816406, -78.416748046875, -35.02015686035156, 32.4959716796875, -68.02396392822266, 5.025450229644775, -45.36911392211914], \"y\": [82.81291961669922, 144.27297973632812, 23.998672485351562, -47.96234893798828, -121.96087646484375, 137.10311889648438, -137.3634796142578, 119.90966796875, -31.163816452026367, 43.860870361328125, 141.47300720214844, -108.3978042602539, 84.8794937133789, -45.84446716308594, -62.9544677734375, -1.8596699237823486, -106.18804931640625, -87.69670104980469, 103.00077056884766, -54.319149017333984], \"z\": [-96.95980072021484, 2.948328733444214, 8.190106391906738, 7.22636604309082, -49.99696350097656, -76.41422271728516, -8.059367179870605, -33.160400390625, 93.60600280761719, -123.91035461425781, 67.06102752685547, 93.06185913085938, 61.574337005615234, -116.66263580322266, -121.41985321044922, -143.86328125, 126.70584869384766, -38.27540588378906, -47.190650939941406, -46.770084381103516]}, {\"customdata\": [[\"The Everly Brothers\", \"Bye Bye Love\"], [\"Hilary Duff\", \"Wake Up\"], [\"Willie Nelson\", \"On The Road Again\"], [\"Whitney Houston\", \"How Will I Know\"], [\"Japan\", \"Quiet Life\"], [\"Frank Ifield\", \"I Remember You\"], [\"Jean Michel Jarre\", \"Oxyg\\u00e8ne_ Pt. XIII\"], [\"Coldplay\", \"In My Place (Live In Sydney)\"]], \"hovertemplate\": \"<b>%{hovertext}</b><br><br>genre=soul and reggae<br>x=%{x}<br>y=%{y}<br>z=%{z}<br>artist=%{customdata[0]}<br>track=%{customdata[1]}<extra></extra>\", \"hovertext\": [\"TRNUDOZ128F42B0CFC\", \"TRNLFYZ128F42B3224\", \"TRTRPXO128F93609B0\", \"TRUUWQJ128F4233468\", \"TRUBCUL128F1471730\", \"TRAZCCG128F1463460\", \"TRYHOYI12903D0950B\", \"TRDKKYU128F42438DA\"], \"legendgroup\": \"soul and reggae\", \"marker\": {\"color\": \"#B6E880\", \"symbol\": \"circle\"}, \"mode\": \"markers\", \"name\": \"soul and reggae\", \"scene\": \"scene\", \"showlegend\": true, \"type\": \"scatter3d\", \"x\": [-48.2318115234375, 190.6055908203125, -135.6993408203125, 85.47052764892578, -73.69457244873047, 37.2919807434082, -21.550861358642578, -16.83915901184082], \"y\": [-109.19407653808594, -85.29979705810547, 91.0463638305664, 47.48587417602539, -2.0403974056243896, -52.84442138671875, 28.512718200683594, -30.297361373901367], \"z\": [21.688892364501953, 185.896728515625, 5.858723163604736, -80.87409973144531, 66.24071502685547, 146.5497589111328, 95.16587829589844, 31.206113815307617]}, {\"customdata\": [[\"Bangles\", \"Hazy Shade Of Winter\"], [\"Paola Turci\", \"Sai Che E' Un Attimo\"], [\"Boney M.\", \"Dreadlock Holiday\"], [\"Billy Idol\", \"Blue Christmas\"], [\"Remi Nicole\", \"Be My Baby\"]], \"hovertemplate\": \"<b>%{hovertext}</b><br><br>genre=spanish<br>x=%{x}<br>y=%{y}<br>z=%{z}<br>artist=%{customdata[0]}<br>track=%{customdata[1]}<extra></extra>\", \"hovertext\": [\"TRUFPTS128F4297675\", \"TRRYVQI128F148D12A\", \"TROQOXI128F42734EB\", \"TRLAWOD128F427448F\", \"TRFDXTG128F1496037\"], \"legendgroup\": \"spanish\", \"marker\": {\"color\": \"#FF97FF\", \"symbol\": \"circle\"}, \"mode\": \"markers\", \"name\": \"spanish\", \"scene\": \"scene\", \"showlegend\": true, \"type\": \"scatter3d\", \"x\": [132.69476318359375, 42.13939666748047, 18.247737884521484, -26.91147232055664, 9.306109428405762], \"y\": [76.40240478515625, 167.7465362548828, -103.61912536621094, 22.67535400390625, -71.59513092041016], \"z\": [31.870590209960938, -18.79327964782715, -29.538734436035156, -98.1131820678711, 1.5861601829528809]}, {\"customdata\": [[\"Kool & The Gang\", \"Let's Go Dancin' (Ohh La_ La La)\"], [\"Usher\", \"You Make Me Wanna...\"]], \"hovertemplate\": \"<b>%{hovertext}</b><br><br>genre=swedish<br>x=%{x}<br>y=%{y}<br>z=%{z}<br>artist=%{customdata[0]}<br>track=%{customdata[1]}<extra></extra>\", \"hovertext\": [\"TRGTWMB128E078F2E5\", \"TRAMDRT12903CA121C\"], \"legendgroup\": \"swedish\", \"marker\": {\"color\": \"#FECB52\", \"symbol\": \"circle\"}, \"mode\": \"markers\", \"name\": \"swedish\", \"scene\": \"scene\", \"showlegend\": true, \"type\": \"scatter3d\", \"x\": [58.590423583984375, 22.63261604309082], \"y\": [48.1949462890625, -117.02609252929688], \"z\": [-33.295143127441406, -102.20611572265625]}, {\"customdata\": [[\"Sweet\", \"Coco/Funny Funny/Poppa Joe\"], [\"Mungo Jerry\", \"In The Summertime \"], [\"Supergrass\", \"Alright\"], [\"Supertramp\", \"Dreamer\"], [\"Wall Of Voodoo\", \"Blackboard Sky (Live)\"], [\"Chic\", \"Chic Mystique (Album Version) (2006 Remastered)\"], [\"Average White Band\", \"Pick Up The Pieces (Single Short Edit Version)\"], [\"Duran Duran\", \"Hungry Like The Wolf (Live At The Hammersmith Odeon)\"], [\"KT Tunstall\", \"Suddenly I See (Radio Version)\"], [\"U2\", \"Sweetest Thing\"], [\"George Michael\", \"Praying For Time\"], [\"George Michael\", \"Waiting For That Day\"], [\"Cliff Richard & The Shadows\", \"Bachelor Boy (2000 Digital Remaster)\"], [\"Alexander O'Neal\", \"A Million Love Songs\"], [\"Brooks & Dunn\", \"Boot Scootin' Boogie\"], [\"Mousse T. with Emma Lanford\", \"Right About Now (Album Version)\"], [\"Queen\", \"Misfire (1993 Digital Remaster)\"], [\"Tammy Wynette\", \"Stand By Your Man\"], [\"Japan\", \"Quiet Life\"], [\"Epsilon Minus\", \"80s Boy (DJ Ram Remix)\"], [\"Johnny Cash\", \"A Thing Called Love\"], [\"Paula Abdul\", \"Straight Up (Single Version)\"], [\"George Harrison\", \"All Those Years Ago (2004 Digital Remaster)\"], [\"Dwight Yoakam\", \"North To Alaska (LP Version + Hidden Track \\\"T For Texas\\\")\"], [\"Tina Turner\", \"On Silent Wings (Live)\"], [\"Chic\", \"Le Freak\"], [\"Sade\", \"Your Love Is King\"], [\"Brooks & Dunn\", \"Lost And Found\"], [\"Dr. Hook\", \"When You're In Love With A Beautiful Woman\"], [\"Carla Bruni\", \"I Went To Heaven (Album)\"], [\"Coldplay\", \"In My Place\"], [\"The Archies\", \"Sugar_ Sugar\"], [\"Blondie\", \"Heart Of Glass (LP Version)\"], [\"The Archies\", \"Sugar Sugar\"], [\"The Police\", \"Every Little Thing She Does Is Magic\"], [\"East 17\", \"It's All Over\"], [\"Richard Clayderman\", \"Mandy\"], [\"M-Clan\", \"Llamando A La Tierra (Serenade From The Stars)\"], [\"Toni Braxton\", \"Breathe Again\"], [\"Irene Cara\", \"What A Feeling\"], [\"Leftfield\", \"Inspection (Check One)\"], [\"KT Tunstall\", \"Suddenly I See\"], [\"Willie Nelson\", \"Nobody Slides_ My Friend\"], [\"ZZ Top\", \"Legs [Single Version]\"], [\"S Club 7\", \"Two In A Million\"], [\"Kelly Marie\", \"Listen To The Children\"], [\"The Seekers\", \"The Carnival Is Over\"], [\"Dwight Yoakam\", \"The Curse (LP Version)\"], [\"Lisa Stansfield\", \"I Will Be Waiting\"], [\"Gram Parsons\", \"Drug Store Truck Drivin' Man (1973 Live Version)\"], [\"The Cure\", \"Plainsong\"], [\"Zucchero\", \"Madre Dolcissima\"], [\"Steely Dan\", \"Barrytown\"], [\"Judy Collins\", \"Send In The Clowns [LP Version]\"], [\"Los Del Mar\", \"Macarena (feat. Jos\\u00e8 Garcia)\"], [\"Savage Garden\", \"Crash And Burn\"], [\"Soft Cell\", \"Insecure Me\"], [\"Mojave 3\", \"Tinkers Blues\"], [\"Chi-Lites\", \"Have You Seen Her?\"], [\"Finntroll\", \"Marknadsvisan\"], [\"Blue Rodeo\", \"Black Ribbon\"]], \"hovertemplate\": \"<b>%{hovertext}</b><br><br>genre=uk<br>x=%{x}<br>y=%{y}<br>z=%{z}<br>artist=%{customdata[0]}<br>track=%{customdata[1]}<extra></extra>\", \"hovertext\": [\"TRNUTXB128F92F6C9F\", \"TRNIDOH128F92F1796\", \"TRXHAZS128F42598D1\", \"TRXFGLZ128F425ECAB\", \"TRTVMWY128F14A2C72\", \"TRTPYDF128F145ADC8\", \"TRUHHPK12903CBA84F\", \"TRUVCJA128F4267E39\", \"TRUQQGT128F932FAD7\", \"TRUPURM128F429685C\", \"TRRKGRC128F932D8F0\", \"TRICKJT128F1452E83\", \"TRISVCC128E0793CCC\", \"TRILYEJ128F4259E6E\", \"TRMRNQS12903CE2FCB\", \"TRMCYUT128F4259E78\", \"TRMJWJM128F4279D58\", \"TRHSHSQ128E078E5F2\", \"TRGUDFU128F42598D6\", \"TRGCFXA128E0789B33\", \"TRGJFRR12903CC3070\", \"TRGPBMR128F1465182\", \"TRVINPR128F42597A7\", \"TRVACKX128F92EC704\", \"TRVWZET128F42A0E05\", \"TRVZINQ128F422D849\", \"TREMMLW128F92EC8E1\", \"TRATWSP128F933AD36\", \"TRWWJFK128F930526F\", \"TRCFUJT128F92DF6B6\", \"TRSTPIS128F42559B6\", \"TRSSRRF128F92FFA9F\", \"TRBSAIC128E0793CCE\", \"TRBFGKN128F145ADC4\", \"TRBFDHO128F4294AF0\", \"TRBPSFB128F92F3FCA\", \"TRQAIEN128E0784D50\", \"TRJWQJF12903CAC3E4\", \"TRJLLVG128F424793E\", \"TRZHILW128E0788FE9\", \"TRZYOGR128F42948AF\", \"TRONIEW128F14AADAF\", \"TRLYCFR128F92DF670\", \"TRYHOLF128F92EAE9D\", \"TRYGHWV128E0789B39\", \"TRYKBRA128F42382AF\", \"TRYPCVY128F9330D9E\", \"TRDXQYY12903CF806C\", \"TRDUIXP128F426415E\", \"TRDMYHS12903CB23D1\", \"TRDEDTO12903CF80A0\", \"TRDKAQG128F14543FA\", \"TRFXFBA12903D0CB8D\", \"TRFGZPB128F92FFBF9\", \"TRFKRTH128F145231D\", \"TRFFFFJ128F4259B34\", \"TRFPXXU128F933D7EB\", \"TRPTOYW128E07920B2\", \"TRPTOVY12903D089D4\", \"TRPVTRG128F425AB3E\", \"TRPDBNV128F423F018\"], \"legendgroup\": \"uk\", \"marker\": {\"color\": \"#636efa\", \"symbol\": \"circle\"}, \"mode\": \"markers\", \"name\": \"uk\", \"scene\": \"scene\", \"showlegend\": true, \"type\": \"scatter3d\", \"x\": [-10.509650230407715, -47.7247428894043, -21.20664405822754, -52.15117263793945, -105.16787719726562, -84.11331939697266, -6.23519229888916, -2.2960023880004883, -73.07218933105469, 17.674789428710938, -7.467905044555664, 108.3322525024414, 118.95329284667969, -99.37255859375, -67.35334014892578, -3.6919941902160645, 89.39279174804688, 76.2545166015625, -116.63626098632812, -21.854738235473633, 58.67580032348633, -63.001564025878906, 10.343118667602539, 71.10530090332031, -30.55636978149414, -124.1326675415039, -54.87175369262695, 76.63140106201172, -75.66163635253906, -88.3697738647461, 57.666656494140625, -50.37107467651367, 9.640096664428711, -82.20572662353516, -2.4435150623321533, -54.57119369506836, 149.97457885742188, -85.4636001586914, -47.765132904052734, -22.4554500579834, -34.872474670410156, 76.32518768310547, -105.294677734375, 67.6376724243164, 67.49356842041016, -76.0193099975586, -49.042118072509766, 93.37791442871094, 131.9953155517578, 19.906099319458008, 39.71333694458008, -7.53128719329834, -87.44717407226562, 138.76177978515625, 21.71965217590332, 121.44702911376953, 29.930131912231445, -4.775956630706787, 53.098453521728516, 43.67982482910156, -31.399906158447266], \"y\": [-95.68305206298828, -123.12142181396484, 38.304176330566406, 95.33887481689453, 91.04045104980469, -58.27715301513672, -23.768768310546875, -86.96958923339844, 118.86487579345703, 4.972776412963867, 132.44284057617188, -19.983858108520508, -87.26042938232422, -47.02482604980469, 44.777587890625, -20.76691246032715, 10.962063789367676, 83.82838439941406, 9.433992385864258, -134.14614868164062, -87.83818054199219, -174.73619079589844, 27.554645538330078, -53.68206787109375, -8.084647178649902, 51.20399475097656, 52.43283462524414, 39.84754180908203, -50.560997009277344, -106.87227630615234, -81.56954193115234, 40.014278411865234, 28.004121780395508, -15.741272926330566, -21.439693450927734, -64.12496185302734, 38.16692352294922, 38.45048904418945, 46.285491943359375, 24.8682861328125, 53.932159423828125, 96.70690155029297, 27.33003044128418, 106.90339660644531, -120.8309326171875, 107.7113265991211, 56.55455780029297, -59.78826141357422, -24.33971405029297, -40.01631164550781, 94.47088623046875, 179.5436248779297, 71.36321258544922, 49.76443862915039, 11.53381061553955, -49.55461120605469, 76.03875732421875, 29.950660705566406, 32.996952056884766, -83.52283477783203, 44.987083435058594], \"z\": [-4.085859298706055, -82.68878936767578, 68.5521240234375, 41.57392120361328, 89.55928802490234, -44.08272933959961, 107.597900390625, -51.07221221923828, -1.193265676498413, 63.7222785949707, -15.35468578338623, 79.8606948852539, 51.642513275146484, 115.19683837890625, -53.932010650634766, -88.8896255493164, -86.33136749267578, -99.65087890625, 43.63005828857422, -0.176377072930336, -97.06285095214844, 47.58115768432617, 20.957645416259766, -121.80384063720703, -43.11357498168945, -77.21604919433594, -134.6486053466797, -6.010702610015869, -0.16300660371780396, -83.81571197509766, 16.59784698486328, 119.05601501464844, -155.30162048339844, 27.26729965209961, -121.67385864257812, 94.30316925048828, 49.18134689331055, -18.730876922607422, 19.338571548461914, 29.009098052978516, -80.180908203125, -50.340965270996094, 11.623486518859863, 47.123165130615234, 53.619693756103516, -35.79667282104492, -15.407588958740234, 55.75531005859375, -4.180367946624756, 17.423778533935547, 23.41270637512207, 18.98142433166504, 65.689453125, 0.34513574838638306, -37.04975509643555, 101.17607116699219, 13.40021800994873, -152.6590576171875, -60.02651596069336, -119.14878845214844, -40.407470703125]}],\n",
       "                        {\"legend\": {\"title\": {\"text\": \"genre\"}, \"tracegroupgap\": 0}, \"margin\": {\"t\": 60}, \"scene\": {\"domain\": {\"x\": [0.0, 1.0], \"y\": [0.0, 1.0]}, \"xaxis\": {\"title\": {\"text\": \"x\"}}, \"yaxis\": {\"title\": {\"text\": \"y\"}}, \"zaxis\": {\"title\": {\"text\": \"z\"}}}, \"template\": {\"data\": {\"bar\": [{\"error_x\": {\"color\": \"#2a3f5f\"}, \"error_y\": {\"color\": \"#2a3f5f\"}, \"marker\": {\"line\": {\"color\": \"#E5ECF6\", \"width\": 0.5}}, \"type\": \"bar\"}], \"barpolar\": [{\"marker\": {\"line\": {\"color\": \"#E5ECF6\", \"width\": 0.5}}, \"type\": \"barpolar\"}], \"carpet\": [{\"aaxis\": {\"endlinecolor\": \"#2a3f5f\", \"gridcolor\": \"white\", \"linecolor\": \"white\", \"minorgridcolor\": \"white\", \"startlinecolor\": \"#2a3f5f\"}, \"baxis\": {\"endlinecolor\": \"#2a3f5f\", \"gridcolor\": \"white\", \"linecolor\": \"white\", \"minorgridcolor\": \"white\", \"startlinecolor\": \"#2a3f5f\"}, \"type\": \"carpet\"}], \"choropleth\": [{\"colorbar\": {\"outlinewidth\": 0, \"ticks\": \"\"}, \"type\": \"choropleth\"}], \"contour\": [{\"colorbar\": {\"outlinewidth\": 0, \"ticks\": \"\"}, \"colorscale\": [[0.0, \"#0d0887\"], [0.1111111111111111, \"#46039f\"], [0.2222222222222222, \"#7201a8\"], [0.3333333333333333, \"#9c179e\"], [0.4444444444444444, \"#bd3786\"], [0.5555555555555556, \"#d8576b\"], [0.6666666666666666, \"#ed7953\"], [0.7777777777777778, \"#fb9f3a\"], [0.8888888888888888, \"#fdca26\"], [1.0, \"#f0f921\"]], \"type\": \"contour\"}], \"contourcarpet\": [{\"colorbar\": {\"outlinewidth\": 0, \"ticks\": \"\"}, \"type\": \"contourcarpet\"}], \"heatmap\": [{\"colorbar\": {\"outlinewidth\": 0, \"ticks\": \"\"}, \"colorscale\": [[0.0, \"#0d0887\"], [0.1111111111111111, \"#46039f\"], [0.2222222222222222, \"#7201a8\"], [0.3333333333333333, \"#9c179e\"], [0.4444444444444444, \"#bd3786\"], [0.5555555555555556, \"#d8576b\"], [0.6666666666666666, \"#ed7953\"], [0.7777777777777778, \"#fb9f3a\"], [0.8888888888888888, \"#fdca26\"], [1.0, \"#f0f921\"]], \"type\": \"heatmap\"}], \"heatmapgl\": [{\"colorbar\": {\"outlinewidth\": 0, \"ticks\": \"\"}, \"colorscale\": [[0.0, \"#0d0887\"], [0.1111111111111111, \"#46039f\"], [0.2222222222222222, \"#7201a8\"], [0.3333333333333333, \"#9c179e\"], [0.4444444444444444, \"#bd3786\"], [0.5555555555555556, \"#d8576b\"], [0.6666666666666666, \"#ed7953\"], [0.7777777777777778, \"#fb9f3a\"], [0.8888888888888888, \"#fdca26\"], [1.0, \"#f0f921\"]], \"type\": \"heatmapgl\"}], \"histogram\": [{\"marker\": {\"colorbar\": {\"outlinewidth\": 0, \"ticks\": \"\"}}, \"type\": \"histogram\"}], \"histogram2d\": [{\"colorbar\": {\"outlinewidth\": 0, \"ticks\": \"\"}, \"colorscale\": [[0.0, \"#0d0887\"], [0.1111111111111111, \"#46039f\"], [0.2222222222222222, \"#7201a8\"], [0.3333333333333333, \"#9c179e\"], [0.4444444444444444, \"#bd3786\"], [0.5555555555555556, \"#d8576b\"], [0.6666666666666666, \"#ed7953\"], [0.7777777777777778, \"#fb9f3a\"], [0.8888888888888888, \"#fdca26\"], [1.0, \"#f0f921\"]], \"type\": \"histogram2d\"}], \"histogram2dcontour\": [{\"colorbar\": {\"outlinewidth\": 0, \"ticks\": \"\"}, \"colorscale\": [[0.0, \"#0d0887\"], [0.1111111111111111, \"#46039f\"], [0.2222222222222222, \"#7201a8\"], [0.3333333333333333, \"#9c179e\"], [0.4444444444444444, \"#bd3786\"], [0.5555555555555556, \"#d8576b\"], [0.6666666666666666, \"#ed7953\"], [0.7777777777777778, \"#fb9f3a\"], [0.8888888888888888, \"#fdca26\"], [1.0, \"#f0f921\"]], \"type\": \"histogram2dcontour\"}], \"mesh3d\": [{\"colorbar\": {\"outlinewidth\": 0, \"ticks\": \"\"}, \"type\": \"mesh3d\"}], \"parcoords\": [{\"line\": {\"colorbar\": {\"outlinewidth\": 0, \"ticks\": \"\"}}, \"type\": \"parcoords\"}], \"pie\": [{\"automargin\": true, \"type\": \"pie\"}], \"scatter\": [{\"marker\": {\"colorbar\": {\"outlinewidth\": 0, \"ticks\": \"\"}}, \"type\": \"scatter\"}], \"scatter3d\": [{\"line\": {\"colorbar\": {\"outlinewidth\": 0, \"ticks\": \"\"}}, \"marker\": {\"colorbar\": {\"outlinewidth\": 0, \"ticks\": \"\"}}, \"type\": \"scatter3d\"}], \"scattercarpet\": [{\"marker\": {\"colorbar\": {\"outlinewidth\": 0, \"ticks\": \"\"}}, \"type\": \"scattercarpet\"}], \"scattergeo\": [{\"marker\": {\"colorbar\": {\"outlinewidth\": 0, \"ticks\": \"\"}}, \"type\": \"scattergeo\"}], \"scattergl\": [{\"marker\": {\"colorbar\": {\"outlinewidth\": 0, \"ticks\": \"\"}}, \"type\": \"scattergl\"}], \"scattermapbox\": [{\"marker\": {\"colorbar\": {\"outlinewidth\": 0, \"ticks\": \"\"}}, \"type\": \"scattermapbox\"}], \"scatterpolar\": [{\"marker\": {\"colorbar\": {\"outlinewidth\": 0, \"ticks\": \"\"}}, \"type\": \"scatterpolar\"}], \"scatterpolargl\": [{\"marker\": {\"colorbar\": {\"outlinewidth\": 0, \"ticks\": \"\"}}, \"type\": \"scatterpolargl\"}], \"scatterternary\": [{\"marker\": {\"colorbar\": {\"outlinewidth\": 0, \"ticks\": \"\"}}, \"type\": \"scatterternary\"}], \"surface\": [{\"colorbar\": {\"outlinewidth\": 0, \"ticks\": \"\"}, \"colorscale\": [[0.0, \"#0d0887\"], [0.1111111111111111, \"#46039f\"], [0.2222222222222222, \"#7201a8\"], [0.3333333333333333, \"#9c179e\"], [0.4444444444444444, \"#bd3786\"], [0.5555555555555556, \"#d8576b\"], [0.6666666666666666, \"#ed7953\"], [0.7777777777777778, \"#fb9f3a\"], [0.8888888888888888, \"#fdca26\"], [1.0, \"#f0f921\"]], \"type\": \"surface\"}], \"table\": [{\"cells\": {\"fill\": {\"color\": \"#EBF0F8\"}, \"line\": {\"color\": \"white\"}}, \"header\": {\"fill\": {\"color\": \"#C8D4E3\"}, \"line\": {\"color\": \"white\"}}, \"type\": \"table\"}]}, \"layout\": {\"annotationdefaults\": {\"arrowcolor\": \"#2a3f5f\", \"arrowhead\": 0, \"arrowwidth\": 1}, \"coloraxis\": {\"colorbar\": {\"outlinewidth\": 0, \"ticks\": \"\"}}, \"colorscale\": {\"diverging\": [[0, \"#8e0152\"], [0.1, \"#c51b7d\"], [0.2, \"#de77ae\"], [0.3, \"#f1b6da\"], [0.4, \"#fde0ef\"], [0.5, \"#f7f7f7\"], [0.6, \"#e6f5d0\"], [0.7, \"#b8e186\"], [0.8, \"#7fbc41\"], [0.9, \"#4d9221\"], [1, \"#276419\"]], \"sequential\": [[0.0, \"#0d0887\"], [0.1111111111111111, \"#46039f\"], [0.2222222222222222, \"#7201a8\"], [0.3333333333333333, \"#9c179e\"], [0.4444444444444444, \"#bd3786\"], [0.5555555555555556, \"#d8576b\"], [0.6666666666666666, \"#ed7953\"], [0.7777777777777778, \"#fb9f3a\"], [0.8888888888888888, \"#fdca26\"], [1.0, \"#f0f921\"]], \"sequentialminus\": [[0.0, \"#0d0887\"], [0.1111111111111111, \"#46039f\"], [0.2222222222222222, \"#7201a8\"], [0.3333333333333333, \"#9c179e\"], [0.4444444444444444, \"#bd3786\"], [0.5555555555555556, \"#d8576b\"], [0.6666666666666666, \"#ed7953\"], [0.7777777777777778, \"#fb9f3a\"], [0.8888888888888888, \"#fdca26\"], [1.0, \"#f0f921\"]]}, \"colorway\": [\"#636efa\", \"#EF553B\", \"#00cc96\", \"#ab63fa\", \"#FFA15A\", \"#19d3f3\", \"#FF6692\", \"#B6E880\", \"#FF97FF\", \"#FECB52\"], \"font\": {\"color\": \"#2a3f5f\"}, \"geo\": {\"bgcolor\": \"white\", \"lakecolor\": \"white\", \"landcolor\": \"#E5ECF6\", \"showlakes\": true, \"showland\": true, \"subunitcolor\": \"white\"}, \"hoverlabel\": {\"align\": \"left\"}, \"hovermode\": \"closest\", \"mapbox\": {\"style\": \"light\"}, \"paper_bgcolor\": \"white\", \"plot_bgcolor\": \"#E5ECF6\", \"polar\": {\"angularaxis\": {\"gridcolor\": \"white\", \"linecolor\": \"white\", \"ticks\": \"\"}, \"bgcolor\": \"#E5ECF6\", \"radialaxis\": {\"gridcolor\": \"white\", \"linecolor\": \"white\", \"ticks\": \"\"}}, \"scene\": {\"xaxis\": {\"backgroundcolor\": \"#E5ECF6\", \"gridcolor\": \"white\", \"gridwidth\": 2, \"linecolor\": \"white\", \"showbackground\": true, \"ticks\": \"\", \"zerolinecolor\": \"white\"}, \"yaxis\": {\"backgroundcolor\": \"#E5ECF6\", \"gridcolor\": \"white\", \"gridwidth\": 2, \"linecolor\": \"white\", \"showbackground\": true, \"ticks\": \"\", \"zerolinecolor\": \"white\"}, \"zaxis\": {\"backgroundcolor\": \"#E5ECF6\", \"gridcolor\": \"white\", \"gridwidth\": 2, \"linecolor\": \"white\", \"showbackground\": true, \"ticks\": \"\", \"zerolinecolor\": \"white\"}}, \"shapedefaults\": {\"line\": {\"color\": \"#2a3f5f\"}}, \"ternary\": {\"aaxis\": {\"gridcolor\": \"white\", \"linecolor\": \"white\", \"ticks\": \"\"}, \"baxis\": {\"gridcolor\": \"white\", \"linecolor\": \"white\", \"ticks\": \"\"}, \"bgcolor\": \"#E5ECF6\", \"caxis\": {\"gridcolor\": \"white\", \"linecolor\": \"white\", \"ticks\": \"\"}}, \"title\": {\"x\": 0.05}, \"xaxis\": {\"automargin\": true, \"gridcolor\": \"white\", \"linecolor\": \"white\", \"ticks\": \"\", \"title\": {\"standoff\": 15}, \"zerolinecolor\": \"white\", \"zerolinewidth\": 2}, \"yaxis\": {\"automargin\": true, \"gridcolor\": \"white\", \"linecolor\": \"white\", \"ticks\": \"\", \"title\": {\"standoff\": 15}, \"zerolinecolor\": \"white\", \"zerolinewidth\": 2}}}},\n",
       "                        {\"responsive\": true}\n",
       "                    ).then(function(){\n",
       "                            \n",
       "var gd = document.getElementById('84f568c7-f716-4665-bb5b-5b8bfe71a41d');\n",
       "var x = new MutationObserver(function (mutations, observer) {{\n",
       "        var display = window.getComputedStyle(gd).display;\n",
       "        if (!display || display === 'none') {{\n",
       "            console.log([gd, 'removed!']);\n",
       "            Plotly.purge(gd);\n",
       "            observer.disconnect();\n",
       "        }}\n",
       "}});\n",
       "\n",
       "// Listen for the removal of the full notebook cells\n",
       "var notebookContainer = gd.closest('#notebook-container');\n",
       "if (notebookContainer) {{\n",
       "    x.observe(notebookContainer, {childList: true});\n",
       "}}\n",
       "\n",
       "// Listen for the clearing of the current output cell\n",
       "var outputEl = gd.closest('.output');\n",
       "if (outputEl) {{\n",
       "    x.observe(outputEl, {childList: true});\n",
       "}}\n",
       "\n",
       "                        })\n",
       "                };\n",
       "                });\n",
       "            </script>\n",
       "        </div>"
      ]
     },
     "metadata": {},
     "output_type": "display_data"
    }
   ],
   "source": [
    "plot_embedding(embedded, genre_labels, msd_ids)"
   ]
  },
  {
   "cell_type": "code",
   "execution_count": null,
   "metadata": {
    "ExecuteTime": {
     "end_time": "2020-09-18T12:53:12.443960Z",
     "start_time": "2020-09-18T12:53:12.256921Z"
    }
   },
   "outputs": [],
   "source": [
    "outlier = \"TRICWAP128F42988B7\"\n",
    "midi_path= get_midi_path(\n",
    "        outlier,\n",
    "        get_matched_midi_md5(outlier, get_msd_score_matches())\n",
    "    )"
   ]
  },
  {
   "cell_type": "markdown",
   "metadata": {},
   "source": [
    "### Only take two distinct genres"
   ]
  },
  {
   "cell_type": "code",
   "execution_count": null,
   "metadata": {
    "ExecuteTime": {
     "end_time": "2020-09-18T14:03:35.318968Z",
     "start_time": "2020-09-18T14:03:35.247693Z"
    }
   },
   "outputs": [],
   "source": [
    "country_g, country_e, country_m = load_encodings(\"country\")"
   ]
  },
  {
   "cell_type": "code",
   "execution_count": null,
   "metadata": {
    "ExecuteTime": {
     "end_time": "2020-09-18T14:03:36.091437Z",
     "start_time": "2020-09-18T14:03:36.082200Z"
    }
   },
   "outputs": [],
   "source": [
    "hh_g, hh_e, hh_m = load_encodings(\"hip hop rnb and dance hall\")"
   ]
  },
  {
   "cell_type": "code",
   "execution_count": null,
   "metadata": {
    "ExecuteTime": {
     "end_time": "2020-09-18T14:03:37.095748Z",
     "start_time": "2020-09-18T14:03:36.666103Z"
    }
   },
   "outputs": [],
   "source": [
    "emb = tsne_embedd([*country_e, *hh_e], n_components=2)"
   ]
  },
  {
   "cell_type": "code",
   "execution_count": null,
   "metadata": {
    "ExecuteTime": {
     "end_time": "2020-09-18T14:03:37.916289Z",
     "start_time": "2020-09-18T14:03:37.299711Z"
    }
   },
   "outputs": [],
   "source": [
    "plot_embedding(\n",
    "    emb,\n",
    "    [*country_g, *hh_g],\n",
    "    [*country_m, *hh_m]\n",
    ")"
   ]
  },
  {
   "cell_type": "code",
   "execution_count": null,
   "metadata": {
    "ExecuteTime": {
     "end_time": "2020-09-18T14:03:39.632211Z",
     "start_time": "2020-09-18T14:03:39.629001Z"
    }
   },
   "outputs": [],
   "source": [
    "country_sample = \"TRACLRS12903CE9386\"\n",
    "hh_sample = \"TRCZMLQ128F9307825\""
   ]
  },
  {
   "cell_type": "markdown",
   "metadata": {},
   "source": [
    "#### Show title and artist for all of them"
   ]
  },
  {
   "cell_type": "code",
   "execution_count": null,
   "metadata": {
    "ExecuteTime": {
     "end_time": "2020-09-18T14:03:40.813013Z",
     "start_time": "2020-09-18T14:03:40.788150Z"
    }
   },
   "outputs": [],
   "source": [
    "cols = [\"artist\", \"track\", \"mb_genre\", \"md5\"]\n",
    "meta[meta.msdID.isin([*country_m, *hh_m])].loc[:, cols]"
   ]
  },
  {
   "cell_type": "markdown",
   "metadata": {},
   "source": [
    "### Calculate genre means"
   ]
  },
  {
   "cell_type": "code",
   "execution_count": null,
   "metadata": {
    "ExecuteTime": {
     "end_time": "2020-09-18T14:03:45.176543Z",
     "start_time": "2020-09-18T14:03:45.163682Z"
    }
   },
   "outputs": [],
   "source": [
    "country_mean = np.mean(np.vstack(country_e), axis=0)\n",
    "hh_mean = np.mean(np.vstack(hh_e), axis=0)"
   ]
  },
  {
   "cell_type": "code",
   "execution_count": null,
   "metadata": {
    "ExecuteTime": {
     "end_time": "2020-09-18T14:03:45.937726Z",
     "start_time": "2020-09-18T14:03:45.931722Z"
    }
   },
   "outputs": [],
   "source": [
    "distance.euclidean(country_mean, hh_mean)"
   ]
  },
  {
   "cell_type": "markdown",
   "metadata": {},
   "source": [
    "## Latent space shenanigans"
   ]
  },
  {
   "cell_type": "code",
   "execution_count": null,
   "metadata": {
    "ExecuteTime": {
     "end_time": "2020-09-18T14:04:09.007707Z",
     "start_time": "2020-09-18T14:04:09.005019Z"
    }
   },
   "outputs": [],
   "source": [
    "country_to_hh = hh_mean - country_mean\n",
    "hh_to_country = country_mean - hh_mean"
   ]
  },
  {
   "cell_type": "code",
   "execution_count": null,
   "metadata": {
    "ExecuteTime": {
     "end_time": "2020-09-18T14:04:13.111849Z",
     "start_time": "2020-09-18T14:04:09.393380Z"
    },
    "scrolled": false
   },
   "outputs": [],
   "source": [
    "model = get_model(constants[\"NAME_MUSICVAE_MULTITRACK\"])"
   ]
  },
  {
   "cell_type": "code",
   "execution_count": null,
   "metadata": {
    "ExecuteTime": {
     "end_time": "2020-09-18T14:15:57.505943Z",
     "start_time": "2020-09-18T14:15:57.043833Z"
    }
   },
   "outputs": [],
   "source": [
    "country_ns = ns.midi_file_to_note_sequence(\n",
    "        get_midi_path(country_sample, get_matched_midi_md5(country_sample, get_msd_score_matches()))\n",
    "    )"
   ]
  },
  {
   "cell_type": "code",
   "execution_count": null,
   "metadata": {
    "ExecuteTime": {
     "end_time": "2020-09-18T14:16:00.593650Z",
     "start_time": "2020-09-18T14:15:59.133109Z"
    }
   },
   "outputs": [],
   "source": [
    "country_sample_enc, _, _ = model.encode([country_ns])"
   ]
  },
  {
   "cell_type": "code",
   "execution_count": null,
   "metadata": {
    "ExecuteTime": {
     "end_time": "2020-09-18T14:16:00.860026Z",
     "start_time": "2020-09-18T14:16:00.857583Z"
    }
   },
   "outputs": [],
   "source": [
    "hh_country = country_sample_enc + country_to_hh"
   ]
  },
  {
   "cell_type": "code",
   "execution_count": null,
   "metadata": {
    "ExecuteTime": {
     "end_time": "2020-09-18T14:16:04.398722Z",
     "start_time": "2020-09-18T14:16:01.102195Z"
    }
   },
   "outputs": [],
   "source": [
    "seq = model.decode(hh_country)"
   ]
  },
  {
   "cell_type": "code",
   "execution_count": null,
   "metadata": {
    "ExecuteTime": {
     "end_time": "2020-09-18T14:16:04.867887Z",
     "start_time": "2020-09-18T14:16:04.644051Z"
    }
   },
   "outputs": [],
   "source": [
    "ns.play_sequence(seq[0],synth=ns.fluidsynth)"
   ]
  },
  {
   "cell_type": "markdown",
   "metadata": {},
   "source": [
    "### Split example tracks"
   ]
  },
  {
   "cell_type": "code",
   "execution_count": null,
   "metadata": {
    "ExecuteTime": {
     "end_time": "2020-09-18T14:49:46.745539Z",
     "start_time": "2020-09-18T14:49:46.740746Z"
    }
   },
   "outputs": [],
   "source": [
    "hop_size_country = get_sec_for_num_bars(country_ns, n_bars=1)"
   ]
  },
  {
   "cell_type": "code",
   "execution_count": null,
   "metadata": {
    "ExecuteTime": {
     "end_time": "2020-09-18T15:24:25.691723Z",
     "start_time": "2020-09-18T15:22:23.569310Z"
    }
   },
   "outputs": [],
   "source": [
    "for bla in country_m:\n",
    "    s = ns.midi_file_to_note_sequence(\n",
    "        get_midi_path(bla, get_matched_midi_md5(bla, get_msd_score_matches()))\n",
    "    )\n",
    "    pm = ns.sequence_proto_to_pretty_midi(s)\n",
    "    if len(pm.instruments) <= 8:\n",
    "        print(meta[meta.msdID == bla].loc[:, [\"msdID\", \"artist\", \"track\"]])\n",
    "        ns.play_sequence(s, synth=ns.fluidsynth)"
   ]
  },
  {
   "cell_type": "code",
   "execution_count": null,
   "metadata": {
    "ExecuteTime": {
     "end_time": "2020-09-18T15:22:14.586249Z",
     "start_time": "2020-09-18T15:22:14.579913Z"
    }
   },
   "outputs": [],
   "source": [
    "hh1 = \"TRZDMWV128E0796976\"\n",
    "hh2 = \"TRKWKER128F1482409\"\n",
    "hh3 = \"TRYFUNE12903CCDCD5\""
   ]
  },
  {
   "cell_type": "code",
   "execution_count": null,
   "metadata": {
    "ExecuteTime": {
     "end_time": "2020-09-18T15:25:53.554075Z",
     "start_time": "2020-09-18T15:25:53.545772Z"
    }
   },
   "outputs": [],
   "source": [
    "c1 = \"TRULTSR12903CBD13D\"\n",
    "c2 = \"TRCRKXS12903CD21F9\"\n",
    "c3 = \"TRQHQLN12903CBD237\""
   ]
  },
  {
   "cell_type": "code",
   "execution_count": null,
   "metadata": {
    "ExecuteTime": {
     "end_time": "2020-09-18T15:34:04.544088Z",
     "start_time": "2020-09-18T15:34:04.021743Z"
    }
   },
   "outputs": [],
   "source": [
    "c = ns.midi_file_to_note_sequence(\n",
    "    get_midi_path(c3, get_matched_midi_md5(c3, get_msd_score_matches()))\n",
    ")"
   ]
  },
  {
   "cell_type": "code",
   "execution_count": null,
   "metadata": {
    "ExecuteTime": {
     "end_time": "2020-09-18T15:34:56.911797Z",
     "start_time": "2020-09-18T15:34:56.831308Z"
    }
   },
   "outputs": [],
   "source": [
    "splits = model.encode(ns.split_note_sequence(\n",
    "    c,\n",
    "    get_sec_for_num_bars(c, n_bars=1)\n",
    "))"
   ]
  },
  {
   "cell_type": "code",
   "execution_count": null,
   "metadata": {
    "ExecuteTime": {
     "end_time": "2020-09-18T15:31:37.931320Z",
     "start_time": "2020-09-18T15:31:35.631572Z"
    }
   },
   "outputs": [],
   "source": [
    "hh_dec = model.decode(hh_enc[1])"
   ]
  },
  {
   "cell_type": "code",
   "execution_count": null,
   "metadata": {
    "ExecuteTime": {
     "end_time": "2020-09-18T15:31:39.551106Z",
     "start_time": "2020-09-18T15:31:39.540370Z"
    }
   },
   "outputs": [],
   "source": [
    "len(hh_dec)"
   ]
  },
  {
   "cell_type": "code",
   "execution_count": null,
   "metadata": {
    "ExecuteTime": {
     "end_time": "2020-09-18T15:31:40.657238Z",
     "start_time": "2020-09-18T15:31:40.476298Z"
    }
   },
   "outputs": [],
   "source": [
    "ns.play_sequence(hh_dec[0], synth=ns.fluidsynth)"
   ]
  },
  {
   "cell_type": "code",
   "execution_count": null,
   "metadata": {},
   "outputs": [],
   "source": []
  }
 ],
 "metadata": {
  "kernelspec": {
   "display_name": "Python [conda env:project] *",
   "language": "python",
   "name": "conda-env-project-py"
  },
  "language_info": {
   "codemirror_mode": {
    "name": "ipython",
    "version": 3
   },
   "file_extension": ".py",
   "mimetype": "text/x-python",
   "name": "python",
   "nbconvert_exporter": "python",
   "pygments_lexer": "ipython3",
   "version": "3.7.8"
  },
  "toc": {
   "base_numbering": 1,
   "nav_menu": {},
   "number_sections": true,
   "sideBar": true,
   "skip_h1_title": false,
   "title_cell": "Table of Contents",
   "title_sidebar": "Contents",
   "toc_cell": false,
   "toc_position": {},
   "toc_section_display": true,
   "toc_window_display": false
  },
  "varInspector": {
   "cols": {
    "lenName": 16,
    "lenType": 16,
    "lenVar": 40
   },
   "kernels_config": {
    "python": {
     "delete_cmd_postfix": "",
     "delete_cmd_prefix": "del ",
     "library": "var_list.py",
     "varRefreshCmd": "print(var_dic_list())"
    },
    "r": {
     "delete_cmd_postfix": ") ",
     "delete_cmd_prefix": "rm(",
     "library": "var_list.r",
     "varRefreshCmd": "cat(var_dic_list()) "
    }
   },
   "types_to_exclude": [
    "module",
    "function",
    "builtin_function_or_method",
    "instance",
    "_Feature"
   ],
   "window_display": false
  }
 },
 "nbformat": 4,
 "nbformat_minor": 4
}
