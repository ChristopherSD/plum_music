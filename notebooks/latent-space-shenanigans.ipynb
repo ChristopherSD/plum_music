{
 "cells": [
  {
   "cell_type": "code",
   "execution_count": null,
   "metadata": {
    "ExecuteTime": {
     "end_time": "2020-09-18T15:41:05.938469Z",
     "start_time": "2020-09-18T15:41:05.875732Z"
    },
    "pycharm": {
     "is_executing": true
    }
   },
   "outputs": [],
   "source": [
    "%cd .."
   ]
  },
  {
   "cell_type": "code",
   "execution_count": null,
   "metadata": {
    "ExecuteTime": {
     "end_time": "2020-09-18T15:47:12.325522Z",
     "start_time": "2020-09-18T15:47:12.317241Z"
    },
    "pycharm": {
     "is_executing": true
    }
   },
   "outputs": [],
   "source": [
    "import pickle\n",
    "from pathlib import Path\n",
    "\n",
    "from config.config import get_constants_dict\n",
    "from models.processing import get_encoding_for_genre\n",
    "from utils.magenta_models_utils import get_model\n",
    "from utils.magenta_note_seq_utils import get_sec_for_num_bars\n",
    "from utils.data_utils import get_all_songs_from_genres_of_size\n",
    "from utils.lakh_utils import get_midi_path, get_matched_midi_md5, get_msd_score_matches\n",
    "from utils.msd_utils import get_artist\n",
    "\n",
    "import pandas as pd\n",
    "import numpy as np\n",
    "import plotly.express as px\n",
    "from sklearn.manifold import TSNE\n",
    "\n",
    "import note_seq as ns\n",
    "from magenta.models.music_vae.trained_model import NoExtractedExamplesError"
   ]
  },
  {
   "cell_type": "code",
   "execution_count": null,
   "metadata": {
    "ExecuteTime": {
     "end_time": "2020-09-18T15:45:06.584755Z",
     "start_time": "2020-09-18T15:45:06.571042Z"
    },
    "code_folding": [
     0,
     21,
     32,
     43,
     44,
     62
    ],
    "pycharm": {
     "is_executing": true
    }
   },
   "outputs": [],
   "source": [
    "def load_encodings(genre=\"all\"):        \n",
    "    encodings_path = Path(constants[\"DATA_PATH\"], \"encodings\")\n",
    "    if genre == \"all\":\n",
    "        encodings_files = list(encodings_path.glob(\"*.pkl\"))\n",
    "    else:\n",
    "        encodings_files = list(encodings_path.glob(f\"*{genre}*.pkl\"))\n",
    "        \n",
    "    genre_labels, encodings, msd_ids = [], [], []\n",
    "    for file in encodings_files:\n",
    "        with file.open('rb') as f:\n",
    "            if \"genre\" in file.stem:\n",
    "                genre_labels.extend(pickle.load(f))\n",
    "            elif \"encoding\" in file.stem:\n",
    "                encodings.extend(pickle.load(f))\n",
    "            elif \"msd\" in file.stem:\n",
    "                msd_ids.extend(pickle.load(f))\n",
    "\n",
    "    assert len(genre_labels) == len(encodings) == len(msd_ids)\n",
    "    return genre_labels, encodings, msd_ids\n",
    "\n",
    "        \n",
    "def play_msd(msd_id):\n",
    "    return ns.play_sequence(\n",
    "        ns.midi_file_to_note_sequence(\n",
    "            get_midi_path(\n",
    "                msd_id,\n",
    "                get_matched_midi_md5(msd_id, get_msd_score_matches())\n",
    "            )\n",
    "        )\n",
    "    )\n",
    "\n",
    "\n",
    "def tsne_embedd(\n",
    "    encodings_arr,\n",
    "    n_components=2,\n",
    "    perplexity=30,\n",
    "    early_exaggeration=12.0,\n",
    "    learning_rate=200.0,\n",
    "    n_iter=1000,\n",
    "    n_iter_without_progress=300,\n",
    "    metric='euclidean',\n",
    "    init='random',\n",
    "    random_state=42\n",
    "):\n",
    "    if isinstance(encodings_arr, list):\n",
    "        enc = np.vstack(encodings_arr)\n",
    "    else:\n",
    "        enc = encodings_arr\n",
    "        \n",
    "    return TSNE(\n",
    "    n_components=n_components,\n",
    "    perplexity=perplexity,\n",
    "    early_exaggeration=early_exaggeration,\n",
    "    learning_rate=learning_rate,\n",
    "    n_iter=n_iter,\n",
    "    n_iter_without_progress=n_iter_without_progress,\n",
    "    metric=metric,\n",
    "    init=init,\n",
    "    random_state=random_state\n",
    ").fit_transform(enc)\n",
    "    \n",
    "    \n",
    "def plot_embedding(embedded, labels, ids, df=None):\n",
    "    if not df:\n",
    "        df = pd.read_csv(constants[\"LMD_METADATA_CSV_FILE\"])\n",
    "        df = df[df.msdID.isin(ids)]\n",
    "        \n",
    "    if embedded.shape[1] == 2:\n",
    "        return px.scatter(\n",
    "            data_frame=df,\n",
    "            x=embedded[:,0],\n",
    "            y=embedded[:,1],\n",
    "            color=labels,\n",
    "            hover_name=ids,\n",
    "            hover_data=[\"artist\", \"track\"],\n",
    "            labels={\"color\": \"genre\"}\n",
    "        )\n",
    "    elif embedded.shape[1] == 3:\n",
    "        return px.scatter_3d(\n",
    "            data_frame=df,\n",
    "            x=embedded[:,0],\n",
    "            y=embedded[:,1],\n",
    "            z=embedded[:,2],\n",
    "            color=labels,\n",
    "            hover_name=ids,\n",
    "            hover_data=[\"artist\", \"track\"],\n",
    "            labels={\"color\": \"genre\"}\n",
    "        )\n",
    "    else:\n",
    "        pass\n",
    "      "
   ]
  },
  {
   "cell_type": "code",
   "execution_count": null,
   "metadata": {
    "ExecuteTime": {
     "end_time": "2020-09-18T15:44:56.925754Z",
     "start_time": "2020-09-18T15:44:56.817097Z"
    },
    "pycharm": {
     "is_executing": true
    }
   },
   "outputs": [],
   "source": [
    "constants = get_constants_dict()\n",
    "meta = pd.read_csv(constants[\"LMD_METADATA_CSV_FILE\"])"
   ]
  },
  {
   "cell_type": "markdown",
   "metadata": {},
   "source": [
    "## Load data"
   ]
  },
  {
   "cell_type": "code",
   "execution_count": null,
   "metadata": {
    "ExecuteTime": {
     "end_time": "2020-09-18T15:45:09.206271Z",
     "start_time": "2020-09-18T15:45:09.138283Z"
    },
    "pycharm": {
     "is_executing": true
    }
   },
   "outputs": [],
   "source": [
    "hh_g, hh_e, hh_m = load_encodings(\"hip hop rnb and dance hall\")\n",
    "country_g, country_e, country_m = load_encodings(\"country\")"
   ]
  },
  {
   "cell_type": "markdown",
   "metadata": {},
   "source": [
    "## Latent Space"
   ]
  },
  {
   "cell_type": "code",
   "execution_count": null,
   "metadata": {
    "ExecuteTime": {
     "end_time": "2020-09-18T15:42:26.204022Z",
     "start_time": "2020-09-18T15:42:23.408384Z"
    },
    "hide_input": false,
    "scrolled": true,
    "pycharm": {
     "is_executing": true
    }
   },
   "outputs": [],
   "source": [
    "model = get_model(constants[\"NAME_MUSICVAE_MULTITRACK\"])"
   ]
  },
  {
   "cell_type": "markdown",
   "metadata": {},
   "source": [
    "## Splitting"
   ]
  },
  {
   "cell_type": "code",
   "execution_count": null,
   "metadata": {
    "ExecuteTime": {
     "end_time": "2020-09-18T15:24:25.691723Z",
     "start_time": "2020-09-18T15:22:23.569310Z"
    },
    "pycharm": {
     "is_executing": true
    }
   },
   "outputs": [],
   "source": [
    "for bla in country_m:\n",
    "    s = ns.midi_file_to_note_sequence(\n",
    "        get_midi_path(bla, get_matched_midi_md5(bla, get_msd_score_matches()))\n",
    "    )\n",
    "    pm = ns.sequence_proto_to_pretty_midi(s)\n",
    "    if len(pm.instruments) <= 8:\n",
    "        print(meta[meta.msdID == bla].loc[:, [\"msdID\", \"artist\", \"track\"]])\n",
    "        ns.play_sequence(s, synth=ns.fluidsynth)"
   ]
  },
  {
   "cell_type": "code",
   "execution_count": null,
   "metadata": {
    "ExecuteTime": {
     "end_time": "2020-09-18T15:45:21.943387Z",
     "start_time": "2020-09-18T15:45:21.938350Z"
    },
    "pycharm": {
     "is_executing": true
    }
   },
   "outputs": [],
   "source": [
    "hh1 = \"TRZDMWV128E0796976\"\n",
    "hh2 = \"TRKWKER128F1482409\"\n",
    "hh3 = \"TRYFUNE12903CCDCD5\""
   ]
  },
  {
   "cell_type": "code",
   "execution_count": null,
   "metadata": {
    "ExecuteTime": {
     "end_time": "2020-09-18T15:45:22.616093Z",
     "start_time": "2020-09-18T15:45:22.613223Z"
    },
    "pycharm": {
     "is_executing": true
    }
   },
   "outputs": [],
   "source": [
    "c1 = \"TRULTSR12903CBD13D\"\n",
    "c2 = \"TRCRKXS12903CD21F9\"\n",
    "c3 = \"TRQHQLN12903CBD237\""
   ]
  },
  {
   "cell_type": "code",
   "execution_count": null,
   "metadata": {
    "ExecuteTime": {
     "end_time": "2020-09-18T15:54:54.604102Z",
     "start_time": "2020-09-18T15:54:54.280744Z"
    },
    "pycharm": {
     "is_executing": true
    }
   },
   "outputs": [],
   "source": [
    "c = ns.midi_file_to_note_sequence(\n",
    "    get_midi_path(c2, get_matched_midi_md5(c2, get_msd_score_matches()))\n",
    ")"
   ]
  },
  {
   "cell_type": "code",
   "execution_count": null,
   "metadata": {
    "ExecuteTime": {
     "end_time": "2020-09-18T15:54:55.192259Z",
     "start_time": "2020-09-18T15:54:55.132302Z"
    },
    "pycharm": {
     "is_executing": true
    }
   },
   "outputs": [],
   "source": [
    "splits = ns.split_note_sequence(\n",
    "    c,\n",
    "    get_sec_for_num_bars(c, n_bars=1)\n",
    ")"
   ]
  },
  {
   "cell_type": "markdown",
   "metadata": {},
   "source": [
    "## Encoding"
   ]
  },
  {
   "cell_type": "code",
   "execution_count": null,
   "metadata": {
    "ExecuteTime": {
     "end_time": "2020-09-18T15:54:58.346606Z",
     "start_time": "2020-09-18T15:54:55.957165Z"
    },
    "pycharm": {
     "is_executing": true
    }
   },
   "outputs": [],
   "source": [
    "encs = []\n",
    "for split in splits:\n",
    "    try:\n",
    "        encs.append(model.encode([split]))\n",
    "    except NoExtractedExamplesError:\n",
    "        encs.append(split)\n",
    "        continue"
   ]
  },
  {
   "cell_type": "code",
   "execution_count": null,
   "metadata": {
    "ExecuteTime": {
     "end_time": "2020-09-18T15:54:58.959403Z",
     "start_time": "2020-09-18T15:54:58.954965Z"
    },
    "pycharm": {
     "is_executing": true
    }
   },
   "outputs": [],
   "source": [
    "[type(e) for e in encs]"
   ]
  },
  {
   "cell_type": "markdown",
   "metadata": {},
   "source": [
    "## Decoding"
   ]
  },
  {
   "cell_type": "code",
   "execution_count": null,
   "metadata": {
    "ExecuteTime": {
     "end_time": "2020-09-18T15:48:58.815895Z",
     "start_time": "2020-09-18T15:48:58.756306Z"
    },
    "pycharm": {
     "is_executing": true
    }
   },
   "outputs": [],
   "source": [
    "decs = []\n",
    "for enc in encs:\n",
    "    try:\n",
    "        decs.append(model.decode([enc]))\n",
    "    except NoExtractedExamplesError:\n",
    "        decs.append(enc)"
   ]
  },
  {
   "cell_type": "code",
   "execution_count": null,
   "metadata": {
    "ExecuteTime": {
     "end_time": "2020-09-18T15:31:40.657238Z",
     "start_time": "2020-09-18T15:31:40.476298Z"
    },
    "pycharm": {
     "is_executing": true
    }
   },
   "outputs": [],
   "source": [
    "ns.play_sequence(decs[0], synth=ns.fluidsynth)"
   ]
  }
 ],
 "metadata": {
  "kernelspec": {
   "display_name": "Python [conda env:project] *",
   "language": "python",
   "name": "conda-env-project-py"
  },
  "language_info": {
   "codemirror_mode": {
    "name": "ipython",
    "version": 3
   },
   "file_extension": ".py",
   "mimetype": "text/x-python",
   "name": "python",
   "nbconvert_exporter": "python",
   "pygments_lexer": "ipython3",
   "version": "3.7.8"
  },
  "toc": {
   "base_numbering": 1,
   "nav_menu": {},
   "number_sections": true,
   "sideBar": true,
   "skip_h1_title": false,
   "title_cell": "Table of Contents",
   "title_sidebar": "Contents",
   "toc_cell": false,
   "toc_position": {},
   "toc_section_display": true,
   "toc_window_display": false
  },
  "varInspector": {
   "cols": {
    "lenName": 16,
    "lenType": 16,
    "lenVar": 40
   },
   "kernels_config": {
    "python": {
     "delete_cmd_postfix": "",
     "delete_cmd_prefix": "del ",
     "library": "var_list.py",
     "varRefreshCmd": "print(var_dic_list())"
    },
    "r": {
     "delete_cmd_postfix": ") ",
     "delete_cmd_prefix": "rm(",
     "library": "var_list.r",
     "varRefreshCmd": "cat(var_dic_list()) "
    }
   },
   "types_to_exclude": [
    "module",
    "function",
    "builtin_function_or_method",
    "instance",
    "_Feature"
   ],
   "window_display": false
  }
 },
 "nbformat": 4,
 "nbformat_minor": 4
}